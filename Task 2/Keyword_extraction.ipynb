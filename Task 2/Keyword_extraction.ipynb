{
  "nbformat": 4,
  "nbformat_minor": 0,
  "metadata": {
    "colab": {
      "name": "Keyword_extraction.ipynb",
      "provenance": [],
      "collapsed_sections": [],
      "toc_visible": true,
      "machine_shape": "hm"
    },
    "kernelspec": {
      "name": "python3",
      "display_name": "Python 3"
    },
    "accelerator": "GPU"
  },
  "cells": [
    {
      "cell_type": "code",
      "metadata": {
        "id": "AeXxfZ9lwrTM",
        "colab_type": "code",
        "outputId": "256d3ac7-6af8-4122-817a-09d8f853aa93",
        "colab": {
          "base_uri": "https://localhost:8080/",
          "height": 230
        }
      },
      "source": [
        "!pip install rake-nltk"
      ],
      "execution_count": 1,
      "outputs": [
        {
          "output_type": "stream",
          "text": [
            "Collecting rake-nltk\n",
            "  Downloading https://files.pythonhosted.org/packages/8e/c4/b4ff57e541ac5624ad4b20b89c2bafd4e98f29fd83139f3a81858bdb3815/rake_nltk-1.0.4.tar.gz\n",
            "Requirement already satisfied: nltk in /usr/local/lib/python3.6/dist-packages (from rake-nltk) (3.2.5)\n",
            "Requirement already satisfied: six in /usr/local/lib/python3.6/dist-packages (from nltk->rake-nltk) (1.12.0)\n",
            "Building wheels for collected packages: rake-nltk\n",
            "  Building wheel for rake-nltk (setup.py) ... \u001b[?25l\u001b[?25hdone\n",
            "  Created wheel for rake-nltk: filename=rake_nltk-1.0.4-py2.py3-none-any.whl size=7821 sha256=06f336b675c962f4e658b0a887bd4e796b2edad3d994f315e6fb46a8b594a5dc\n",
            "  Stored in directory: /root/.cache/pip/wheels/ef/92/fc/271b3709e71a96ffe934b27818946b795ac6b9b8ff8682483f\n",
            "Successfully built rake-nltk\n",
            "Installing collected packages: rake-nltk\n",
            "Successfully installed rake-nltk-1.0.4\n"
          ],
          "name": "stdout"
        }
      ]
    },
    {
      "cell_type": "code",
      "metadata": {
        "id": "MmJjuKsoosBV",
        "colab_type": "code",
        "outputId": "cf49e928-4a0a-41e2-ba3a-e57c9d00d907",
        "colab": {
          "base_uri": "https://localhost:8080/",
          "height": 52
        }
      },
      "source": [
        "!pip install nltk"
      ],
      "execution_count": 2,
      "outputs": [
        {
          "output_type": "stream",
          "text": [
            "Requirement already satisfied: nltk in /usr/local/lib/python3.6/dist-packages (3.2.5)\n",
            "Requirement already satisfied: six in /usr/local/lib/python3.6/dist-packages (from nltk) (1.12.0)\n"
          ],
          "name": "stdout"
        }
      ]
    },
    {
      "cell_type": "code",
      "metadata": {
        "id": "VI0bilzC33GV",
        "colab_type": "code",
        "outputId": "17dd2ce2-efd8-48c8-dfa3-1590c32a4085",
        "colab": {
          "base_uri": "https://localhost:8080/",
          "height": 140
        }
      },
      "source": [
        "import json\n",
        "from rake_nltk import Rake\n",
        "import pickle\n",
        "import pandas as pd\n",
        "import re\n",
        "import os\n",
        "\n",
        "import nltk\n",
        "nltk.download('stopwords')\n",
        "nltk.download('wordnet')\n",
        "nltk.download('averaged_perceptron_tagger')\n",
        "from nltk.corpus import stopwords\n",
        "stop = stopwords.words('english')"
      ],
      "execution_count": 3,
      "outputs": [
        {
          "output_type": "stream",
          "text": [
            "[nltk_data] Downloading package stopwords to /root/nltk_data...\n",
            "[nltk_data]   Package stopwords is already up-to-date!\n",
            "[nltk_data] Downloading package wordnet to /root/nltk_data...\n",
            "[nltk_data]   Unzipping corpora/wordnet.zip.\n",
            "[nltk_data] Downloading package averaged_perceptron_tagger to\n",
            "[nltk_data]     /root/nltk_data...\n",
            "[nltk_data]   Unzipping taggers/averaged_perceptron_tagger.zip.\n"
          ],
          "name": "stdout"
        }
      ]
    },
    {
      "cell_type": "code",
      "metadata": {
        "id": "IhyYPwgz1FO2",
        "colab_type": "code",
        "outputId": "19f9ce54-d555-4590-b862-8b37c8afa401",
        "colab": {
          "base_uri": "https://localhost:8080/",
          "height": 125
        }
      },
      "source": [
        "from google.colab import drive\n",
        "drive.mount('/content/drive')"
      ],
      "execution_count": 4,
      "outputs": [
        {
          "output_type": "stream",
          "text": [
            "Go to this URL in a browser: https://accounts.google.com/o/oauth2/auth?client_id=947318989803-6bn6qk8qdgf4n4g3pfee6491hc0brc4i.apps.googleusercontent.com&redirect_uri=urn%3aietf%3awg%3aoauth%3a2.0%3aoob&response_type=code&scope=email%20https%3a%2f%2fwww.googleapis.com%2fauth%2fdocs.test%20https%3a%2f%2fwww.googleapis.com%2fauth%2fdrive%20https%3a%2f%2fwww.googleapis.com%2fauth%2fdrive.photos.readonly%20https%3a%2f%2fwww.googleapis.com%2fauth%2fpeopleapi.readonly\n",
            "\n",
            "Enter your authorization code:\n",
            "··········\n",
            "Mounted at /content/drive\n"
          ],
          "name": "stdout"
        }
      ]
    },
    {
      "cell_type": "markdown",
      "metadata": {
        "id": "IEHMhxf2b07x",
        "colab_type": "text"
      },
      "source": [
        "# Reading Data"
      ]
    },
    {
      "cell_type": "code",
      "metadata": {
        "id": "iclSb-T4RgxQ",
        "colab_type": "code",
        "outputId": "b64dcb8c-ea9d-4e92-8865-f934b22528d5",
        "colab": {
          "base_uri": "https://localhost:8080/",
          "height": 34
        }
      },
      "source": [
        "if os.path.isfile('/content/drive/My Drive/Data/business.pkl'):\n",
        "    print (\"Business pickle exists. Reading pkl\")\n",
        "\n",
        "    file = open('/content/drive/My Drive/Data/business.pkl', 'rb')\n",
        "    business = pickle.load(file)\n",
        "else:\n",
        "    print('Reading json. Saving pkl')\n",
        "    b = open('/content/drive/My Drive/Data/business.json',encoding=\"utf8\")\n",
        "    business = pd.DataFrame([json.loads(x) for x in b.readlines()])\n",
        "\n",
        "    file = open('/content/drive/My Drive/Data/business.pkl', 'wb')\n",
        "    pickle.dump(business, file)\n",
        "    file.close()"
      ],
      "execution_count": 5,
      "outputs": [
        {
          "output_type": "stream",
          "text": [
            "Business pickle exists. Reading pkl\n"
          ],
          "name": "stdout"
        }
      ]
    },
    {
      "cell_type": "code",
      "metadata": {
        "id": "7RE0IFeD4fGA",
        "colab_type": "code",
        "outputId": "556d7b8d-89fc-47a9-c67c-4a46a3437488",
        "colab": {
          "base_uri": "https://localhost:8080/",
          "height": 534
        }
      },
      "source": [
        "business.head()"
      ],
      "execution_count": 6,
      "outputs": [
        {
          "output_type": "execute_result",
          "data": {
            "text/html": [
              "<div>\n",
              "<style scoped>\n",
              "    .dataframe tbody tr th:only-of-type {\n",
              "        vertical-align: middle;\n",
              "    }\n",
              "\n",
              "    .dataframe tbody tr th {\n",
              "        vertical-align: top;\n",
              "    }\n",
              "\n",
              "    .dataframe thead th {\n",
              "        text-align: right;\n",
              "    }\n",
              "</style>\n",
              "<table border=\"1\" class=\"dataframe\">\n",
              "  <thead>\n",
              "    <tr style=\"text-align: right;\">\n",
              "      <th></th>\n",
              "      <th>business_id</th>\n",
              "      <th>name</th>\n",
              "      <th>address</th>\n",
              "      <th>city</th>\n",
              "      <th>state</th>\n",
              "      <th>postal_code</th>\n",
              "      <th>latitude</th>\n",
              "      <th>longitude</th>\n",
              "      <th>stars</th>\n",
              "      <th>review_count</th>\n",
              "      <th>is_open</th>\n",
              "      <th>attributes</th>\n",
              "      <th>categories</th>\n",
              "      <th>hours</th>\n",
              "    </tr>\n",
              "  </thead>\n",
              "  <tbody>\n",
              "    <tr>\n",
              "      <th>0</th>\n",
              "      <td>1SWheh84yJXfytovILXOAQ</td>\n",
              "      <td>Arizona Biltmore Golf Club</td>\n",
              "      <td>2818 E Camino Acequia Drive</td>\n",
              "      <td>Phoenix</td>\n",
              "      <td>AZ</td>\n",
              "      <td>85016</td>\n",
              "      <td>33.522143</td>\n",
              "      <td>-112.018481</td>\n",
              "      <td>3.0</td>\n",
              "      <td>5</td>\n",
              "      <td>0</td>\n",
              "      <td>{'GoodForKids': 'False'}</td>\n",
              "      <td>Golf, Active Life</td>\n",
              "      <td>None</td>\n",
              "    </tr>\n",
              "    <tr>\n",
              "      <th>1</th>\n",
              "      <td>QXAEGFB4oINsVuTFxEYKFQ</td>\n",
              "      <td>Emerald Chinese Restaurant</td>\n",
              "      <td>30 Eglinton Avenue W</td>\n",
              "      <td>Mississauga</td>\n",
              "      <td>ON</td>\n",
              "      <td>L5R 3E7</td>\n",
              "      <td>43.605499</td>\n",
              "      <td>-79.652289</td>\n",
              "      <td>2.5</td>\n",
              "      <td>128</td>\n",
              "      <td>1</td>\n",
              "      <td>{'RestaurantsReservations': 'True', 'GoodForMe...</td>\n",
              "      <td>Specialty Food, Restaurants, Dim Sum, Imported...</td>\n",
              "      <td>{'Monday': '9:0-0:0', 'Tuesday': '9:0-0:0', 'W...</td>\n",
              "    </tr>\n",
              "    <tr>\n",
              "      <th>2</th>\n",
              "      <td>gnKjwL_1w79qoiV3IC_xQQ</td>\n",
              "      <td>Musashi Japanese Restaurant</td>\n",
              "      <td>10110 Johnston Rd, Ste 15</td>\n",
              "      <td>Charlotte</td>\n",
              "      <td>NC</td>\n",
              "      <td>28210</td>\n",
              "      <td>35.092564</td>\n",
              "      <td>-80.859132</td>\n",
              "      <td>4.0</td>\n",
              "      <td>170</td>\n",
              "      <td>1</td>\n",
              "      <td>{'GoodForKids': 'True', 'NoiseLevel': 'u'avera...</td>\n",
              "      <td>Sushi Bars, Restaurants, Japanese</td>\n",
              "      <td>{'Monday': '17:30-21:30', 'Wednesday': '17:30-...</td>\n",
              "    </tr>\n",
              "    <tr>\n",
              "      <th>3</th>\n",
              "      <td>xvX2CttrVhyG2z1dFg_0xw</td>\n",
              "      <td>Farmers Insurance - Paul Lorenz</td>\n",
              "      <td>15655 W Roosevelt St, Ste 237</td>\n",
              "      <td>Goodyear</td>\n",
              "      <td>AZ</td>\n",
              "      <td>85338</td>\n",
              "      <td>33.455613</td>\n",
              "      <td>-112.395596</td>\n",
              "      <td>5.0</td>\n",
              "      <td>3</td>\n",
              "      <td>1</td>\n",
              "      <td>None</td>\n",
              "      <td>Insurance, Financial Services</td>\n",
              "      <td>{'Monday': '8:0-17:0', 'Tuesday': '8:0-17:0', ...</td>\n",
              "    </tr>\n",
              "    <tr>\n",
              "      <th>4</th>\n",
              "      <td>HhyxOkGAM07SRYtlQ4wMFQ</td>\n",
              "      <td>Queen City Plumbing</td>\n",
              "      <td>4209 Stuart Andrew Blvd, Ste F</td>\n",
              "      <td>Charlotte</td>\n",
              "      <td>NC</td>\n",
              "      <td>28217</td>\n",
              "      <td>35.190012</td>\n",
              "      <td>-80.887223</td>\n",
              "      <td>4.0</td>\n",
              "      <td>4</td>\n",
              "      <td>1</td>\n",
              "      <td>{'BusinessAcceptsBitcoin': 'False', 'ByAppoint...</td>\n",
              "      <td>Plumbing, Shopping, Local Services, Home Servi...</td>\n",
              "      <td>{'Monday': '7:0-23:0', 'Tuesday': '7:0-23:0', ...</td>\n",
              "    </tr>\n",
              "  </tbody>\n",
              "</table>\n",
              "</div>"
            ],
            "text/plain": [
              "              business_id  ...                                              hours\n",
              "0  1SWheh84yJXfytovILXOAQ  ...                                               None\n",
              "1  QXAEGFB4oINsVuTFxEYKFQ  ...  {'Monday': '9:0-0:0', 'Tuesday': '9:0-0:0', 'W...\n",
              "2  gnKjwL_1w79qoiV3IC_xQQ  ...  {'Monday': '17:30-21:30', 'Wednesday': '17:30-...\n",
              "3  xvX2CttrVhyG2z1dFg_0xw  ...  {'Monday': '8:0-17:0', 'Tuesday': '8:0-17:0', ...\n",
              "4  HhyxOkGAM07SRYtlQ4wMFQ  ...  {'Monday': '7:0-23:0', 'Tuesday': '7:0-23:0', ...\n",
              "\n",
              "[5 rows x 14 columns]"
            ]
          },
          "metadata": {
            "tags": []
          },
          "execution_count": 6
        }
      ]
    },
    {
      "cell_type": "markdown",
      "metadata": {
        "id": "uuNgDXpGEI2m",
        "colab_type": "text"
      },
      "source": [
        "Filtering businesses.\n",
        "Keeping only business that :\n",
        "\n",
        "\n",
        "*   Contain **food** or **restaurant** as category\n",
        "*   Are still open\n",
        "*   Have received more than 50 reviews\n",
        "*   Are from Nevada state\n",
        "\n",
        "\n",
        "\n"
      ]
    },
    {
      "cell_type": "code",
      "metadata": {
        "id": "7CZoQ5e62bBa",
        "colab_type": "code",
        "colab": {}
      },
      "source": [
        "relevant_business = business[business['categories'].str.lower().str.contains('food|restaurants') == True]\n",
        "relevant_business = relevant_business[relevant_business['is_open'] == 1]\n",
        "relevant_business = relevant_business[relevant_business['review_count'] > 50]\n",
        "relevant_business = relevant_business[relevant_business['state'] == 'NV']\n",
        "# relevant_business.head()"
      ],
      "execution_count": 0,
      "outputs": []
    },
    {
      "cell_type": "code",
      "metadata": {
        "id": "bhKIS5QVsWag",
        "colab_type": "code",
        "colab": {}
      },
      "source": [
        "relevant_business = relevant_business.sort_values(by= 'review_count', ascending=True)\n",
        "top_15_business = relevant_business.head(15)"
      ],
      "execution_count": 0,
      "outputs": []
    },
    {
      "cell_type": "code",
      "metadata": {
        "id": "ujWFs1TM_TwY",
        "colab_type": "code",
        "outputId": "50f33927-d909-45d1-9d56-0a26359218a1",
        "colab": {
          "base_uri": "https://localhost:8080/",
          "height": 585
        }
      },
      "source": [
        "top_15_business.head()"
      ],
      "execution_count": 9,
      "outputs": [
        {
          "output_type": "execute_result",
          "data": {
            "text/html": [
              "<div>\n",
              "<style scoped>\n",
              "    .dataframe tbody tr th:only-of-type {\n",
              "        vertical-align: middle;\n",
              "    }\n",
              "\n",
              "    .dataframe tbody tr th {\n",
              "        vertical-align: top;\n",
              "    }\n",
              "\n",
              "    .dataframe thead th {\n",
              "        text-align: right;\n",
              "    }\n",
              "</style>\n",
              "<table border=\"1\" class=\"dataframe\">\n",
              "  <thead>\n",
              "    <tr style=\"text-align: right;\">\n",
              "      <th></th>\n",
              "      <th>business_id</th>\n",
              "      <th>name</th>\n",
              "      <th>address</th>\n",
              "      <th>city</th>\n",
              "      <th>state</th>\n",
              "      <th>postal_code</th>\n",
              "      <th>latitude</th>\n",
              "      <th>longitude</th>\n",
              "      <th>stars</th>\n",
              "      <th>review_count</th>\n",
              "      <th>is_open</th>\n",
              "      <th>attributes</th>\n",
              "      <th>categories</th>\n",
              "      <th>hours</th>\n",
              "    </tr>\n",
              "  </thead>\n",
              "  <tbody>\n",
              "    <tr>\n",
              "      <th>32586</th>\n",
              "      <td>8RGoNUEC4QGbpF4af7CDdQ</td>\n",
              "      <td>Little Caesar's</td>\n",
              "      <td>3545 S Fort Apache Rd, Unit  115</td>\n",
              "      <td>Las Vegas</td>\n",
              "      <td>NV</td>\n",
              "      <td>89147</td>\n",
              "      <td>36.125120</td>\n",
              "      <td>-115.297975</td>\n",
              "      <td>3.0</td>\n",
              "      <td>51</td>\n",
              "      <td>1</td>\n",
              "      <td>{'WiFi': ''no'', 'RestaurantsGoodForGroups': '...</td>\n",
              "      <td>Fast Food, Restaurants, Pizza</td>\n",
              "      <td>{'Monday': '10:0-22:0', 'Tuesday': '10:0-22:0'...</td>\n",
              "    </tr>\n",
              "    <tr>\n",
              "      <th>134909</th>\n",
              "      <td>3p7mUvZtYocYf8gYEENGxw</td>\n",
              "      <td>Simon &amp; Joe's Eatery</td>\n",
              "      <td>3720 W Tropicana Ave, Ste 3</td>\n",
              "      <td>Las Vegas</td>\n",
              "      <td>NV</td>\n",
              "      <td>89103</td>\n",
              "      <td>36.101732</td>\n",
              "      <td>-115.189169</td>\n",
              "      <td>4.0</td>\n",
              "      <td>51</td>\n",
              "      <td>1</td>\n",
              "      <td>{'BusinessParking': '{'garage': False, 'street...</td>\n",
              "      <td>Restaurants, Bakeries, Pizza, Food, Mediterran...</td>\n",
              "      <td>{'Monday': '10:0-21:0', 'Tuesday': '10:0-21:0'...</td>\n",
              "    </tr>\n",
              "    <tr>\n",
              "      <th>28920</th>\n",
              "      <td>c_3abcaptUG0d4A4LWMe7w</td>\n",
              "      <td>Carl's Jr.</td>\n",
              "      <td>6949 N Durango Dr</td>\n",
              "      <td>Las Vegas</td>\n",
              "      <td>NV</td>\n",
              "      <td>89149</td>\n",
              "      <td>36.286254</td>\n",
              "      <td>-115.288156</td>\n",
              "      <td>2.5</td>\n",
              "      <td>51</td>\n",
              "      <td>1</td>\n",
              "      <td>{'WiFi': 'u'no'', 'BusinessParking': '{'garage...</td>\n",
              "      <td>Fast Food, Restaurants</td>\n",
              "      <td>None</td>\n",
              "    </tr>\n",
              "    <tr>\n",
              "      <th>15877</th>\n",
              "      <td>5n2dA_QqO4c_7pSK0Of6AQ</td>\n",
              "      <td>Fatburger</td>\n",
              "      <td>2845 S Nellis Blvd</td>\n",
              "      <td>Las Vegas</td>\n",
              "      <td>NV</td>\n",
              "      <td>89121</td>\n",
              "      <td>36.137864</td>\n",
              "      <td>-115.065947</td>\n",
              "      <td>2.5</td>\n",
              "      <td>51</td>\n",
              "      <td>1</td>\n",
              "      <td>{'RestaurantsReservations': 'False', 'OutdoorS...</td>\n",
              "      <td>Restaurants, American (Traditional), Food, Fas...</td>\n",
              "      <td>{'Monday': '10:0-22:0', 'Tuesday': '10:0-22:0'...</td>\n",
              "    </tr>\n",
              "    <tr>\n",
              "      <th>93161</th>\n",
              "      <td>WUswpeAjbiww_xkSS8jTEA</td>\n",
              "      <td>Pupusas La Familiar Restaurant</td>\n",
              "      <td>4524 E Tropicana Ave</td>\n",
              "      <td>Las Vegas</td>\n",
              "      <td>NV</td>\n",
              "      <td>89121</td>\n",
              "      <td>36.100836</td>\n",
              "      <td>-115.075063</td>\n",
              "      <td>3.0</td>\n",
              "      <td>51</td>\n",
              "      <td>1</td>\n",
              "      <td>{'GoodForKids': 'True', 'RestaurantsGoodForGro...</td>\n",
              "      <td>Mexican, Burgers, Latin American, Breakfast &amp; ...</td>\n",
              "      <td>{'Monday': '12:0-21:0', 'Tuesday': '9:0-21:0',...</td>\n",
              "    </tr>\n",
              "  </tbody>\n",
              "</table>\n",
              "</div>"
            ],
            "text/plain": [
              "                   business_id  ...                                              hours\n",
              "32586   8RGoNUEC4QGbpF4af7CDdQ  ...  {'Monday': '10:0-22:0', 'Tuesday': '10:0-22:0'...\n",
              "134909  3p7mUvZtYocYf8gYEENGxw  ...  {'Monday': '10:0-21:0', 'Tuesday': '10:0-21:0'...\n",
              "28920   c_3abcaptUG0d4A4LWMe7w  ...                                               None\n",
              "15877   5n2dA_QqO4c_7pSK0Of6AQ  ...  {'Monday': '10:0-22:0', 'Tuesday': '10:0-22:0'...\n",
              "93161   WUswpeAjbiww_xkSS8jTEA  ...  {'Monday': '12:0-21:0', 'Tuesday': '9:0-21:0',...\n",
              "\n",
              "[5 rows x 14 columns]"
            ]
          },
          "metadata": {
            "tags": []
          },
          "execution_count": 9
        }
      ]
    },
    {
      "cell_type": "code",
      "metadata": {
        "id": "_qnrq-sGPSca",
        "colab_type": "code",
        "outputId": "87808387-2be8-42b7-aea1-eacc9ec55806",
        "colab": {
          "base_uri": "https://localhost:8080/",
          "height": 34
        }
      },
      "source": [
        "if os.path.isfile('/content/drive/My Drive/Data/review.pkl'):\n",
        "    print (\"Review review pickle exists. Reading pkl\")\n",
        "\n",
        "    file = open('/content/drive/My Drive/Data/review.pkl', 'rb')\n",
        "    review_data = pickle.load(file)\n",
        "else:\n",
        "    print('Reading review json. Saving pkl')\n",
        "    r = open('/content/drive/My Drive/Data/review.json',encoding=\"utf8\")\n",
        "    review_data = pd.DataFrame([json.loads(x) for x in r.readlines()])\n",
        "\n",
        "    file = open('/content/drive/My Drive/Data/review.pkl', 'wb')\n",
        "    pickle.dump(review_data, file)\n",
        "    file.close()"
      ],
      "execution_count": 10,
      "outputs": [
        {
          "output_type": "stream",
          "text": [
            "Review review pickle exists. Reading pkl\n"
          ],
          "name": "stdout"
        }
      ]
    },
    {
      "cell_type": "code",
      "metadata": {
        "id": "4S5najsMM53u",
        "colab_type": "code",
        "outputId": "827480e3-ce5e-4f04-ec1b-9d8765a2a353",
        "colab": {
          "base_uri": "https://localhost:8080/",
          "height": 363
        }
      },
      "source": [
        "review_data.head()"
      ],
      "execution_count": 11,
      "outputs": [
        {
          "output_type": "execute_result",
          "data": {
            "text/html": [
              "<div>\n",
              "<style scoped>\n",
              "    .dataframe tbody tr th:only-of-type {\n",
              "        vertical-align: middle;\n",
              "    }\n",
              "\n",
              "    .dataframe tbody tr th {\n",
              "        vertical-align: top;\n",
              "    }\n",
              "\n",
              "    .dataframe thead th {\n",
              "        text-align: right;\n",
              "    }\n",
              "</style>\n",
              "<table border=\"1\" class=\"dataframe\">\n",
              "  <thead>\n",
              "    <tr style=\"text-align: right;\">\n",
              "      <th></th>\n",
              "      <th>review_id</th>\n",
              "      <th>user_id</th>\n",
              "      <th>business_id</th>\n",
              "      <th>stars</th>\n",
              "      <th>useful</th>\n",
              "      <th>funny</th>\n",
              "      <th>cool</th>\n",
              "      <th>text</th>\n",
              "      <th>date</th>\n",
              "    </tr>\n",
              "  </thead>\n",
              "  <tbody>\n",
              "    <tr>\n",
              "      <th>0</th>\n",
              "      <td>Q1sbwvVQXV2734tPgoKj4Q</td>\n",
              "      <td>hG7b0MtEbXx5QzbzE6C_VA</td>\n",
              "      <td>ujmEBvifdJM6h6RLv4wQIg</td>\n",
              "      <td>1.0</td>\n",
              "      <td>6</td>\n",
              "      <td>1</td>\n",
              "      <td>0</td>\n",
              "      <td>Total bill for this horrible service? Over $8G...</td>\n",
              "      <td>2013-05-07 04:34:36</td>\n",
              "    </tr>\n",
              "    <tr>\n",
              "      <th>1</th>\n",
              "      <td>GJXCdrto3ASJOqKeVWPi6Q</td>\n",
              "      <td>yXQM5uF2jS6es16SJzNHfg</td>\n",
              "      <td>NZnhc2sEQy3RmzKTZnqtwQ</td>\n",
              "      <td>5.0</td>\n",
              "      <td>0</td>\n",
              "      <td>0</td>\n",
              "      <td>0</td>\n",
              "      <td>I *adore* Travis at the Hard Rock's new Kelly ...</td>\n",
              "      <td>2017-01-14 21:30:33</td>\n",
              "    </tr>\n",
              "    <tr>\n",
              "      <th>2</th>\n",
              "      <td>2TzJjDVDEuAW6MR5Vuc1ug</td>\n",
              "      <td>n6-Gk65cPZL6Uz8qRm3NYw</td>\n",
              "      <td>WTqjgwHlXbSFevF32_DJVw</td>\n",
              "      <td>5.0</td>\n",
              "      <td>3</td>\n",
              "      <td>0</td>\n",
              "      <td>0</td>\n",
              "      <td>I have to say that this office really has it t...</td>\n",
              "      <td>2016-11-09 20:09:03</td>\n",
              "    </tr>\n",
              "    <tr>\n",
              "      <th>3</th>\n",
              "      <td>yi0R0Ugj_xUx_Nek0-_Qig</td>\n",
              "      <td>dacAIZ6fTM6mqwW5uxkskg</td>\n",
              "      <td>ikCg8xy5JIg_NGPx-MSIDA</td>\n",
              "      <td>5.0</td>\n",
              "      <td>0</td>\n",
              "      <td>0</td>\n",
              "      <td>0</td>\n",
              "      <td>Went in for a lunch. Steak sandwich was delici...</td>\n",
              "      <td>2018-01-09 20:56:38</td>\n",
              "    </tr>\n",
              "    <tr>\n",
              "      <th>4</th>\n",
              "      <td>11a8sVPMUFtaC7_ABRkmtw</td>\n",
              "      <td>ssoyf2_x0EQMed6fgHeMyQ</td>\n",
              "      <td>b1b1eb3uo-w561D0ZfCEiQ</td>\n",
              "      <td>1.0</td>\n",
              "      <td>7</td>\n",
              "      <td>0</td>\n",
              "      <td>0</td>\n",
              "      <td>Today was my second out of three sessions I ha...</td>\n",
              "      <td>2018-01-30 23:07:38</td>\n",
              "    </tr>\n",
              "  </tbody>\n",
              "</table>\n",
              "</div>"
            ],
            "text/plain": [
              "                review_id  ...                 date\n",
              "0  Q1sbwvVQXV2734tPgoKj4Q  ...  2013-05-07 04:34:36\n",
              "1  GJXCdrto3ASJOqKeVWPi6Q  ...  2017-01-14 21:30:33\n",
              "2  2TzJjDVDEuAW6MR5Vuc1ug  ...  2016-11-09 20:09:03\n",
              "3  yi0R0Ugj_xUx_Nek0-_Qig  ...  2018-01-09 20:56:38\n",
              "4  11a8sVPMUFtaC7_ABRkmtw  ...  2018-01-30 23:07:38\n",
              "\n",
              "[5 rows x 9 columns]"
            ]
          },
          "metadata": {
            "tags": []
          },
          "execution_count": 11
        }
      ]
    },
    {
      "cell_type": "code",
      "metadata": {
        "id": "9zZXqkPhIEHY",
        "colab_type": "code",
        "outputId": "19b605b1-aeb6-4670-e3d5-f63b19e3fe5a",
        "colab": {
          "base_uri": "https://localhost:8080/",
          "height": 34
        }
      },
      "source": [
        "if os.path.isfile('/content/drive/My Drive/Data/users.pkl'):\n",
        "    print (\"Review users pickle exists. Reading pkl\")\n",
        "\n",
        "    file = open('/content/drive/My Drive/Data/users.pkl', 'rb')\n",
        "    users = pickle.load(file)\n",
        "else:\n",
        "    print('Reading user json. Saving pkl')\n",
        "    u = open('/content/drive/My Drive/Data/user.json',encoding=\"utf8\")\n",
        "    users = pd.DataFrame([json.loads(x) for x in u.readlines()])\n",
        "\n",
        "    file = open('/content/drive/My Drive/Data/users.pkl', 'wb')\n",
        "    pickle.dump(users, file)\n",
        "    file.close()"
      ],
      "execution_count": 12,
      "outputs": [
        {
          "output_type": "stream",
          "text": [
            "Review users pickle exists. Reading pkl\n"
          ],
          "name": "stdout"
        }
      ]
    },
    {
      "cell_type": "code",
      "metadata": {
        "id": "PvoPBQPifYZd",
        "colab_type": "code",
        "outputId": "d1b3076e-ade6-4241-82f4-01f96a7ed7e3",
        "colab": {
          "base_uri": "https://localhost:8080/",
          "height": 299
        }
      },
      "source": [
        "users.head()"
      ],
      "execution_count": 13,
      "outputs": [
        {
          "output_type": "execute_result",
          "data": {
            "text/html": [
              "<div>\n",
              "<style scoped>\n",
              "    .dataframe tbody tr th:only-of-type {\n",
              "        vertical-align: middle;\n",
              "    }\n",
              "\n",
              "    .dataframe tbody tr th {\n",
              "        vertical-align: top;\n",
              "    }\n",
              "\n",
              "    .dataframe thead th {\n",
              "        text-align: right;\n",
              "    }\n",
              "</style>\n",
              "<table border=\"1\" class=\"dataframe\">\n",
              "  <thead>\n",
              "    <tr style=\"text-align: right;\">\n",
              "      <th></th>\n",
              "      <th>user_id</th>\n",
              "      <th>name</th>\n",
              "      <th>review_count</th>\n",
              "      <th>yelping_since</th>\n",
              "      <th>useful</th>\n",
              "      <th>funny</th>\n",
              "      <th>cool</th>\n",
              "      <th>elite</th>\n",
              "      <th>friends</th>\n",
              "      <th>fans</th>\n",
              "      <th>average_stars</th>\n",
              "      <th>compliment_hot</th>\n",
              "      <th>compliment_more</th>\n",
              "      <th>compliment_profile</th>\n",
              "      <th>compliment_cute</th>\n",
              "      <th>compliment_list</th>\n",
              "      <th>compliment_note</th>\n",
              "      <th>compliment_plain</th>\n",
              "      <th>compliment_cool</th>\n",
              "      <th>compliment_funny</th>\n",
              "      <th>compliment_writer</th>\n",
              "      <th>compliment_photos</th>\n",
              "    </tr>\n",
              "  </thead>\n",
              "  <tbody>\n",
              "    <tr>\n",
              "      <th>0</th>\n",
              "      <td>l6BmjZMeQD3rDxWUbiAiow</td>\n",
              "      <td>Rashmi</td>\n",
              "      <td>95</td>\n",
              "      <td>2013-10-08 23:11:33</td>\n",
              "      <td>84</td>\n",
              "      <td>17</td>\n",
              "      <td>25</td>\n",
              "      <td>2015,2016,2017</td>\n",
              "      <td>c78V-rj8NQcQjOI8KP3UEA, alRMgPcngYSCJ5naFRBz5g...</td>\n",
              "      <td>5</td>\n",
              "      <td>4.03</td>\n",
              "      <td>2</td>\n",
              "      <td>0</td>\n",
              "      <td>0</td>\n",
              "      <td>0</td>\n",
              "      <td>0</td>\n",
              "      <td>1</td>\n",
              "      <td>1</td>\n",
              "      <td>1</td>\n",
              "      <td>1</td>\n",
              "      <td>2</td>\n",
              "      <td>0</td>\n",
              "    </tr>\n",
              "    <tr>\n",
              "      <th>1</th>\n",
              "      <td>4XChL029mKr5hydo79Ljxg</td>\n",
              "      <td>Jenna</td>\n",
              "      <td>33</td>\n",
              "      <td>2013-02-21 22:29:06</td>\n",
              "      <td>48</td>\n",
              "      <td>22</td>\n",
              "      <td>16</td>\n",
              "      <td></td>\n",
              "      <td>kEBTgDvFX754S68FllfCaA, aB2DynOxNOJK9st2ZeGTPg...</td>\n",
              "      <td>4</td>\n",
              "      <td>3.63</td>\n",
              "      <td>1</td>\n",
              "      <td>0</td>\n",
              "      <td>0</td>\n",
              "      <td>0</td>\n",
              "      <td>0</td>\n",
              "      <td>0</td>\n",
              "      <td>0</td>\n",
              "      <td>1</td>\n",
              "      <td>1</td>\n",
              "      <td>0</td>\n",
              "      <td>0</td>\n",
              "    </tr>\n",
              "    <tr>\n",
              "      <th>2</th>\n",
              "      <td>bc8C_eETBWL0olvFSJJd0w</td>\n",
              "      <td>David</td>\n",
              "      <td>16</td>\n",
              "      <td>2013-10-04 00:16:10</td>\n",
              "      <td>28</td>\n",
              "      <td>8</td>\n",
              "      <td>10</td>\n",
              "      <td></td>\n",
              "      <td>4N-HU_T32hLENLntsNKNBg, pSY2vwWLgWfGVAAiKQzMng...</td>\n",
              "      <td>0</td>\n",
              "      <td>3.71</td>\n",
              "      <td>0</td>\n",
              "      <td>0</td>\n",
              "      <td>0</td>\n",
              "      <td>0</td>\n",
              "      <td>0</td>\n",
              "      <td>1</td>\n",
              "      <td>0</td>\n",
              "      <td>0</td>\n",
              "      <td>0</td>\n",
              "      <td>0</td>\n",
              "      <td>0</td>\n",
              "    </tr>\n",
              "    <tr>\n",
              "      <th>3</th>\n",
              "      <td>dD0gZpBctWGdWo9WlGuhlA</td>\n",
              "      <td>Angela</td>\n",
              "      <td>17</td>\n",
              "      <td>2014-05-22 15:57:30</td>\n",
              "      <td>30</td>\n",
              "      <td>4</td>\n",
              "      <td>14</td>\n",
              "      <td></td>\n",
              "      <td>RZ6wS38wnlXyj-OOdTzBxA, l5jxZh1KsgI8rMunm-GN6A...</td>\n",
              "      <td>5</td>\n",
              "      <td>4.85</td>\n",
              "      <td>1</td>\n",
              "      <td>0</td>\n",
              "      <td>0</td>\n",
              "      <td>0</td>\n",
              "      <td>0</td>\n",
              "      <td>0</td>\n",
              "      <td>2</td>\n",
              "      <td>0</td>\n",
              "      <td>0</td>\n",
              "      <td>1</td>\n",
              "      <td>0</td>\n",
              "    </tr>\n",
              "    <tr>\n",
              "      <th>4</th>\n",
              "      <td>MM4RJAeH6yuaN8oZDSt0RA</td>\n",
              "      <td>Nancy</td>\n",
              "      <td>361</td>\n",
              "      <td>2013-10-23 07:02:50</td>\n",
              "      <td>1114</td>\n",
              "      <td>279</td>\n",
              "      <td>665</td>\n",
              "      <td>2015,2016,2017,2018</td>\n",
              "      <td>mbwrZ-RS76V1HoJ0bF_Geg, g64lOV39xSLRZO0aQQ6DeQ...</td>\n",
              "      <td>39</td>\n",
              "      <td>4.08</td>\n",
              "      <td>28</td>\n",
              "      <td>1</td>\n",
              "      <td>0</td>\n",
              "      <td>0</td>\n",
              "      <td>1</td>\n",
              "      <td>16</td>\n",
              "      <td>57</td>\n",
              "      <td>80</td>\n",
              "      <td>80</td>\n",
              "      <td>25</td>\n",
              "      <td>5</td>\n",
              "    </tr>\n",
              "  </tbody>\n",
              "</table>\n",
              "</div>"
            ],
            "text/plain": [
              "                  user_id    name  ...  compliment_writer compliment_photos\n",
              "0  l6BmjZMeQD3rDxWUbiAiow  Rashmi  ...                  2                 0\n",
              "1  4XChL029mKr5hydo79Ljxg   Jenna  ...                  0                 0\n",
              "2  bc8C_eETBWL0olvFSJJd0w   David  ...                  0                 0\n",
              "3  dD0gZpBctWGdWo9WlGuhlA  Angela  ...                  1                 0\n",
              "4  MM4RJAeH6yuaN8oZDSt0RA   Nancy  ...                 25                 5\n",
              "\n",
              "[5 rows x 22 columns]"
            ]
          },
          "metadata": {
            "tags": []
          },
          "execution_count": 13
        }
      ]
    },
    {
      "cell_type": "code",
      "metadata": {
        "id": "okMoeyoLFWT9",
        "colab_type": "code",
        "outputId": "79411078-b609-4197-e056-b60c90489fab",
        "colab": {
          "base_uri": "https://localhost:8080/",
          "height": 34
        }
      },
      "source": [
        "len(set(users['user_id']))"
      ],
      "execution_count": 14,
      "outputs": [
        {
          "output_type": "execute_result",
          "data": {
            "text/plain": [
              "1637138"
            ]
          },
          "metadata": {
            "tags": []
          },
          "execution_count": 14
        }
      ]
    },
    {
      "cell_type": "code",
      "metadata": {
        "id": "df4S2ysuQZO0",
        "colab_type": "code",
        "colab": {}
      },
      "source": [
        "# final_Data = relevant_business.join(review_data.set_index('business_id'), on='business_id', lsuffix='_caller', rsuffix='_other')\n",
        "final_Data = top_15_business.join(review_data.set_index('business_id'), on='business_id', lsuffix='_caller', rsuffix='_other')"
      ],
      "execution_count": 0,
      "outputs": []
    },
    {
      "cell_type": "code",
      "metadata": {
        "id": "TFCEB6XwjqOn",
        "colab_type": "code",
        "outputId": "0e633c09-bfe4-4ebb-f19e-3eb0cbd879ef",
        "colab": {
          "base_uri": "https://localhost:8080/",
          "height": 669
        }
      },
      "source": [
        "final_Data.head()"
      ],
      "execution_count": 0,
      "outputs": [
        {
          "output_type": "execute_result",
          "data": {
            "text/html": [
              "<div>\n",
              "<style scoped>\n",
              "    .dataframe tbody tr th:only-of-type {\n",
              "        vertical-align: middle;\n",
              "    }\n",
              "\n",
              "    .dataframe tbody tr th {\n",
              "        vertical-align: top;\n",
              "    }\n",
              "\n",
              "    .dataframe thead th {\n",
              "        text-align: right;\n",
              "    }\n",
              "</style>\n",
              "<table border=\"1\" class=\"dataframe\">\n",
              "  <thead>\n",
              "    <tr style=\"text-align: right;\">\n",
              "      <th></th>\n",
              "      <th>business_id</th>\n",
              "      <th>name</th>\n",
              "      <th>address</th>\n",
              "      <th>city</th>\n",
              "      <th>state</th>\n",
              "      <th>postal_code</th>\n",
              "      <th>latitude</th>\n",
              "      <th>longitude</th>\n",
              "      <th>stars_caller</th>\n",
              "      <th>review_count</th>\n",
              "      <th>is_open</th>\n",
              "      <th>attributes</th>\n",
              "      <th>categories</th>\n",
              "      <th>hours</th>\n",
              "      <th>review_id</th>\n",
              "      <th>user_id</th>\n",
              "      <th>stars_other</th>\n",
              "      <th>useful</th>\n",
              "      <th>funny</th>\n",
              "      <th>cool</th>\n",
              "      <th>text</th>\n",
              "      <th>date</th>\n",
              "    </tr>\n",
              "  </thead>\n",
              "  <tbody>\n",
              "    <tr>\n",
              "      <th>32586</th>\n",
              "      <td>8RGoNUEC4QGbpF4af7CDdQ</td>\n",
              "      <td>Little Caesar's</td>\n",
              "      <td>3545 S Fort Apache Rd, Unit  115</td>\n",
              "      <td>Las Vegas</td>\n",
              "      <td>NV</td>\n",
              "      <td>89147</td>\n",
              "      <td>36.12512</td>\n",
              "      <td>-115.297975</td>\n",
              "      <td>3.0</td>\n",
              "      <td>51</td>\n",
              "      <td>1</td>\n",
              "      <td>{'WiFi': ''no'', 'RestaurantsGoodForGroups': '...</td>\n",
              "      <td>Fast Food, Restaurants, Pizza</td>\n",
              "      <td>{'Monday': '10:0-22:0', 'Tuesday': '10:0-22:0'...</td>\n",
              "      <td>94Xk1JLan_wOKPMwPiol8A</td>\n",
              "      <td>22laZkhv3jlWIEttT6HU1g</td>\n",
              "      <td>1.0</td>\n",
              "      <td>0</td>\n",
              "      <td>0</td>\n",
              "      <td>0</td>\n",
              "      <td>Pizza was delicious ...I ordered a stuffed cru...</td>\n",
              "      <td>2018-08-23 22:08:24</td>\n",
              "    </tr>\n",
              "    <tr>\n",
              "      <th>32586</th>\n",
              "      <td>8RGoNUEC4QGbpF4af7CDdQ</td>\n",
              "      <td>Little Caesar's</td>\n",
              "      <td>3545 S Fort Apache Rd, Unit  115</td>\n",
              "      <td>Las Vegas</td>\n",
              "      <td>NV</td>\n",
              "      <td>89147</td>\n",
              "      <td>36.12512</td>\n",
              "      <td>-115.297975</td>\n",
              "      <td>3.0</td>\n",
              "      <td>51</td>\n",
              "      <td>1</td>\n",
              "      <td>{'WiFi': ''no'', 'RestaurantsGoodForGroups': '...</td>\n",
              "      <td>Fast Food, Restaurants, Pizza</td>\n",
              "      <td>{'Monday': '10:0-22:0', 'Tuesday': '10:0-22:0'...</td>\n",
              "      <td>aKCanvjC3yCkIgD0v-yIjA</td>\n",
              "      <td>4TOydrfx1__SgB-pFvXVCg</td>\n",
              "      <td>2.0</td>\n",
              "      <td>0</td>\n",
              "      <td>2</td>\n",
              "      <td>1</td>\n",
              "      <td>The pizza is not the best but edible if you ar...</td>\n",
              "      <td>2016-07-15 02:59:51</td>\n",
              "    </tr>\n",
              "    <tr>\n",
              "      <th>32586</th>\n",
              "      <td>8RGoNUEC4QGbpF4af7CDdQ</td>\n",
              "      <td>Little Caesar's</td>\n",
              "      <td>3545 S Fort Apache Rd, Unit  115</td>\n",
              "      <td>Las Vegas</td>\n",
              "      <td>NV</td>\n",
              "      <td>89147</td>\n",
              "      <td>36.12512</td>\n",
              "      <td>-115.297975</td>\n",
              "      <td>3.0</td>\n",
              "      <td>51</td>\n",
              "      <td>1</td>\n",
              "      <td>{'WiFi': ''no'', 'RestaurantsGoodForGroups': '...</td>\n",
              "      <td>Fast Food, Restaurants, Pizza</td>\n",
              "      <td>{'Monday': '10:0-22:0', 'Tuesday': '10:0-22:0'...</td>\n",
              "      <td>HaYNQt6gM41e9iceXz0vaw</td>\n",
              "      <td>-wECSFoZMlaIQdV89AjOYQ</td>\n",
              "      <td>5.0</td>\n",
              "      <td>0</td>\n",
              "      <td>0</td>\n",
              "      <td>0</td>\n",
              "      <td>Thank you to the staff for still having pizza ...</td>\n",
              "      <td>2017-07-19 04:58:49</td>\n",
              "    </tr>\n",
              "    <tr>\n",
              "      <th>32586</th>\n",
              "      <td>8RGoNUEC4QGbpF4af7CDdQ</td>\n",
              "      <td>Little Caesar's</td>\n",
              "      <td>3545 S Fort Apache Rd, Unit  115</td>\n",
              "      <td>Las Vegas</td>\n",
              "      <td>NV</td>\n",
              "      <td>89147</td>\n",
              "      <td>36.12512</td>\n",
              "      <td>-115.297975</td>\n",
              "      <td>3.0</td>\n",
              "      <td>51</td>\n",
              "      <td>1</td>\n",
              "      <td>{'WiFi': ''no'', 'RestaurantsGoodForGroups': '...</td>\n",
              "      <td>Fast Food, Restaurants, Pizza</td>\n",
              "      <td>{'Monday': '10:0-22:0', 'Tuesday': '10:0-22:0'...</td>\n",
              "      <td>Maz1dNaNFcmNOz6UJ91x7Q</td>\n",
              "      <td>hv9pA78bSScx5_cBUt0uoA</td>\n",
              "      <td>5.0</td>\n",
              "      <td>2</td>\n",
              "      <td>0</td>\n",
              "      <td>0</td>\n",
              "      <td>I don't think I've ever gotten a cold pizza fr...</td>\n",
              "      <td>2017-10-03 11:55:24</td>\n",
              "    </tr>\n",
              "    <tr>\n",
              "      <th>32586</th>\n",
              "      <td>8RGoNUEC4QGbpF4af7CDdQ</td>\n",
              "      <td>Little Caesar's</td>\n",
              "      <td>3545 S Fort Apache Rd, Unit  115</td>\n",
              "      <td>Las Vegas</td>\n",
              "      <td>NV</td>\n",
              "      <td>89147</td>\n",
              "      <td>36.12512</td>\n",
              "      <td>-115.297975</td>\n",
              "      <td>3.0</td>\n",
              "      <td>51</td>\n",
              "      <td>1</td>\n",
              "      <td>{'WiFi': ''no'', 'RestaurantsGoodForGroups': '...</td>\n",
              "      <td>Fast Food, Restaurants, Pizza</td>\n",
              "      <td>{'Monday': '10:0-22:0', 'Tuesday': '10:0-22:0'...</td>\n",
              "      <td>BFFfbJuORXLGdX8g_I3j0A</td>\n",
              "      <td>7s8sVNCXnzsPNjBTqQO0WQ</td>\n",
              "      <td>5.0</td>\n",
              "      <td>0</td>\n",
              "      <td>0</td>\n",
              "      <td>0</td>\n",
              "      <td>Great price for very decent pizzas!! But this ...</td>\n",
              "      <td>2017-06-29 08:44:06</td>\n",
              "    </tr>\n",
              "  </tbody>\n",
              "</table>\n",
              "</div>"
            ],
            "text/plain": [
              "                  business_id  ...                 date\n",
              "32586  8RGoNUEC4QGbpF4af7CDdQ  ...  2018-08-23 22:08:24\n",
              "32586  8RGoNUEC4QGbpF4af7CDdQ  ...  2016-07-15 02:59:51\n",
              "32586  8RGoNUEC4QGbpF4af7CDdQ  ...  2017-07-19 04:58:49\n",
              "32586  8RGoNUEC4QGbpF4af7CDdQ  ...  2017-10-03 11:55:24\n",
              "32586  8RGoNUEC4QGbpF4af7CDdQ  ...  2017-06-29 08:44:06\n",
              "\n",
              "[5 rows x 22 columns]"
            ]
          },
          "metadata": {
            "tags": []
          },
          "execution_count": 26
        }
      ]
    },
    {
      "cell_type": "markdown",
      "metadata": {
        "id": "GYFUdgiTJgvP",
        "colab_type": "text"
      },
      "source": [
        "Preprocessing data by :\n",
        "\n",
        "\n",
        "*   Lemmatizing words\n",
        "*   Converting string into lower case\n",
        "*   Removing stop words\n",
        "*   Removing special characters and numbers\n",
        "\n"
      ]
    },
    {
      "cell_type": "code",
      "metadata": {
        "id": "FLmT2bU0ygqe",
        "colab_type": "code",
        "colab": {}
      },
      "source": [
        "w_tokenizer = nltk.tokenize.WhitespaceTokenizer()\n",
        "lemmatizer = nltk.stem.WordNetLemmatizer()"
      ],
      "execution_count": 0,
      "outputs": []
    },
    {
      "cell_type": "code",
      "metadata": {
        "id": "06wYvGHhykOl",
        "colab_type": "code",
        "colab": {}
      },
      "source": [
        "def lemmatize_text(text):\n",
        "    return ' '.join([lemmatizer.lemmatize(w) for w in w_tokenizer.tokenize(text)])"
      ],
      "execution_count": 0,
      "outputs": []
    },
    {
      "cell_type": "code",
      "metadata": {
        "id": "Kk6kMIIJeCec",
        "colab_type": "code",
        "colab": {}
      },
      "source": [
        "def remove_special_characters(text):\n",
        "  final_str = re.sub('[^a-zA-Z.\\s]', '', text)\n",
        "  return final_str"
      ],
      "execution_count": 0,
      "outputs": []
    },
    {
      "cell_type": "code",
      "metadata": {
        "id": "JmJQ-9n-ltYR",
        "colab_type": "code",
        "colab": {}
      },
      "source": [
        "join_all_reviews = lambda a: \" / \".join(a) \n",
        "merged_reviews = final_Data.groupby(by='business_id').agg({'text': join_all_reviews}).reset_index()"
      ],
      "execution_count": 0,
      "outputs": []
    },
    {
      "cell_type": "code",
      "metadata": {
        "id": "W3lYQNZQU25M",
        "colab_type": "code",
        "colab": {}
      },
      "source": [
        "merged_reviews['lowered_string'] = merged_reviews.text.str.lower()"
      ],
      "execution_count": 0,
      "outputs": []
    },
    {
      "cell_type": "code",
      "metadata": {
        "id": "vcYPFcEVqfYe",
        "colab_type": "code",
        "colab": {}
      },
      "source": [
        "merged_reviews['without_stop_words'] = merged_reviews['lowered_string'].apply(lambda x: ' '.join([item for item in x.split() if item not in stop]))"
      ],
      "execution_count": 0,
      "outputs": []
    },
    {
      "cell_type": "code",
      "metadata": {
        "id": "6DhWE9IPyp93",
        "colab_type": "code",
        "colab": {}
      },
      "source": [
        "merged_reviews['lemmatized_string'] = merged_reviews.without_stop_words.apply(lemmatize_text)"
      ],
      "execution_count": 0,
      "outputs": []
    },
    {
      "cell_type": "code",
      "metadata": {
        "id": "b_xkGZ0Gd8kN",
        "colab_type": "code",
        "colab": {}
      },
      "source": [
        "merged_reviews['lemmatized_string'] = merged_reviews.lemmatized_string.apply(remove_special_characters)"
      ],
      "execution_count": 0,
      "outputs": []
    },
    {
      "cell_type": "markdown",
      "metadata": {
        "id": "vgeqQzmEcAwJ",
        "colab_type": "text"
      },
      "source": [
        "# Comparing various Keyphrase Extraction methods"
      ]
    },
    {
      "cell_type": "markdown",
      "metadata": {
        "id": "1LrgKbsrxiNb",
        "colab_type": "text"
      },
      "source": [
        "## Using RAKE"
      ]
    },
    {
      "cell_type": "code",
      "metadata": {
        "id": "eFd2Xxzz46v6",
        "colab_type": "code",
        "colab": {}
      },
      "source": [
        "r = Rake(max_length=3)"
      ],
      "execution_count": 0,
      "outputs": []
    },
    {
      "cell_type": "code",
      "metadata": {
        "id": "gr47z0Kp5BOp",
        "colab_type": "code",
        "colab": {}
      },
      "source": [
        "rake_output = []\n",
        "for text in merged_reviews['lemmatized_string']:\n",
        "  r.extract_keywords_from_text(text)\n",
        "\n",
        "  output = r.get_ranked_phrases()\n",
        "  rake_output.append(output)"
      ],
      "execution_count": 0,
      "outputs": []
    },
    {
      "cell_type": "code",
      "metadata": {
        "id": "H2rtzDKl758p",
        "colab_type": "code",
        "colab": {}
      },
      "source": [
        "merged_reviews['rake_output'] = rake_output"
      ],
      "execution_count": 0,
      "outputs": []
    },
    {
      "cell_type": "code",
      "metadata": {
        "id": "zd0glw5O9DYO",
        "colab_type": "code",
        "outputId": "50a954b9-cf71-4472-998f-0c524e5c95d1",
        "colab": {
          "base_uri": "https://localhost:8080/",
          "height": 346
        }
      },
      "source": [
        "merged_reviews.head()"
      ],
      "execution_count": 28,
      "outputs": [
        {
          "output_type": "execute_result",
          "data": {
            "text/html": [
              "<div>\n",
              "<style scoped>\n",
              "    .dataframe tbody tr th:only-of-type {\n",
              "        vertical-align: middle;\n",
              "    }\n",
              "\n",
              "    .dataframe tbody tr th {\n",
              "        vertical-align: top;\n",
              "    }\n",
              "\n",
              "    .dataframe thead th {\n",
              "        text-align: right;\n",
              "    }\n",
              "</style>\n",
              "<table border=\"1\" class=\"dataframe\">\n",
              "  <thead>\n",
              "    <tr style=\"text-align: right;\">\n",
              "      <th></th>\n",
              "      <th>business_id</th>\n",
              "      <th>text</th>\n",
              "      <th>lowered_string</th>\n",
              "      <th>without_stop_words</th>\n",
              "      <th>lemmatized_string</th>\n",
              "      <th>rake_output</th>\n",
              "    </tr>\n",
              "  </thead>\n",
              "  <tbody>\n",
              "    <tr>\n",
              "      <th>0</th>\n",
              "      <td>3-IoSBy9vRKP2MWZwlf6wA</td>\n",
              "      <td>Hard to find a good diner/greasy spoon in Vega...</td>\n",
              "      <td>hard to find a good diner/greasy spoon in vega...</td>\n",
              "      <td>hard find good diner/greasy spoon vegas food a...</td>\n",
              "      <td>hard find good dinergreasy spoon vega food alw...</td>\n",
              "      <td>[well thought would, wait staff friendly, unfo...</td>\n",
              "    </tr>\n",
              "    <tr>\n",
              "      <th>1</th>\n",
              "      <td>3p7mUvZtYocYf8gYEENGxw</td>\n",
              "      <td>In a quiet strip mall just off of the main Str...</td>\n",
              "      <td>in a quiet strip mall just off of the main str...</td>\n",
              "      <td>quiet strip mall main strip delightful restaur...</td>\n",
              "      <td>quiet strip mall main strip delightful restaur...</td>\n",
              "      <td>[went vega exhibition, ton garlic love, sugges...</td>\n",
              "    </tr>\n",
              "    <tr>\n",
              "      <th>2</th>\n",
              "      <td>5j7BnXXvlS69uLVHrY9Upw</td>\n",
              "      <td>This is a great place recently remodeled and g...</td>\n",
              "      <td>this is a great place recently remodeled and g...</td>\n",
              "      <td>great place recently remodeled great service g...</td>\n",
              "      <td>great place recently remodeled great service g...</td>\n",
              "      <td>[tortilla hard chewy, today quite different, t...</td>\n",
              "    </tr>\n",
              "    <tr>\n",
              "      <th>3</th>\n",
              "      <td>5n2dA_QqO4c_7pSK0Of6AQ</td>\n",
              "      <td>I was told so many great things about this pla...</td>\n",
              "      <td>i was told so many great things about this pla...</td>\n",
              "      <td>told many great things place entire experience...</td>\n",
              "      <td>told many great thing place entire experience ...</td>\n",
              "      <td>[would eat lunch, wanted leave immediately, tr...</td>\n",
              "    </tr>\n",
              "    <tr>\n",
              "      <th>4</th>\n",
              "      <td>8RGoNUEC4QGbpF4af7CDdQ</td>\n",
              "      <td>Pizza was delicious ...I ordered a stuffed cru...</td>\n",
              "      <td>pizza was delicious ...i ordered a stuffed cru...</td>\n",
              "      <td>pizza delicious ...i ordered stuffed crust w e...</td>\n",
              "      <td>pizza delicious ...i ordered stuffed crust w e...</td>\n",
              "      <td>[went take trips, walked pm ross, totally tell...</td>\n",
              "    </tr>\n",
              "  </tbody>\n",
              "</table>\n",
              "</div>"
            ],
            "text/plain": [
              "              business_id  ...                                        rake_output\n",
              "0  3-IoSBy9vRKP2MWZwlf6wA  ...  [well thought would, wait staff friendly, unfo...\n",
              "1  3p7mUvZtYocYf8gYEENGxw  ...  [went vega exhibition, ton garlic love, sugges...\n",
              "2  5j7BnXXvlS69uLVHrY9Upw  ...  [tortilla hard chewy, today quite different, t...\n",
              "3  5n2dA_QqO4c_7pSK0Of6AQ  ...  [would eat lunch, wanted leave immediately, tr...\n",
              "4  8RGoNUEC4QGbpF4af7CDdQ  ...  [went take trips, walked pm ross, totally tell...\n",
              "\n",
              "[5 rows x 6 columns]"
            ]
          },
          "metadata": {
            "tags": []
          },
          "execution_count": 28
        }
      ]
    },
    {
      "cell_type": "markdown",
      "metadata": {
        "id": "of_5V3zb258t",
        "colab_type": "text"
      },
      "source": [
        "## Using PKE"
      ]
    },
    {
      "cell_type": "code",
      "metadata": {
        "id": "R9X1_72Q29zJ",
        "colab_type": "code",
        "outputId": "007b7613-1df8-4754-e1b2-a2f9064533dd",
        "colab": {
          "base_uri": "https://localhost:8080/",
          "height": 706
        }
      },
      "source": [
        "!pip install git+https://github.com/boudinfl/pke.git"
      ],
      "execution_count": 29,
      "outputs": [
        {
          "output_type": "stream",
          "text": [
            "Collecting git+https://github.com/boudinfl/pke.git\n",
            "  Cloning https://github.com/boudinfl/pke.git to /tmp/pip-req-build-is7cc6wz\n",
            "  Running command git clone -q https://github.com/boudinfl/pke.git /tmp/pip-req-build-is7cc6wz\n",
            "Requirement already satisfied: nltk in /usr/local/lib/python3.6/dist-packages (from pke==1.8.1) (3.2.5)\n",
            "Requirement already satisfied: networkx in /usr/local/lib/python3.6/dist-packages (from pke==1.8.1) (2.4)\n",
            "Requirement already satisfied: numpy in /usr/local/lib/python3.6/dist-packages (from pke==1.8.1) (1.17.4)\n",
            "Requirement already satisfied: scipy in /usr/local/lib/python3.6/dist-packages (from pke==1.8.1) (1.3.3)\n",
            "Requirement already satisfied: spacy in /usr/local/lib/python3.6/dist-packages (from pke==1.8.1) (2.1.9)\n",
            "Requirement already satisfied: six in /usr/local/lib/python3.6/dist-packages (from pke==1.8.1) (1.12.0)\n",
            "Requirement already satisfied: sklearn in /usr/local/lib/python3.6/dist-packages (from pke==1.8.1) (0.0)\n",
            "Collecting unidecode\n",
            "\u001b[?25l  Downloading https://files.pythonhosted.org/packages/d0/42/d9edfed04228bacea2d824904cae367ee9efd05e6cce7ceaaedd0b0ad964/Unidecode-1.1.1-py2.py3-none-any.whl (238kB)\n",
            "\u001b[K     |████████████████████████████████| 245kB 2.7MB/s \n",
            "\u001b[?25hRequirement already satisfied: future in /usr/local/lib/python3.6/dist-packages (from pke==1.8.1) (0.16.0)\n",
            "Requirement already satisfied: joblib in /usr/local/lib/python3.6/dist-packages (from pke==1.8.1) (0.14.1)\n",
            "Requirement already satisfied: decorator>=4.3.0 in /usr/local/lib/python3.6/dist-packages (from networkx->pke==1.8.1) (4.4.1)\n",
            "Requirement already satisfied: plac<1.0.0,>=0.9.6 in /usr/local/lib/python3.6/dist-packages (from spacy->pke==1.8.1) (0.9.6)\n",
            "Requirement already satisfied: wasabi<1.1.0,>=0.2.0 in /usr/local/lib/python3.6/dist-packages (from spacy->pke==1.8.1) (0.4.2)\n",
            "Requirement already satisfied: blis<0.3.0,>=0.2.2 in /usr/local/lib/python3.6/dist-packages (from spacy->pke==1.8.1) (0.2.4)\n",
            "Requirement already satisfied: srsly<1.1.0,>=0.0.6 in /usr/local/lib/python3.6/dist-packages (from spacy->pke==1.8.1) (0.2.0)\n",
            "Requirement already satisfied: preshed<2.1.0,>=2.0.1 in /usr/local/lib/python3.6/dist-packages (from spacy->pke==1.8.1) (2.0.1)\n",
            "Requirement already satisfied: cymem<2.1.0,>=2.0.2 in /usr/local/lib/python3.6/dist-packages (from spacy->pke==1.8.1) (2.0.3)\n",
            "Requirement already satisfied: murmurhash<1.1.0,>=0.28.0 in /usr/local/lib/python3.6/dist-packages (from spacy->pke==1.8.1) (1.0.2)\n",
            "Requirement already satisfied: requests<3.0.0,>=2.13.0 in /usr/local/lib/python3.6/dist-packages (from spacy->pke==1.8.1) (2.21.0)\n",
            "Requirement already satisfied: thinc<7.1.0,>=7.0.8 in /usr/local/lib/python3.6/dist-packages (from spacy->pke==1.8.1) (7.0.8)\n",
            "Requirement already satisfied: scikit-learn in /usr/local/lib/python3.6/dist-packages (from sklearn->pke==1.8.1) (0.21.3)\n",
            "Requirement already satisfied: urllib3<1.25,>=1.21.1 in /usr/local/lib/python3.6/dist-packages (from requests<3.0.0,>=2.13.0->spacy->pke==1.8.1) (1.24.3)\n",
            "Requirement already satisfied: idna<2.9,>=2.5 in /usr/local/lib/python3.6/dist-packages (from requests<3.0.0,>=2.13.0->spacy->pke==1.8.1) (2.8)\n",
            "Requirement already satisfied: certifi>=2017.4.17 in /usr/local/lib/python3.6/dist-packages (from requests<3.0.0,>=2.13.0->spacy->pke==1.8.1) (2019.11.28)\n",
            "Requirement already satisfied: chardet<3.1.0,>=3.0.2 in /usr/local/lib/python3.6/dist-packages (from requests<3.0.0,>=2.13.0->spacy->pke==1.8.1) (3.0.4)\n",
            "Requirement already satisfied: tqdm<5.0.0,>=4.10.0 in /usr/local/lib/python3.6/dist-packages (from thinc<7.1.0,>=7.0.8->spacy->pke==1.8.1) (4.28.1)\n",
            "Building wheels for collected packages: pke\n",
            "  Building wheel for pke (setup.py) ... \u001b[?25l\u001b[?25hdone\n",
            "  Created wheel for pke: filename=pke-1.8.1-cp36-none-any.whl size=8754519 sha256=46d29fe90ba4c74eb29e4a80ac0e2a781b5e488bb69d94915f1b01436d6cd1ae\n",
            "  Stored in directory: /tmp/pip-ephem-wheel-cache-8kf5io0t/wheels/8d/24/54/6582e854e9e32dd6c632af6762b3a5d2f6b181c2992e165462\n",
            "Successfully built pke\n",
            "Installing collected packages: unidecode, pke\n",
            "Successfully installed pke-1.8.1 unidecode-1.1.1\n"
          ],
          "name": "stdout"
        }
      ]
    },
    {
      "cell_type": "code",
      "metadata": {
        "id": "7zb3y1-g2-LR",
        "colab_type": "code",
        "colab": {}
      },
      "source": [
        "import pke"
      ],
      "execution_count": 0,
      "outputs": []
    },
    {
      "cell_type": "code",
      "metadata": {
        "id": "49RgDIUT3Dof",
        "colab_type": "code",
        "colab": {}
      },
      "source": [
        "pke_output = []\n",
        "count = 0\n",
        "for text in merged_reviews['lemmatized_string']:\n",
        "  text = text[0 : 1000000]  \n",
        "  extractor = pke.unsupervised.TopicRank()\n",
        "\n",
        "# load the content of the document, here document is expected to be in raw\n",
        "# format (i.e. a simple text file) and preprocessing is carried out using spacy\n",
        "  extractor.load_document(text, language='en')\n",
        "\n",
        "  extractor.candidate_selection()\n",
        "  extractor.candidate_weighting()\n",
        "\n",
        "  output = extractor.get_n_best(n=30)\n",
        "\n",
        "  final_tags = [tag[0] for tag in output]\n",
        "  \n",
        "  pke_output.append(final_tags)"
      ],
      "execution_count": 0,
      "outputs": []
    },
    {
      "cell_type": "code",
      "metadata": {
        "id": "aOvdNjqy3uNT",
        "colab_type": "code",
        "colab": {}
      },
      "source": [
        "merged_reviews['pke_output'] = pke_output"
      ],
      "execution_count": 0,
      "outputs": []
    },
    {
      "cell_type": "code",
      "metadata": {
        "id": "RS-Y-qb63yh2",
        "colab_type": "code",
        "outputId": "5df0a53f-8afd-436c-91ba-f5d430d8b46f",
        "colab": {
          "base_uri": "https://localhost:8080/",
          "height": 380
        }
      },
      "source": [
        "merged_reviews.head()"
      ],
      "execution_count": 33,
      "outputs": [
        {
          "output_type": "execute_result",
          "data": {
            "text/html": [
              "<div>\n",
              "<style scoped>\n",
              "    .dataframe tbody tr th:only-of-type {\n",
              "        vertical-align: middle;\n",
              "    }\n",
              "\n",
              "    .dataframe tbody tr th {\n",
              "        vertical-align: top;\n",
              "    }\n",
              "\n",
              "    .dataframe thead th {\n",
              "        text-align: right;\n",
              "    }\n",
              "</style>\n",
              "<table border=\"1\" class=\"dataframe\">\n",
              "  <thead>\n",
              "    <tr style=\"text-align: right;\">\n",
              "      <th></th>\n",
              "      <th>business_id</th>\n",
              "      <th>text</th>\n",
              "      <th>lowered_string</th>\n",
              "      <th>without_stop_words</th>\n",
              "      <th>lemmatized_string</th>\n",
              "      <th>rake_output</th>\n",
              "      <th>pke_output</th>\n",
              "    </tr>\n",
              "  </thead>\n",
              "  <tbody>\n",
              "    <tr>\n",
              "      <th>0</th>\n",
              "      <td>3-IoSBy9vRKP2MWZwlf6wA</td>\n",
              "      <td>Hard to find a good diner/greasy spoon in Vega...</td>\n",
              "      <td>hard to find a good diner/greasy spoon in vega...</td>\n",
              "      <td>hard find good diner/greasy spoon vegas food a...</td>\n",
              "      <td>hard find good dinergreasy spoon vega food alw...</td>\n",
              "      <td>[well thought would, wait staff friendly, unfo...</td>\n",
              "      <td>[friendly food, good place, good service, buff...</td>\n",
              "    </tr>\n",
              "    <tr>\n",
              "      <th>1</th>\n",
              "      <td>3p7mUvZtYocYf8gYEENGxw</td>\n",
              "      <td>In a quiet strip mall just off of the main Str...</td>\n",
              "      <td>in a quiet strip mall just off of the main str...</td>\n",
              "      <td>quiet strip mall main strip delightful restaur...</td>\n",
              "      <td>quiet strip mall main strip delightful restaur...</td>\n",
              "      <td>[went vega exhibition, ton garlic love, sugges...</td>\n",
              "      <td>[wrong pizza, places, good pizza fair price, s...</td>\n",
              "    </tr>\n",
              "    <tr>\n",
              "      <th>2</th>\n",
              "      <td>5j7BnXXvlS69uLVHrY9Upw</td>\n",
              "      <td>This is a great place recently remodeled and g...</td>\n",
              "      <td>this is a great place recently remodeled and g...</td>\n",
              "      <td>great place recently remodeled great service g...</td>\n",
              "      <td>great place recently remodeled great service g...</td>\n",
              "      <td>[tortilla hard chewy, today quite different, t...</td>\n",
              "      <td>[el pollo yucko, double check order, drier chi...</td>\n",
              "    </tr>\n",
              "    <tr>\n",
              "      <th>3</th>\n",
              "      <td>5n2dA_QqO4c_7pSK0Of6AQ</td>\n",
              "      <td>I was told so many great things about this pla...</td>\n",
              "      <td>i was told so many great things about this pla...</td>\n",
              "      <td>told many great things place entire experience...</td>\n",
              "      <td>told many great thing place entire experience ...</td>\n",
              "      <td>[would eat lunch, wanted leave immediately, tr...</td>\n",
              "      <td>[burger, option good, food good way greasy, or...</td>\n",
              "    </tr>\n",
              "    <tr>\n",
              "      <th>4</th>\n",
              "      <td>8RGoNUEC4QGbpF4af7CDdQ</td>\n",
              "      <td>Pizza was delicious ...I ordered a stuffed cru...</td>\n",
              "      <td>pizza was delicious ...i ordered a stuffed cru...</td>\n",
              "      <td>pizza delicious ...i ordered stuffed crust w e...</td>\n",
              "      <td>pizza delicious ...i ordered stuffed crust w e...</td>\n",
              "      <td>[went take trips, walked pm ross, totally tell...</td>\n",
              "      <td>[pizzas, st time, food, specific order repeat,...</td>\n",
              "    </tr>\n",
              "  </tbody>\n",
              "</table>\n",
              "</div>"
            ],
            "text/plain": [
              "              business_id  ...                                         pke_output\n",
              "0  3-IoSBy9vRKP2MWZwlf6wA  ...  [friendly food, good place, good service, buff...\n",
              "1  3p7mUvZtYocYf8gYEENGxw  ...  [wrong pizza, places, good pizza fair price, s...\n",
              "2  5j7BnXXvlS69uLVHrY9Upw  ...  [el pollo yucko, double check order, drier chi...\n",
              "3  5n2dA_QqO4c_7pSK0Of6AQ  ...  [burger, option good, food good way greasy, or...\n",
              "4  8RGoNUEC4QGbpF4af7CDdQ  ...  [pizzas, st time, food, specific order repeat,...\n",
              "\n",
              "[5 rows x 7 columns]"
            ]
          },
          "metadata": {
            "tags": []
          },
          "execution_count": 33
        }
      ]
    },
    {
      "cell_type": "markdown",
      "metadata": {
        "id": "7QEXCPXlDWGZ",
        "colab_type": "text"
      },
      "source": [
        "## Using scoring_keyphrases_by_ngrams_and_textrank"
      ]
    },
    {
      "cell_type": "code",
      "metadata": {
        "id": "g6szXKEsBl9H",
        "colab_type": "code",
        "colab": {}
      },
      "source": [
        "def extract_candidate_words(text, good_tags=set(['JJ','JJR','JJS','NN','NNP','NNS','NNPS'])):\n",
        "    import itertools, string\n",
        "\n",
        "    punctions = set(string.punctuation)\n",
        "    stop_words = set(nltk.corpus.stopwords.words('english'))\n",
        "    \n",
        "    tagged_words = itertools.chain.from_iterable(nltk.pos_tag_sents(nltk.word_tokenize(sent)\n",
        "                                                                    for sent in nltk.sent_tokenize(text)))\n",
        "    candidates_words = [word.lower() for word, tag in tagged_words\n",
        "                        if tag in good_tags and word.lower() not in stop_words\n",
        "                        and not all(char in punctions for char in word)]\n",
        "\n",
        "    return candidates_words"
      ],
      "execution_count": 0,
      "outputs": []
    },
    {
      "cell_type": "code",
      "metadata": {
        "id": "RpLuHVRGBe3B",
        "colab_type": "code",
        "colab": {}
      },
      "source": [
        "def scoring_keyphrases_by_ngrams_and_textrank(text, n_keywords=0.05):\n",
        "    from itertools import takewhile, tee\n",
        "    import networkx, nltk\n",
        "    \n",
        "    words = [word.lower()\n",
        "             for sent in nltk.sent_tokenize(text)\n",
        "             for word in nltk.word_tokenize(sent)]\n",
        "\n",
        "    candidates_words = extract_candidate_words(text)\n",
        "    \n",
        "    #Building graph\n",
        "    graph = networkx.Graph()\n",
        "    graph.add_nodes_from(set(candidates_words))\n",
        "\n",
        "    #Creating and iterating over word-pairs\n",
        "    def pairwise(iterable):\n",
        "        word1, word2 = tee(iterable)\n",
        "        next(word2, None)\n",
        "        return zip(word1, word2)\n",
        "\n",
        "    for w1, w2 in pairwise(candidates_words):\n",
        "        if w2:\n",
        "            graph.add_edge(*sorted([w1, w2]))\n",
        "\n",
        "    #Scoring nodes using default pagerank algorithm\n",
        "    ranks = networkx.pagerank(graph)\n",
        "\n",
        "    if 0 < n_keywords < 1:\n",
        "        n_keywords = int(round(len(candidates_words) * n_keywords))\n",
        "    word_ranks = {word_rank[0]: word_rank[1]\n",
        "                  for word_rank in sorted(ranks.items(), key=lambda x: x[1], reverse=True)[:n_keywords]}\n",
        "    keywords = set(word_ranks.keys())\n",
        "\n",
        "    # networkx.draw(graph, with_labels=True)\n",
        "    # plt.show()\n",
        "\n",
        "    \n",
        "    #Forming keyphrases from keywords\n",
        "    keyphrases = {}\n",
        "    j = 0\n",
        "    for i, word in enumerate(words):\n",
        "        if i < j:\n",
        "            continue\n",
        "        if word in keywords:\n",
        "            kp_words = list(takewhile(lambda x: x in keywords, words[i:i+10]))\n",
        "            avg_pagerank = sum(word_ranks[w] for w in kp_words) / float(len(kp_words))\n",
        "            keyphrases[' '.join(kp_words)] = avg_pagerank\n",
        "            j = i + len(kp_words)\n",
        "    \n",
        "    sorted_answer = sorted(keyphrases.items(), key=lambda x: x[1], reverse=True)\n",
        "\n",
        "    final_answer = []\n",
        "    check_tag_present = {}\n",
        "    for tags in sorted_answer:\n",
        "      temp = tags[0].split()\n",
        "      \n",
        "      sorted_temp = sorted(temp)\n",
        "      sorted_temp_str = ' '.join([t for t in sorted_temp])\n",
        "      if len(sorted_temp) > 1 and not check_tag_present.get(sorted_temp_str):\n",
        "        final_answer.append(tags[0])\n",
        "        check_tag_present[sorted_temp_str] = 1\n",
        "        \n",
        "    return final_answer"
      ],
      "execution_count": 0,
      "outputs": []
    },
    {
      "cell_type": "code",
      "metadata": {
        "id": "H__CycpHvXvc",
        "colab_type": "code",
        "colab": {}
      },
      "source": [
        "tks_output = []\n",
        "count = 0\n",
        "\n",
        "for text in merged_reviews['lemmatized_string']:\n",
        "  output = scoring_keyphrases_by_ngrams_and_textrank(text)\n",
        "  tks_output.append(output)"
      ],
      "execution_count": 0,
      "outputs": []
    },
    {
      "cell_type": "code",
      "metadata": {
        "id": "90m2QbJ1G6V8",
        "colab_type": "code",
        "colab": {}
      },
      "source": [
        "merged_reviews['tks_output'] = tks_output"
      ],
      "execution_count": 0,
      "outputs": []
    },
    {
      "cell_type": "code",
      "metadata": {
        "id": "c5zt2qcPiA5R",
        "colab_type": "code",
        "outputId": "3f608257-b382-4c34-8bf7-b8828433038c",
        "colab": {
          "base_uri": "https://localhost:8080/",
          "height": 464
        }
      },
      "source": [
        "merged_reviews.head()"
      ],
      "execution_count": 39,
      "outputs": [
        {
          "output_type": "execute_result",
          "data": {
            "text/html": [
              "<div>\n",
              "<style scoped>\n",
              "    .dataframe tbody tr th:only-of-type {\n",
              "        vertical-align: middle;\n",
              "    }\n",
              "\n",
              "    .dataframe tbody tr th {\n",
              "        vertical-align: top;\n",
              "    }\n",
              "\n",
              "    .dataframe thead th {\n",
              "        text-align: right;\n",
              "    }\n",
              "</style>\n",
              "<table border=\"1\" class=\"dataframe\">\n",
              "  <thead>\n",
              "    <tr style=\"text-align: right;\">\n",
              "      <th></th>\n",
              "      <th>business_id</th>\n",
              "      <th>text</th>\n",
              "      <th>lowered_string</th>\n",
              "      <th>without_stop_words</th>\n",
              "      <th>lemmatized_string</th>\n",
              "      <th>rake_output</th>\n",
              "      <th>pke_output</th>\n",
              "      <th>tks_output</th>\n",
              "    </tr>\n",
              "  </thead>\n",
              "  <tbody>\n",
              "    <tr>\n",
              "      <th>0</th>\n",
              "      <td>3-IoSBy9vRKP2MWZwlf6wA</td>\n",
              "      <td>Hard to find a good diner/greasy spoon in Vega...</td>\n",
              "      <td>hard to find a good diner/greasy spoon in vega...</td>\n",
              "      <td>hard find good diner/greasy spoon vegas food a...</td>\n",
              "      <td>hard find good dinergreasy spoon vega food alw...</td>\n",
              "      <td>[well thought would, wait staff friendly, unfo...</td>\n",
              "      <td>[friendly food, good place, good service, buff...</td>\n",
              "      <td>[buffet food, good food, good place, good food...</td>\n",
              "    </tr>\n",
              "    <tr>\n",
              "      <th>1</th>\n",
              "      <td>3p7mUvZtYocYf8gYEENGxw</td>\n",
              "      <td>In a quiet strip mall just off of the main Str...</td>\n",
              "      <td>in a quiet strip mall just off of the main str...</td>\n",
              "      <td>quiet strip mall main strip delightful restaur...</td>\n",
              "      <td>quiet strip mall main strip delightful restaur...</td>\n",
              "      <td>[went vega exhibition, ton garlic love, sugges...</td>\n",
              "      <td>[wrong pizza, places, good pizza fair price, s...</td>\n",
              "      <td>[pizza place, good pizza, great pizza food, pi...</td>\n",
              "    </tr>\n",
              "    <tr>\n",
              "      <th>2</th>\n",
              "      <td>5j7BnXXvlS69uLVHrY9Upw</td>\n",
              "      <td>This is a great place recently remodeled and g...</td>\n",
              "      <td>this is a great place recently remodeled and g...</td>\n",
              "      <td>great place recently remodeled great service g...</td>\n",
              "      <td>great place recently remodeled great service g...</td>\n",
              "      <td>[tortilla hard chewy, today quite different, t...</td>\n",
              "      <td>[el pollo yucko, double check order, drier chi...</td>\n",
              "      <td>[chicken bowl, chicken salad, chicken taco, ti...</td>\n",
              "    </tr>\n",
              "    <tr>\n",
              "      <th>3</th>\n",
              "      <td>5n2dA_QqO4c_7pSK0Of6AQ</td>\n",
              "      <td>I was told so many great things about this pla...</td>\n",
              "      <td>i was told so many great things about this pla...</td>\n",
              "      <td>told many great things place entire experience...</td>\n",
              "      <td>told many great thing place entire experience ...</td>\n",
              "      <td>[would eat lunch, wanted leave immediately, tr...</td>\n",
              "      <td>[burger, option good, food good way greasy, or...</td>\n",
              "      <td>[food burger, burger place, good burger, burge...</td>\n",
              "    </tr>\n",
              "    <tr>\n",
              "      <th>4</th>\n",
              "      <td>8RGoNUEC4QGbpF4af7CDdQ</td>\n",
              "      <td>Pizza was delicious ...I ordered a stuffed cru...</td>\n",
              "      <td>pizza was delicious ...i ordered a stuffed cru...</td>\n",
              "      <td>pizza delicious ...i ordered stuffed crust w e...</td>\n",
              "      <td>pizza delicious ...i ordered stuffed crust w e...</td>\n",
              "      <td>[went take trips, walked pm ross, totally tell...</td>\n",
              "      <td>[pizzas, st time, food, specific order repeat,...</td>\n",
              "      <td>[pizza location, pizza time, good pizza, pizza...</td>\n",
              "    </tr>\n",
              "  </tbody>\n",
              "</table>\n",
              "</div>"
            ],
            "text/plain": [
              "              business_id  ...                                         tks_output\n",
              "0  3-IoSBy9vRKP2MWZwlf6wA  ...  [buffet food, good food, good place, good food...\n",
              "1  3p7mUvZtYocYf8gYEENGxw  ...  [pizza place, good pizza, great pizza food, pi...\n",
              "2  5j7BnXXvlS69uLVHrY9Upw  ...  [chicken bowl, chicken salad, chicken taco, ti...\n",
              "3  5n2dA_QqO4c_7pSK0Of6AQ  ...  [food burger, burger place, good burger, burge...\n",
              "4  8RGoNUEC4QGbpF4af7CDdQ  ...  [pizza location, pizza time, good pizza, pizza...\n",
              "\n",
              "[5 rows x 8 columns]"
            ]
          },
          "metadata": {
            "tags": []
          },
          "execution_count": 39
        }
      ]
    },
    {
      "cell_type": "markdown",
      "metadata": {
        "id": "_p_gAZ6g45ks",
        "colab_type": "text"
      },
      "source": [
        "## Using PyTextRank"
      ]
    },
    {
      "cell_type": "code",
      "metadata": {
        "id": "pXGXm81UKtAO",
        "colab_type": "code",
        "outputId": "903dce31-111c-4dc9-ad9d-ab5f490322bb",
        "colab": {
          "base_uri": "https://localhost:8080/",
          "height": 442
        }
      },
      "source": [
        "!pip install pytextrank"
      ],
      "execution_count": 73,
      "outputs": [
        {
          "output_type": "stream",
          "text": [
            "Collecting pytextrank\n",
            "  Downloading https://files.pythonhosted.org/packages/1d/bb/b7f864f862e6fbbbe9c935c5fd006e96fc8cc6c63b74d6c1b8adb668d3d1/pytextrank-2.0.0-py3-none-any.whl\n",
            "Requirement already satisfied: graphviz in /usr/local/lib/python3.6/dist-packages (from pytextrank) (0.10.1)\n",
            "Requirement already satisfied: networkx in /usr/local/lib/python3.6/dist-packages (from pytextrank) (2.4)\n",
            "Requirement already satisfied: spacy in /usr/local/lib/python3.6/dist-packages (from pytextrank) (2.1.9)\n",
            "Requirement already satisfied: decorator>=4.3.0 in /usr/local/lib/python3.6/dist-packages (from networkx->pytextrank) (4.4.1)\n",
            "Requirement already satisfied: srsly<1.1.0,>=0.0.6 in /usr/local/lib/python3.6/dist-packages (from spacy->pytextrank) (0.2.0)\n",
            "Requirement already satisfied: preshed<2.1.0,>=2.0.1 in /usr/local/lib/python3.6/dist-packages (from spacy->pytextrank) (2.0.1)\n",
            "Requirement already satisfied: thinc<7.1.0,>=7.0.8 in /usr/local/lib/python3.6/dist-packages (from spacy->pytextrank) (7.0.8)\n",
            "Requirement already satisfied: requests<3.0.0,>=2.13.0 in /usr/local/lib/python3.6/dist-packages (from spacy->pytextrank) (2.21.0)\n",
            "Requirement already satisfied: murmurhash<1.1.0,>=0.28.0 in /usr/local/lib/python3.6/dist-packages (from spacy->pytextrank) (1.0.2)\n",
            "Requirement already satisfied: cymem<2.1.0,>=2.0.2 in /usr/local/lib/python3.6/dist-packages (from spacy->pytextrank) (2.0.3)\n",
            "Requirement already satisfied: blis<0.3.0,>=0.2.2 in /usr/local/lib/python3.6/dist-packages (from spacy->pytextrank) (0.2.4)\n",
            "Requirement already satisfied: numpy>=1.15.0 in /usr/local/lib/python3.6/dist-packages (from spacy->pytextrank) (1.17.4)\n",
            "Requirement already satisfied: wasabi<1.1.0,>=0.2.0 in /usr/local/lib/python3.6/dist-packages (from spacy->pytextrank) (0.4.2)\n",
            "Requirement already satisfied: plac<1.0.0,>=0.9.6 in /usr/local/lib/python3.6/dist-packages (from spacy->pytextrank) (0.9.6)\n",
            "Requirement already satisfied: tqdm<5.0.0,>=4.10.0 in /usr/local/lib/python3.6/dist-packages (from thinc<7.1.0,>=7.0.8->spacy->pytextrank) (4.28.1)\n",
            "Requirement already satisfied: idna<2.9,>=2.5 in /usr/local/lib/python3.6/dist-packages (from requests<3.0.0,>=2.13.0->spacy->pytextrank) (2.8)\n",
            "Requirement already satisfied: chardet<3.1.0,>=3.0.2 in /usr/local/lib/python3.6/dist-packages (from requests<3.0.0,>=2.13.0->spacy->pytextrank) (3.0.4)\n",
            "Requirement already satisfied: urllib3<1.25,>=1.21.1 in /usr/local/lib/python3.6/dist-packages (from requests<3.0.0,>=2.13.0->spacy->pytextrank) (1.24.3)\n",
            "Requirement already satisfied: certifi>=2017.4.17 in /usr/local/lib/python3.6/dist-packages (from requests<3.0.0,>=2.13.0->spacy->pytextrank) (2019.11.28)\n",
            "Installing collected packages: pytextrank\n",
            "Successfully installed pytextrank-2.0.0\n"
          ],
          "name": "stdout"
        }
      ]
    },
    {
      "cell_type": "code",
      "metadata": {
        "id": "y-szD_uywFzB",
        "colab_type": "code",
        "colab": {}
      },
      "source": [
        "import spacy\n",
        "import pytextrank\n",
        "\n",
        "nlp = spacy.load(\"en_core_web_sm\")\n",
        "nlp.max_length = 5000000\n",
        "\n",
        "# add PyTextRank to the spaCy pipeline\n",
        "tr = pytextrank.TextRank()\n",
        "nlp.add_pipe(tr.PipelineComponent, name=\"textrank\", last=True)"
      ],
      "execution_count": 0,
      "outputs": []
    },
    {
      "cell_type": "code",
      "metadata": {
        "id": "PruR4ulxkYiY",
        "colab_type": "code",
        "colab": {}
      },
      "source": [
        "textrank_output = []\n",
        "count = 0\n",
        "for text in merged_reviews['lemmatized_string']:\n",
        "  doc = nlp(text)\n",
        "\n",
        "  all_phrases = []  \n",
        "  for p in doc._.phrases:\n",
        "    all_phrases.append(p.text)\n",
        "\n",
        "  output = all_phrases\n",
        "  textrank_output.append(output)"
      ],
      "execution_count": 0,
      "outputs": []
    },
    {
      "cell_type": "code",
      "metadata": {
        "id": "ULvb8JF6NWpM",
        "colab_type": "code",
        "colab": {}
      },
      "source": [
        "merged_reviews['pytextrank'] = textrank_output"
      ],
      "execution_count": 0,
      "outputs": []
    },
    {
      "cell_type": "code",
      "metadata": {
        "id": "qf9jaCmfLMNf",
        "colab_type": "code",
        "outputId": "803b3f8e-2372-4564-c818-12f7316acc46",
        "colab": {
          "base_uri": "https://localhost:8080/",
          "height": 602
        }
      },
      "source": [
        "merged_reviews.head()"
      ],
      "execution_count": 77,
      "outputs": [
        {
          "output_type": "execute_result",
          "data": {
            "text/html": [
              "<div>\n",
              "<style scoped>\n",
              "    .dataframe tbody tr th:only-of-type {\n",
              "        vertical-align: middle;\n",
              "    }\n",
              "\n",
              "    .dataframe tbody tr th {\n",
              "        vertical-align: top;\n",
              "    }\n",
              "\n",
              "    .dataframe thead th {\n",
              "        text-align: right;\n",
              "    }\n",
              "</style>\n",
              "<table border=\"1\" class=\"dataframe\">\n",
              "  <thead>\n",
              "    <tr style=\"text-align: right;\">\n",
              "      <th></th>\n",
              "      <th>business_id</th>\n",
              "      <th>text</th>\n",
              "      <th>lowered_string</th>\n",
              "      <th>without_stop_words</th>\n",
              "      <th>lemmatized_string</th>\n",
              "      <th>rake_output</th>\n",
              "      <th>pke_output</th>\n",
              "      <th>tks_output</th>\n",
              "      <th>pytextrank</th>\n",
              "    </tr>\n",
              "  </thead>\n",
              "  <tbody>\n",
              "    <tr>\n",
              "      <th>0</th>\n",
              "      <td>3-IoSBy9vRKP2MWZwlf6wA</td>\n",
              "      <td>Hard to find a good diner/greasy spoon in Vega...</td>\n",
              "      <td>hard to find a good diner/greasy spoon in vega...</td>\n",
              "      <td>hard find good diner/greasy spoon vegas food a...</td>\n",
              "      <td>hard find good dinergreasy spoon vega food alw...</td>\n",
              "      <td>[well thought would, wait staff friendly, unfo...</td>\n",
              "      <td>[friendly food, good place, good service, buff...</td>\n",
              "      <td>[buffet food, good food, good place, good food...</td>\n",
              "      <td>[good food good service, food buffet, food buf...</td>\n",
              "    </tr>\n",
              "    <tr>\n",
              "      <th>1</th>\n",
              "      <td>3p7mUvZtYocYf8gYEENGxw</td>\n",
              "      <td>In a quiet strip mall just off of the main Str...</td>\n",
              "      <td>in a quiet strip mall just off of the main str...</td>\n",
              "      <td>quiet strip mall main strip delightful restaur...</td>\n",
              "      <td>quiet strip mall main strip delightful restaur...</td>\n",
              "      <td>[went vega exhibition, ton garlic love, sugges...</td>\n",
              "      <td>[wrong pizza, places, good pizza fair price, s...</td>\n",
              "      <td>[pizza place, good pizza, great pizza food, pi...</td>\n",
              "      <td>[good pizza service, great pizza food, times p...</td>\n",
              "    </tr>\n",
              "    <tr>\n",
              "      <th>2</th>\n",
              "      <td>5j7BnXXvlS69uLVHrY9Upw</td>\n",
              "      <td>This is a great place recently remodeled and g...</td>\n",
              "      <td>this is a great place recently remodeled and g...</td>\n",
              "      <td>great place recently remodeled great service g...</td>\n",
              "      <td>great place recently remodeled great service g...</td>\n",
              "      <td>[tortilla hard chewy, today quite different, t...</td>\n",
              "      <td>[el pollo yucko, double check order, drier chi...</td>\n",
              "      <td>[chicken bowl, chicken salad, chicken taco, ti...</td>\n",
              "      <td>[fast food chicken, chicken avocado bowl chick...</td>\n",
              "    </tr>\n",
              "    <tr>\n",
              "      <th>3</th>\n",
              "      <td>5n2dA_QqO4c_7pSK0Of6AQ</td>\n",
              "      <td>I was told so many great things about this pla...</td>\n",
              "      <td>i was told so many great things about this pla...</td>\n",
              "      <td>told many great things place entire experience...</td>\n",
              "      <td>told many great thing place entire experience ...</td>\n",
              "      <td>[would eat lunch, wanted leave immediately, tr...</td>\n",
              "      <td>[burger, option good, food good way greasy, or...</td>\n",
              "      <td>[food burger, burger place, good burger, burge...</td>\n",
              "      <td>[burger fries, burger place, good fix burger, ...</td>\n",
              "    </tr>\n",
              "    <tr>\n",
              "      <th>4</th>\n",
              "      <td>8RGoNUEC4QGbpF4af7CDdQ</td>\n",
              "      <td>Pizza was delicious ...I ordered a stuffed cru...</td>\n",
              "      <td>pizza was delicious ...i ordered a stuffed cru...</td>\n",
              "      <td>pizza delicious ...i ordered stuffed crust w e...</td>\n",
              "      <td>pizza delicious ...i ordered stuffed crust w e...</td>\n",
              "      <td>[went take trips, walked pm ross, totally tell...</td>\n",
              "      <td>[pizzas, st time, food, specific order repeat,...</td>\n",
              "      <td>[pizza location, pizza time, good pizza, pizza...</td>\n",
              "      <td>[pizza time, pizza hot ready fresh pizza littl...</td>\n",
              "    </tr>\n",
              "  </tbody>\n",
              "</table>\n",
              "</div>"
            ],
            "text/plain": [
              "              business_id  ...                                         pytextrank\n",
              "0  3-IoSBy9vRKP2MWZwlf6wA  ...  [good food good service, food buffet, food buf...\n",
              "1  3p7mUvZtYocYf8gYEENGxw  ...  [good pizza service, great pizza food, times p...\n",
              "2  5j7BnXXvlS69uLVHrY9Upw  ...  [fast food chicken, chicken avocado bowl chick...\n",
              "3  5n2dA_QqO4c_7pSK0Of6AQ  ...  [burger fries, burger place, good fix burger, ...\n",
              "4  8RGoNUEC4QGbpF4af7CDdQ  ...  [pizza time, pizza hot ready fresh pizza littl...\n",
              "\n",
              "[5 rows x 9 columns]"
            ]
          },
          "metadata": {
            "tags": []
          },
          "execution_count": 77
        }
      ]
    },
    {
      "cell_type": "markdown",
      "metadata": {
        "id": "-HhyVsS5_vH1",
        "colab_type": "text"
      },
      "source": [
        "# Generating output"
      ]
    },
    {
      "cell_type": "code",
      "metadata": {
        "id": "Q_Fr5LaFt5VW",
        "colab_type": "code",
        "colab": {}
      },
      "source": [
        "merged_reviews = merged_reviews.drop(['text', 'lowered_string', 'without_stop_words', 'lemmatized_string'], axis=1)"
      ],
      "execution_count": 0,
      "outputs": []
    },
    {
      "cell_type": "code",
      "metadata": {
        "id": "bjx48m91uNn5",
        "colab_type": "code",
        "outputId": "a9bec556-3963-4f59-bc2c-25c2f3e366da",
        "colab": {
          "base_uri": "https://localhost:8080/",
          "height": 279
        }
      },
      "source": [
        "merged_reviews.head()"
      ],
      "execution_count": 79,
      "outputs": [
        {
          "output_type": "execute_result",
          "data": {
            "text/html": [
              "<div>\n",
              "<style scoped>\n",
              "    .dataframe tbody tr th:only-of-type {\n",
              "        vertical-align: middle;\n",
              "    }\n",
              "\n",
              "    .dataframe tbody tr th {\n",
              "        vertical-align: top;\n",
              "    }\n",
              "\n",
              "    .dataframe thead th {\n",
              "        text-align: right;\n",
              "    }\n",
              "</style>\n",
              "<table border=\"1\" class=\"dataframe\">\n",
              "  <thead>\n",
              "    <tr style=\"text-align: right;\">\n",
              "      <th></th>\n",
              "      <th>business_id</th>\n",
              "      <th>rake_output</th>\n",
              "      <th>pke_output</th>\n",
              "      <th>tks_output</th>\n",
              "      <th>pytextrank</th>\n",
              "    </tr>\n",
              "  </thead>\n",
              "  <tbody>\n",
              "    <tr>\n",
              "      <th>0</th>\n",
              "      <td>3-IoSBy9vRKP2MWZwlf6wA</td>\n",
              "      <td>[well thought would, wait staff friendly, unfo...</td>\n",
              "      <td>[friendly food, good place, good service, buff...</td>\n",
              "      <td>[buffet food, good food, good place, good food...</td>\n",
              "      <td>[good food good service, food buffet, food buf...</td>\n",
              "    </tr>\n",
              "    <tr>\n",
              "      <th>1</th>\n",
              "      <td>3p7mUvZtYocYf8gYEENGxw</td>\n",
              "      <td>[went vega exhibition, ton garlic love, sugges...</td>\n",
              "      <td>[wrong pizza, places, good pizza fair price, s...</td>\n",
              "      <td>[pizza place, good pizza, great pizza food, pi...</td>\n",
              "      <td>[good pizza service, great pizza food, times p...</td>\n",
              "    </tr>\n",
              "    <tr>\n",
              "      <th>2</th>\n",
              "      <td>5j7BnXXvlS69uLVHrY9Upw</td>\n",
              "      <td>[tortilla hard chewy, today quite different, t...</td>\n",
              "      <td>[el pollo yucko, double check order, drier chi...</td>\n",
              "      <td>[chicken bowl, chicken salad, chicken taco, ti...</td>\n",
              "      <td>[fast food chicken, chicken avocado bowl chick...</td>\n",
              "    </tr>\n",
              "    <tr>\n",
              "      <th>3</th>\n",
              "      <td>5n2dA_QqO4c_7pSK0Of6AQ</td>\n",
              "      <td>[would eat lunch, wanted leave immediately, tr...</td>\n",
              "      <td>[burger, option good, food good way greasy, or...</td>\n",
              "      <td>[food burger, burger place, good burger, burge...</td>\n",
              "      <td>[burger fries, burger place, good fix burger, ...</td>\n",
              "    </tr>\n",
              "    <tr>\n",
              "      <th>4</th>\n",
              "      <td>8RGoNUEC4QGbpF4af7CDdQ</td>\n",
              "      <td>[went take trips, walked pm ross, totally tell...</td>\n",
              "      <td>[pizzas, st time, food, specific order repeat,...</td>\n",
              "      <td>[pizza location, pizza time, good pizza, pizza...</td>\n",
              "      <td>[pizza time, pizza hot ready fresh pizza littl...</td>\n",
              "    </tr>\n",
              "  </tbody>\n",
              "</table>\n",
              "</div>"
            ],
            "text/plain": [
              "              business_id  ...                                         pytextrank\n",
              "0  3-IoSBy9vRKP2MWZwlf6wA  ...  [good food good service, food buffet, food buf...\n",
              "1  3p7mUvZtYocYf8gYEENGxw  ...  [good pizza service, great pizza food, times p...\n",
              "2  5j7BnXXvlS69uLVHrY9Upw  ...  [fast food chicken, chicken avocado bowl chick...\n",
              "3  5n2dA_QqO4c_7pSK0Of6AQ  ...  [burger fries, burger place, good fix burger, ...\n",
              "4  8RGoNUEC4QGbpF4af7CDdQ  ...  [pizza time, pizza hot ready fresh pizza littl...\n",
              "\n",
              "[5 rows x 5 columns]"
            ]
          },
          "metadata": {
            "tags": []
          },
          "execution_count": 79
        }
      ]
    },
    {
      "cell_type": "code",
      "metadata": {
        "id": "bgEqAF9QAJcr",
        "colab_type": "code",
        "colab": {}
      },
      "source": [
        "export_csv = merged_reviews.to_csv (r'/content/drive/My Drive/Data/Review_50.csv', index = None, header=True)"
      ],
      "execution_count": 0,
      "outputs": []
    },
    {
      "cell_type": "code",
      "metadata": {
        "id": "33-X63H6sq9G",
        "colab_type": "code",
        "colab": {}
      },
      "source": [
        "business_tags = final_Data.join(merged_reviews.set_index('business_id'), on='business_id', lsuffix='_caller', rsuffix='_other')"
      ],
      "execution_count": 0,
      "outputs": []
    },
    {
      "cell_type": "code",
      "metadata": {
        "id": "QliNoSLMdreJ",
        "colab_type": "code",
        "outputId": "6aa83448-83dc-4e98-e858-323477e8587e",
        "colab": {
          "base_uri": "https://localhost:8080/",
          "height": 669
        }
      },
      "source": [
        "business_tags.head()"
      ],
      "execution_count": 82,
      "outputs": [
        {
          "output_type": "execute_result",
          "data": {
            "text/html": [
              "<div>\n",
              "<style scoped>\n",
              "    .dataframe tbody tr th:only-of-type {\n",
              "        vertical-align: middle;\n",
              "    }\n",
              "\n",
              "    .dataframe tbody tr th {\n",
              "        vertical-align: top;\n",
              "    }\n",
              "\n",
              "    .dataframe thead th {\n",
              "        text-align: right;\n",
              "    }\n",
              "</style>\n",
              "<table border=\"1\" class=\"dataframe\">\n",
              "  <thead>\n",
              "    <tr style=\"text-align: right;\">\n",
              "      <th></th>\n",
              "      <th>business_id</th>\n",
              "      <th>name</th>\n",
              "      <th>address</th>\n",
              "      <th>city</th>\n",
              "      <th>state</th>\n",
              "      <th>postal_code</th>\n",
              "      <th>latitude</th>\n",
              "      <th>longitude</th>\n",
              "      <th>stars_caller</th>\n",
              "      <th>review_count</th>\n",
              "      <th>is_open</th>\n",
              "      <th>attributes</th>\n",
              "      <th>categories</th>\n",
              "      <th>hours</th>\n",
              "      <th>review_id</th>\n",
              "      <th>user_id</th>\n",
              "      <th>stars_other</th>\n",
              "      <th>useful</th>\n",
              "      <th>funny</th>\n",
              "      <th>cool</th>\n",
              "      <th>text</th>\n",
              "      <th>date</th>\n",
              "      <th>rake_output</th>\n",
              "      <th>pke_output</th>\n",
              "      <th>tks_output</th>\n",
              "      <th>pytextrank</th>\n",
              "    </tr>\n",
              "  </thead>\n",
              "  <tbody>\n",
              "    <tr>\n",
              "      <th>32586</th>\n",
              "      <td>8RGoNUEC4QGbpF4af7CDdQ</td>\n",
              "      <td>Little Caesar's</td>\n",
              "      <td>3545 S Fort Apache Rd, Unit  115</td>\n",
              "      <td>Las Vegas</td>\n",
              "      <td>NV</td>\n",
              "      <td>89147</td>\n",
              "      <td>36.12512</td>\n",
              "      <td>-115.297975</td>\n",
              "      <td>3.0</td>\n",
              "      <td>51</td>\n",
              "      <td>1</td>\n",
              "      <td>{'WiFi': ''no'', 'RestaurantsGoodForGroups': '...</td>\n",
              "      <td>Fast Food, Restaurants, Pizza</td>\n",
              "      <td>{'Monday': '10:0-22:0', 'Tuesday': '10:0-22:0'...</td>\n",
              "      <td>94Xk1JLan_wOKPMwPiol8A</td>\n",
              "      <td>22laZkhv3jlWIEttT6HU1g</td>\n",
              "      <td>1.0</td>\n",
              "      <td>0</td>\n",
              "      <td>0</td>\n",
              "      <td>0</td>\n",
              "      <td>Pizza was delicious ...I ordered a stuffed cru...</td>\n",
              "      <td>2018-08-23 22:08:24</td>\n",
              "      <td>[went take trips, walked pm ross, totally tell...</td>\n",
              "      <td>[pizzas, st time, food, specific order repeat,...</td>\n",
              "      <td>[pizza location, pizza time, good pizza, pizza...</td>\n",
              "      <td>[pizza time, pizza hot ready fresh pizza littl...</td>\n",
              "    </tr>\n",
              "    <tr>\n",
              "      <th>32586</th>\n",
              "      <td>8RGoNUEC4QGbpF4af7CDdQ</td>\n",
              "      <td>Little Caesar's</td>\n",
              "      <td>3545 S Fort Apache Rd, Unit  115</td>\n",
              "      <td>Las Vegas</td>\n",
              "      <td>NV</td>\n",
              "      <td>89147</td>\n",
              "      <td>36.12512</td>\n",
              "      <td>-115.297975</td>\n",
              "      <td>3.0</td>\n",
              "      <td>51</td>\n",
              "      <td>1</td>\n",
              "      <td>{'WiFi': ''no'', 'RestaurantsGoodForGroups': '...</td>\n",
              "      <td>Fast Food, Restaurants, Pizza</td>\n",
              "      <td>{'Monday': '10:0-22:0', 'Tuesday': '10:0-22:0'...</td>\n",
              "      <td>aKCanvjC3yCkIgD0v-yIjA</td>\n",
              "      <td>4TOydrfx1__SgB-pFvXVCg</td>\n",
              "      <td>2.0</td>\n",
              "      <td>0</td>\n",
              "      <td>2</td>\n",
              "      <td>1</td>\n",
              "      <td>The pizza is not the best but edible if you ar...</td>\n",
              "      <td>2016-07-15 02:59:51</td>\n",
              "      <td>[went take trips, walked pm ross, totally tell...</td>\n",
              "      <td>[pizzas, st time, food, specific order repeat,...</td>\n",
              "      <td>[pizza location, pizza time, good pizza, pizza...</td>\n",
              "      <td>[pizza time, pizza hot ready fresh pizza littl...</td>\n",
              "    </tr>\n",
              "    <tr>\n",
              "      <th>32586</th>\n",
              "      <td>8RGoNUEC4QGbpF4af7CDdQ</td>\n",
              "      <td>Little Caesar's</td>\n",
              "      <td>3545 S Fort Apache Rd, Unit  115</td>\n",
              "      <td>Las Vegas</td>\n",
              "      <td>NV</td>\n",
              "      <td>89147</td>\n",
              "      <td>36.12512</td>\n",
              "      <td>-115.297975</td>\n",
              "      <td>3.0</td>\n",
              "      <td>51</td>\n",
              "      <td>1</td>\n",
              "      <td>{'WiFi': ''no'', 'RestaurantsGoodForGroups': '...</td>\n",
              "      <td>Fast Food, Restaurants, Pizza</td>\n",
              "      <td>{'Monday': '10:0-22:0', 'Tuesday': '10:0-22:0'...</td>\n",
              "      <td>HaYNQt6gM41e9iceXz0vaw</td>\n",
              "      <td>-wECSFoZMlaIQdV89AjOYQ</td>\n",
              "      <td>5.0</td>\n",
              "      <td>0</td>\n",
              "      <td>0</td>\n",
              "      <td>0</td>\n",
              "      <td>Thank you to the staff for still having pizza ...</td>\n",
              "      <td>2017-07-19 04:58:49</td>\n",
              "      <td>[went take trips, walked pm ross, totally tell...</td>\n",
              "      <td>[pizzas, st time, food, specific order repeat,...</td>\n",
              "      <td>[pizza location, pizza time, good pizza, pizza...</td>\n",
              "      <td>[pizza time, pizza hot ready fresh pizza littl...</td>\n",
              "    </tr>\n",
              "    <tr>\n",
              "      <th>32586</th>\n",
              "      <td>8RGoNUEC4QGbpF4af7CDdQ</td>\n",
              "      <td>Little Caesar's</td>\n",
              "      <td>3545 S Fort Apache Rd, Unit  115</td>\n",
              "      <td>Las Vegas</td>\n",
              "      <td>NV</td>\n",
              "      <td>89147</td>\n",
              "      <td>36.12512</td>\n",
              "      <td>-115.297975</td>\n",
              "      <td>3.0</td>\n",
              "      <td>51</td>\n",
              "      <td>1</td>\n",
              "      <td>{'WiFi': ''no'', 'RestaurantsGoodForGroups': '...</td>\n",
              "      <td>Fast Food, Restaurants, Pizza</td>\n",
              "      <td>{'Monday': '10:0-22:0', 'Tuesday': '10:0-22:0'...</td>\n",
              "      <td>Maz1dNaNFcmNOz6UJ91x7Q</td>\n",
              "      <td>hv9pA78bSScx5_cBUt0uoA</td>\n",
              "      <td>5.0</td>\n",
              "      <td>2</td>\n",
              "      <td>0</td>\n",
              "      <td>0</td>\n",
              "      <td>I don't think I've ever gotten a cold pizza fr...</td>\n",
              "      <td>2017-10-03 11:55:24</td>\n",
              "      <td>[went take trips, walked pm ross, totally tell...</td>\n",
              "      <td>[pizzas, st time, food, specific order repeat,...</td>\n",
              "      <td>[pizza location, pizza time, good pizza, pizza...</td>\n",
              "      <td>[pizza time, pizza hot ready fresh pizza littl...</td>\n",
              "    </tr>\n",
              "    <tr>\n",
              "      <th>32586</th>\n",
              "      <td>8RGoNUEC4QGbpF4af7CDdQ</td>\n",
              "      <td>Little Caesar's</td>\n",
              "      <td>3545 S Fort Apache Rd, Unit  115</td>\n",
              "      <td>Las Vegas</td>\n",
              "      <td>NV</td>\n",
              "      <td>89147</td>\n",
              "      <td>36.12512</td>\n",
              "      <td>-115.297975</td>\n",
              "      <td>3.0</td>\n",
              "      <td>51</td>\n",
              "      <td>1</td>\n",
              "      <td>{'WiFi': ''no'', 'RestaurantsGoodForGroups': '...</td>\n",
              "      <td>Fast Food, Restaurants, Pizza</td>\n",
              "      <td>{'Monday': '10:0-22:0', 'Tuesday': '10:0-22:0'...</td>\n",
              "      <td>BFFfbJuORXLGdX8g_I3j0A</td>\n",
              "      <td>7s8sVNCXnzsPNjBTqQO0WQ</td>\n",
              "      <td>5.0</td>\n",
              "      <td>0</td>\n",
              "      <td>0</td>\n",
              "      <td>0</td>\n",
              "      <td>Great price for very decent pizzas!! But this ...</td>\n",
              "      <td>2017-06-29 08:44:06</td>\n",
              "      <td>[went take trips, walked pm ross, totally tell...</td>\n",
              "      <td>[pizzas, st time, food, specific order repeat,...</td>\n",
              "      <td>[pizza location, pizza time, good pizza, pizza...</td>\n",
              "      <td>[pizza time, pizza hot ready fresh pizza littl...</td>\n",
              "    </tr>\n",
              "  </tbody>\n",
              "</table>\n",
              "</div>"
            ],
            "text/plain": [
              "                  business_id  ...                                         pytextrank\n",
              "32586  8RGoNUEC4QGbpF4af7CDdQ  ...  [pizza time, pizza hot ready fresh pizza littl...\n",
              "32586  8RGoNUEC4QGbpF4af7CDdQ  ...  [pizza time, pizza hot ready fresh pizza littl...\n",
              "32586  8RGoNUEC4QGbpF4af7CDdQ  ...  [pizza time, pizza hot ready fresh pizza littl...\n",
              "32586  8RGoNUEC4QGbpF4af7CDdQ  ...  [pizza time, pizza hot ready fresh pizza littl...\n",
              "32586  8RGoNUEC4QGbpF4af7CDdQ  ...  [pizza time, pizza hot ready fresh pizza littl...\n",
              "\n",
              "[5 rows x 26 columns]"
            ]
          },
          "metadata": {
            "tags": []
          },
          "execution_count": 82
        }
      ]
    },
    {
      "cell_type": "code",
      "metadata": {
        "id": "ukWVHPf4dsn4",
        "colab_type": "code",
        "colab": {}
      },
      "source": [
        "business_review_users_tags = business_tags.join(users.set_index('user_id'), on='user_id', lsuffix='_caller', rsuffix='_other')"
      ],
      "execution_count": 0,
      "outputs": []
    },
    {
      "cell_type": "code",
      "metadata": {
        "id": "rFj3HifBf59b",
        "colab_type": "code",
        "outputId": "d680133a-42a0-42e3-9b61-17c38eb3e320",
        "colab": {
          "base_uri": "https://localhost:8080/",
          "height": 669
        }
      },
      "source": [
        "business_review_users_tags.head()"
      ],
      "execution_count": 84,
      "outputs": [
        {
          "output_type": "execute_result",
          "data": {
            "text/html": [
              "<div>\n",
              "<style scoped>\n",
              "    .dataframe tbody tr th:only-of-type {\n",
              "        vertical-align: middle;\n",
              "    }\n",
              "\n",
              "    .dataframe tbody tr th {\n",
              "        vertical-align: top;\n",
              "    }\n",
              "\n",
              "    .dataframe thead th {\n",
              "        text-align: right;\n",
              "    }\n",
              "</style>\n",
              "<table border=\"1\" class=\"dataframe\">\n",
              "  <thead>\n",
              "    <tr style=\"text-align: right;\">\n",
              "      <th></th>\n",
              "      <th>business_id</th>\n",
              "      <th>name_caller</th>\n",
              "      <th>address</th>\n",
              "      <th>city</th>\n",
              "      <th>state</th>\n",
              "      <th>postal_code</th>\n",
              "      <th>latitude</th>\n",
              "      <th>longitude</th>\n",
              "      <th>stars_caller</th>\n",
              "      <th>review_count_caller</th>\n",
              "      <th>is_open</th>\n",
              "      <th>attributes</th>\n",
              "      <th>categories</th>\n",
              "      <th>hours</th>\n",
              "      <th>review_id</th>\n",
              "      <th>user_id</th>\n",
              "      <th>stars_other</th>\n",
              "      <th>useful_caller</th>\n",
              "      <th>funny_caller</th>\n",
              "      <th>cool_caller</th>\n",
              "      <th>text</th>\n",
              "      <th>date</th>\n",
              "      <th>rake_output</th>\n",
              "      <th>pke_output</th>\n",
              "      <th>tks_output</th>\n",
              "      <th>pytextrank</th>\n",
              "      <th>name_other</th>\n",
              "      <th>review_count_other</th>\n",
              "      <th>yelping_since</th>\n",
              "      <th>useful_other</th>\n",
              "      <th>funny_other</th>\n",
              "      <th>cool_other</th>\n",
              "      <th>elite</th>\n",
              "      <th>friends</th>\n",
              "      <th>fans</th>\n",
              "      <th>average_stars</th>\n",
              "      <th>compliment_hot</th>\n",
              "      <th>compliment_more</th>\n",
              "      <th>compliment_profile</th>\n",
              "      <th>compliment_cute</th>\n",
              "      <th>compliment_list</th>\n",
              "      <th>compliment_note</th>\n",
              "      <th>compliment_plain</th>\n",
              "      <th>compliment_cool</th>\n",
              "      <th>compliment_funny</th>\n",
              "      <th>compliment_writer</th>\n",
              "      <th>compliment_photos</th>\n",
              "    </tr>\n",
              "  </thead>\n",
              "  <tbody>\n",
              "    <tr>\n",
              "      <th>32586</th>\n",
              "      <td>8RGoNUEC4QGbpF4af7CDdQ</td>\n",
              "      <td>Little Caesar's</td>\n",
              "      <td>3545 S Fort Apache Rd, Unit  115</td>\n",
              "      <td>Las Vegas</td>\n",
              "      <td>NV</td>\n",
              "      <td>89147</td>\n",
              "      <td>36.12512</td>\n",
              "      <td>-115.297975</td>\n",
              "      <td>3.0</td>\n",
              "      <td>51</td>\n",
              "      <td>1</td>\n",
              "      <td>{'WiFi': ''no'', 'RestaurantsGoodForGroups': '...</td>\n",
              "      <td>Fast Food, Restaurants, Pizza</td>\n",
              "      <td>{'Monday': '10:0-22:0', 'Tuesday': '10:0-22:0'...</td>\n",
              "      <td>94Xk1JLan_wOKPMwPiol8A</td>\n",
              "      <td>22laZkhv3jlWIEttT6HU1g</td>\n",
              "      <td>1.0</td>\n",
              "      <td>0</td>\n",
              "      <td>0</td>\n",
              "      <td>0</td>\n",
              "      <td>Pizza was delicious ...I ordered a stuffed cru...</td>\n",
              "      <td>2018-08-23 22:08:24</td>\n",
              "      <td>[went take trips, walked pm ross, totally tell...</td>\n",
              "      <td>[pizzas, st time, food, specific order repeat,...</td>\n",
              "      <td>[pizza location, pizza time, good pizza, pizza...</td>\n",
              "      <td>[pizza time, pizza hot ready fresh pizza littl...</td>\n",
              "      <td>Doll</td>\n",
              "      <td>23</td>\n",
              "      <td>2011-03-17 11:57:53</td>\n",
              "      <td>26</td>\n",
              "      <td>36</td>\n",
              "      <td>5</td>\n",
              "      <td></td>\n",
              "      <td>DCgYO2-K2KhyLz04nbmw3g, RY9RDYFzk2d2V6GHryIK0Q...</td>\n",
              "      <td>1</td>\n",
              "      <td>2.14</td>\n",
              "      <td>0</td>\n",
              "      <td>0</td>\n",
              "      <td>0</td>\n",
              "      <td>0</td>\n",
              "      <td>0</td>\n",
              "      <td>0</td>\n",
              "      <td>1</td>\n",
              "      <td>1</td>\n",
              "      <td>1</td>\n",
              "      <td>0</td>\n",
              "      <td>0</td>\n",
              "    </tr>\n",
              "    <tr>\n",
              "      <th>32586</th>\n",
              "      <td>8RGoNUEC4QGbpF4af7CDdQ</td>\n",
              "      <td>Little Caesar's</td>\n",
              "      <td>3545 S Fort Apache Rd, Unit  115</td>\n",
              "      <td>Las Vegas</td>\n",
              "      <td>NV</td>\n",
              "      <td>89147</td>\n",
              "      <td>36.12512</td>\n",
              "      <td>-115.297975</td>\n",
              "      <td>3.0</td>\n",
              "      <td>51</td>\n",
              "      <td>1</td>\n",
              "      <td>{'WiFi': ''no'', 'RestaurantsGoodForGroups': '...</td>\n",
              "      <td>Fast Food, Restaurants, Pizza</td>\n",
              "      <td>{'Monday': '10:0-22:0', 'Tuesday': '10:0-22:0'...</td>\n",
              "      <td>aKCanvjC3yCkIgD0v-yIjA</td>\n",
              "      <td>4TOydrfx1__SgB-pFvXVCg</td>\n",
              "      <td>2.0</td>\n",
              "      <td>0</td>\n",
              "      <td>2</td>\n",
              "      <td>1</td>\n",
              "      <td>The pizza is not the best but edible if you ar...</td>\n",
              "      <td>2016-07-15 02:59:51</td>\n",
              "      <td>[went take trips, walked pm ross, totally tell...</td>\n",
              "      <td>[pizzas, st time, food, specific order repeat,...</td>\n",
              "      <td>[pizza location, pizza time, good pizza, pizza...</td>\n",
              "      <td>[pizza time, pizza hot ready fresh pizza littl...</td>\n",
              "      <td>Nicole</td>\n",
              "      <td>58</td>\n",
              "      <td>2009-08-18 05:46:56</td>\n",
              "      <td>94</td>\n",
              "      <td>22</td>\n",
              "      <td>22</td>\n",
              "      <td></td>\n",
              "      <td>None</td>\n",
              "      <td>0</td>\n",
              "      <td>3.56</td>\n",
              "      <td>0</td>\n",
              "      <td>0</td>\n",
              "      <td>0</td>\n",
              "      <td>0</td>\n",
              "      <td>0</td>\n",
              "      <td>1</td>\n",
              "      <td>7</td>\n",
              "      <td>0</td>\n",
              "      <td>0</td>\n",
              "      <td>0</td>\n",
              "      <td>0</td>\n",
              "    </tr>\n",
              "    <tr>\n",
              "      <th>32586</th>\n",
              "      <td>8RGoNUEC4QGbpF4af7CDdQ</td>\n",
              "      <td>Little Caesar's</td>\n",
              "      <td>3545 S Fort Apache Rd, Unit  115</td>\n",
              "      <td>Las Vegas</td>\n",
              "      <td>NV</td>\n",
              "      <td>89147</td>\n",
              "      <td>36.12512</td>\n",
              "      <td>-115.297975</td>\n",
              "      <td>3.0</td>\n",
              "      <td>51</td>\n",
              "      <td>1</td>\n",
              "      <td>{'WiFi': ''no'', 'RestaurantsGoodForGroups': '...</td>\n",
              "      <td>Fast Food, Restaurants, Pizza</td>\n",
              "      <td>{'Monday': '10:0-22:0', 'Tuesday': '10:0-22:0'...</td>\n",
              "      <td>HaYNQt6gM41e9iceXz0vaw</td>\n",
              "      <td>-wECSFoZMlaIQdV89AjOYQ</td>\n",
              "      <td>5.0</td>\n",
              "      <td>0</td>\n",
              "      <td>0</td>\n",
              "      <td>0</td>\n",
              "      <td>Thank you to the staff for still having pizza ...</td>\n",
              "      <td>2017-07-19 04:58:49</td>\n",
              "      <td>[went take trips, walked pm ross, totally tell...</td>\n",
              "      <td>[pizzas, st time, food, specific order repeat,...</td>\n",
              "      <td>[pizza location, pizza time, good pizza, pizza...</td>\n",
              "      <td>[pizza time, pizza hot ready fresh pizza littl...</td>\n",
              "      <td>Victoria</td>\n",
              "      <td>24</td>\n",
              "      <td>2016-09-26 02:15:29</td>\n",
              "      <td>7</td>\n",
              "      <td>8</td>\n",
              "      <td>2</td>\n",
              "      <td></td>\n",
              "      <td>74L-RSUi9Kx-_9rtqB0YCw, _xSjS7u16ikMg75i3rNXsw...</td>\n",
              "      <td>0</td>\n",
              "      <td>3.30</td>\n",
              "      <td>0</td>\n",
              "      <td>0</td>\n",
              "      <td>0</td>\n",
              "      <td>0</td>\n",
              "      <td>0</td>\n",
              "      <td>0</td>\n",
              "      <td>0</td>\n",
              "      <td>0</td>\n",
              "      <td>0</td>\n",
              "      <td>0</td>\n",
              "      <td>0</td>\n",
              "    </tr>\n",
              "    <tr>\n",
              "      <th>32586</th>\n",
              "      <td>8RGoNUEC4QGbpF4af7CDdQ</td>\n",
              "      <td>Little Caesar's</td>\n",
              "      <td>3545 S Fort Apache Rd, Unit  115</td>\n",
              "      <td>Las Vegas</td>\n",
              "      <td>NV</td>\n",
              "      <td>89147</td>\n",
              "      <td>36.12512</td>\n",
              "      <td>-115.297975</td>\n",
              "      <td>3.0</td>\n",
              "      <td>51</td>\n",
              "      <td>1</td>\n",
              "      <td>{'WiFi': ''no'', 'RestaurantsGoodForGroups': '...</td>\n",
              "      <td>Fast Food, Restaurants, Pizza</td>\n",
              "      <td>{'Monday': '10:0-22:0', 'Tuesday': '10:0-22:0'...</td>\n",
              "      <td>Maz1dNaNFcmNOz6UJ91x7Q</td>\n",
              "      <td>hv9pA78bSScx5_cBUt0uoA</td>\n",
              "      <td>5.0</td>\n",
              "      <td>2</td>\n",
              "      <td>0</td>\n",
              "      <td>0</td>\n",
              "      <td>I don't think I've ever gotten a cold pizza fr...</td>\n",
              "      <td>2017-10-03 11:55:24</td>\n",
              "      <td>[went take trips, walked pm ross, totally tell...</td>\n",
              "      <td>[pizzas, st time, food, specific order repeat,...</td>\n",
              "      <td>[pizza location, pizza time, good pizza, pizza...</td>\n",
              "      <td>[pizza time, pizza hot ready fresh pizza littl...</td>\n",
              "      <td>Michael</td>\n",
              "      <td>19</td>\n",
              "      <td>2017-08-13 05:46:45</td>\n",
              "      <td>10</td>\n",
              "      <td>1</td>\n",
              "      <td>8</td>\n",
              "      <td></td>\n",
              "      <td>JdkzbT7Dn7es52_fzC0vrg, hABSVPL4CsiIBohNsrDlfw...</td>\n",
              "      <td>0</td>\n",
              "      <td>4.48</td>\n",
              "      <td>0</td>\n",
              "      <td>0</td>\n",
              "      <td>0</td>\n",
              "      <td>0</td>\n",
              "      <td>0</td>\n",
              "      <td>0</td>\n",
              "      <td>1</td>\n",
              "      <td>0</td>\n",
              "      <td>0</td>\n",
              "      <td>0</td>\n",
              "      <td>0</td>\n",
              "    </tr>\n",
              "    <tr>\n",
              "      <th>32586</th>\n",
              "      <td>8RGoNUEC4QGbpF4af7CDdQ</td>\n",
              "      <td>Little Caesar's</td>\n",
              "      <td>3545 S Fort Apache Rd, Unit  115</td>\n",
              "      <td>Las Vegas</td>\n",
              "      <td>NV</td>\n",
              "      <td>89147</td>\n",
              "      <td>36.12512</td>\n",
              "      <td>-115.297975</td>\n",
              "      <td>3.0</td>\n",
              "      <td>51</td>\n",
              "      <td>1</td>\n",
              "      <td>{'WiFi': ''no'', 'RestaurantsGoodForGroups': '...</td>\n",
              "      <td>Fast Food, Restaurants, Pizza</td>\n",
              "      <td>{'Monday': '10:0-22:0', 'Tuesday': '10:0-22:0'...</td>\n",
              "      <td>BFFfbJuORXLGdX8g_I3j0A</td>\n",
              "      <td>7s8sVNCXnzsPNjBTqQO0WQ</td>\n",
              "      <td>5.0</td>\n",
              "      <td>0</td>\n",
              "      <td>0</td>\n",
              "      <td>0</td>\n",
              "      <td>Great price for very decent pizzas!! But this ...</td>\n",
              "      <td>2017-06-29 08:44:06</td>\n",
              "      <td>[went take trips, walked pm ross, totally tell...</td>\n",
              "      <td>[pizzas, st time, food, specific order repeat,...</td>\n",
              "      <td>[pizza location, pizza time, good pizza, pizza...</td>\n",
              "      <td>[pizza time, pizza hot ready fresh pizza littl...</td>\n",
              "      <td>Phng</td>\n",
              "      <td>14</td>\n",
              "      <td>2015-06-21 21:57:44</td>\n",
              "      <td>3</td>\n",
              "      <td>2</td>\n",
              "      <td>1</td>\n",
              "      <td></td>\n",
              "      <td>pSHkZ5rHkx0UPq0fJNRzaw, uJO3pI4EOBgi_8516W8ylg...</td>\n",
              "      <td>0</td>\n",
              "      <td>4.14</td>\n",
              "      <td>0</td>\n",
              "      <td>0</td>\n",
              "      <td>0</td>\n",
              "      <td>0</td>\n",
              "      <td>0</td>\n",
              "      <td>0</td>\n",
              "      <td>0</td>\n",
              "      <td>0</td>\n",
              "      <td>0</td>\n",
              "      <td>0</td>\n",
              "      <td>0</td>\n",
              "    </tr>\n",
              "  </tbody>\n",
              "</table>\n",
              "</div>"
            ],
            "text/plain": [
              "                  business_id  ... compliment_photos\n",
              "32586  8RGoNUEC4QGbpF4af7CDdQ  ...                 0\n",
              "32586  8RGoNUEC4QGbpF4af7CDdQ  ...                 0\n",
              "32586  8RGoNUEC4QGbpF4af7CDdQ  ...                 0\n",
              "32586  8RGoNUEC4QGbpF4af7CDdQ  ...                 0\n",
              "32586  8RGoNUEC4QGbpF4af7CDdQ  ...                 0\n",
              "\n",
              "[5 rows x 47 columns]"
            ]
          },
          "metadata": {
            "tags": []
          },
          "execution_count": 84
        }
      ]
    },
    {
      "cell_type": "code",
      "metadata": {
        "id": "eX-crTcKf7eD",
        "colab_type": "code",
        "colab": {}
      },
      "source": [
        "business_review_users_tags = business_review_users_tags.drop(['address', 'city', 'state', 'postal_code',\n",
        "       'latitude', 'longitude', 'stars_caller', 'review_count_caller',\n",
        "       'is_open', 'attributes', 'categories', 'hours',\n",
        "       'stars_other', 'useful_caller', 'funny_caller', 'cool_caller',\n",
        "       'review_count_other', 'yelping_since', 'useful_other', 'funny_other',\n",
        "       'cool_other', 'elite', 'friends', 'fans', 'average_stars',\n",
        "       'compliment_hot', 'compliment_more', 'compliment_profile',\n",
        "       'compliment_cute', 'compliment_list', 'compliment_note',\n",
        "       'compliment_plain', 'compliment_cool', 'compliment_funny',\n",
        "       'compliment_writer', 'compliment_photos'], axis=1)"
      ],
      "execution_count": 0,
      "outputs": []
    },
    {
      "cell_type": "code",
      "metadata": {
        "id": "7OYgKnx1l-ef",
        "colab_type": "code",
        "colab": {}
      },
      "source": [
        "business_review_users_tags = business_review_users_tags.rename({'name_caller': 'business_name', 'name_other': 'username'}, axis=1) "
      ],
      "execution_count": 0,
      "outputs": []
    },
    {
      "cell_type": "code",
      "metadata": {
        "id": "yIp6mgYmpbVI",
        "colab_type": "code",
        "colab": {}
      },
      "source": [
        "file = open('/content/drive/My Drive/Data/business_review_users_tags.pkl', 'wb')\n",
        "pickle.dump(business_review_users_tags, file)\n",
        "file.close()"
      ],
      "execution_count": 0,
      "outputs": []
    },
    {
      "cell_type": "code",
      "metadata": {
        "id": "OW0QuFXq4kvo",
        "colab_type": "code",
        "colab": {}
      },
      "source": [
        "business_review_users_tags.to_csv (r'/content/drive/My Drive/Data/business_review_users_tags.csv', index = None, header=True)"
      ],
      "execution_count": 0,
      "outputs": []
    },
    {
      "cell_type": "code",
      "metadata": {
        "id": "7AXJdReFptp7",
        "colab_type": "code",
        "colab": {}
      },
      "source": [
        "filter_review_tags = business_review_users_tags[['text', 'pytextrank']]\n",
        "filter_review_tags.to_csv (r'/content/drive/My Drive/Data/filter_review_tags.csv', index = None, header=True)"
      ],
      "execution_count": 0,
      "outputs": []
    },
    {
      "cell_type": "code",
      "metadata": {
        "id": "5lsTSZhkqTjJ",
        "colab_type": "code",
        "colab": {}
      },
      "source": [
        "compare_tags = business_review_users_tags[['text', 'pytextrank', 'tks_output']]\n",
        "compare_tags.to_csv (r'/content/drive/My Drive/Data/compare_tags.csv', index = None, header=True)"
      ],
      "execution_count": 0,
      "outputs": []
    },
    {
      "cell_type": "code",
      "metadata": {
        "id": "74WG7A23wqzn",
        "colab_type": "code",
        "colab": {}
      },
      "source": [
        "business_tags = business_review_users_tags.drop_duplicates(subset=['business_id'])\n",
        "business_tags = business_tags[['business_id', 'pytextrank', 'rake_output', 'pke_output', 'tks_output']]\n",
        "business_tags.to_csv(r'/content/drive/My Drive/Data/business_tags.csv', index = None, header=True)"
      ],
      "execution_count": 0,
      "outputs": []
    },
    {
      "cell_type": "code",
      "metadata": {
        "id": "lpwJACuaOOQQ",
        "colab_type": "code",
        "outputId": "5bde011a-c65c-4fa9-8320-0e64bf70af13",
        "colab": {
          "base_uri": "https://localhost:8080/",
          "height": 279
        }
      },
      "source": [
        "business_tags.head()"
      ],
      "execution_count": 92,
      "outputs": [
        {
          "output_type": "execute_result",
          "data": {
            "text/html": [
              "<div>\n",
              "<style scoped>\n",
              "    .dataframe tbody tr th:only-of-type {\n",
              "        vertical-align: middle;\n",
              "    }\n",
              "\n",
              "    .dataframe tbody tr th {\n",
              "        vertical-align: top;\n",
              "    }\n",
              "\n",
              "    .dataframe thead th {\n",
              "        text-align: right;\n",
              "    }\n",
              "</style>\n",
              "<table border=\"1\" class=\"dataframe\">\n",
              "  <thead>\n",
              "    <tr style=\"text-align: right;\">\n",
              "      <th></th>\n",
              "      <th>business_id</th>\n",
              "      <th>pytextrank</th>\n",
              "      <th>rake_output</th>\n",
              "      <th>pke_output</th>\n",
              "      <th>tks_output</th>\n",
              "    </tr>\n",
              "  </thead>\n",
              "  <tbody>\n",
              "    <tr>\n",
              "      <th>32586</th>\n",
              "      <td>8RGoNUEC4QGbpF4af7CDdQ</td>\n",
              "      <td>[pizza time, pizza hot ready fresh pizza littl...</td>\n",
              "      <td>[went take trips, walked pm ross, totally tell...</td>\n",
              "      <td>[pizzas, st time, food, specific order repeat,...</td>\n",
              "      <td>[pizza location, pizza time, good pizza, pizza...</td>\n",
              "    </tr>\n",
              "    <tr>\n",
              "      <th>134909</th>\n",
              "      <td>3p7mUvZtYocYf8gYEENGxw</td>\n",
              "      <td>[good pizza service, great pizza food, times p...</td>\n",
              "      <td>[went vega exhibition, ton garlic love, sugges...</td>\n",
              "      <td>[wrong pizza, places, good pizza fair price, s...</td>\n",
              "      <td>[pizza place, good pizza, great pizza food, pi...</td>\n",
              "    </tr>\n",
              "    <tr>\n",
              "      <th>28920</th>\n",
              "      <td>c_3abcaptUG0d4A4LWMe7w</td>\n",
              "      <td>[fast food fast food place, fast food food, fo...</td>\n",
              "      <td>[world kind practice, went day buck, way treat...</td>\n",
              "      <td>[burger comfort food, mess order, love carls f...</td>\n",
              "      <td>[food food, food burger, food place, food good...</td>\n",
              "    </tr>\n",
              "    <tr>\n",
              "      <th>15877</th>\n",
              "      <td>5n2dA_QqO4c_7pSK0Of6AQ</td>\n",
              "      <td>[burger fries, burger place, good fix burger, ...</td>\n",
              "      <td>[would eat lunch, wanted leave immediately, tr...</td>\n",
              "      <td>[burger, option good, food good way greasy, or...</td>\n",
              "      <td>[food burger, burger place, good burger, burge...</td>\n",
              "    </tr>\n",
              "    <tr>\n",
              "      <th>93161</th>\n",
              "      <td>WUswpeAjbiww_xkSS8jTEA</td>\n",
              "      <td>[food place order, warm made order food, worst...</td>\n",
              "      <td>[wave nausea diarreah, today decided brunch, s...</td>\n",
              "      <td>[pupusas good, food, grubhub order, minute hit...</td>\n",
              "      <td>[order food, place food, food place order, foo...</td>\n",
              "    </tr>\n",
              "  </tbody>\n",
              "</table>\n",
              "</div>"
            ],
            "text/plain": [
              "                   business_id  ...                                         tks_output\n",
              "32586   8RGoNUEC4QGbpF4af7CDdQ  ...  [pizza location, pizza time, good pizza, pizza...\n",
              "134909  3p7mUvZtYocYf8gYEENGxw  ...  [pizza place, good pizza, great pizza food, pi...\n",
              "28920   c_3abcaptUG0d4A4LWMe7w  ...  [food food, food burger, food place, food good...\n",
              "15877   5n2dA_QqO4c_7pSK0Of6AQ  ...  [food burger, burger place, good burger, burge...\n",
              "93161   WUswpeAjbiww_xkSS8jTEA  ...  [order food, place food, food place order, foo...\n",
              "\n",
              "[5 rows x 5 columns]"
            ]
          },
          "metadata": {
            "tags": []
          },
          "execution_count": 92
        }
      ]
    },
    {
      "cell_type": "markdown",
      "metadata": {
        "id": "5Ez70G2pLo9j",
        "colab_type": "text"
      },
      "source": [
        "# Evaluation"
      ]
    },
    {
      "cell_type": "code",
      "metadata": {
        "id": "qu4r3b-1LwGI",
        "colab_type": "code",
        "outputId": "72db3397-a0df-4be9-f504-677f3540836d",
        "colab": {
          "base_uri": "https://localhost:8080/",
          "height": 107
        }
      },
      "source": [
        "!pip install easy-rouge"
      ],
      "execution_count": 93,
      "outputs": [
        {
          "output_type": "stream",
          "text": [
            "Collecting easy-rouge\n",
            "  Downloading https://files.pythonhosted.org/packages/0c/0a/b7ebb887dac3ece27fffc65bbc7dc0abcf991f2ccce8073126329ce4be8f/easy_rouge-0.2.2-py3-none-any.whl\n",
            "Installing collected packages: easy-rouge\n",
            "Successfully installed easy-rouge-0.2.2\n"
          ],
          "name": "stdout"
        }
      ]
    },
    {
      "cell_type": "code",
      "metadata": {
        "id": "Am0p54906EVh",
        "colab_type": "code",
        "colab": {}
      },
      "source": [
        "from rouge.rouge import rouge_n_sentence_level\n",
        "\n",
        "def calcualte_score_using_rouge(summary_sentence, reference_sentence):\n",
        "  recall, precision, rouge = rouge_n_sentence_level(summary_sentence, reference_sentence, 3)\n",
        "  print('ROUGE-2-R', recall)\n",
        "  print('ROUGE-2-P', precision)\n",
        "  print('ROUGE-2-F', rouge)\n",
        "\n",
        "  return recall, precision, rouge"
      ],
      "execution_count": 0,
      "outputs": []
    },
    {
      "cell_type": "code",
      "metadata": {
        "id": "AUouMN-LLa4T",
        "colab_type": "code",
        "outputId": "89441811-e665-405d-8e11-28e5f357ec7c",
        "colab": {
          "base_uri": "https://localhost:8080/",
          "height": 1000
        }
      },
      "source": [
        "total_recall_rake = 0\n",
        "total_precision_rake = 0\n",
        "total_f1_rake = 0\n",
        "\n",
        "total_recall_pke = 0\n",
        "total_precision_pke = 0\n",
        "total_f1_pke = 0\n",
        "\n",
        "total_recall_tks = 0\n",
        "total_precision_tks = 0\n",
        "total_f1_tks = 0\n",
        "\n",
        "\n",
        "for i in range(0, len(business_tags)):\n",
        "  print('-#-#-#-#-#-#-#-#-#-#-#-#-#-#-#-#-# ' + str(i) + ' #-#-#-#-#-#-#-#-#-#-#-#-#-#-#-#-#-')\n",
        "  print('-----------------------RAKE-----------------------')\n",
        "  summary_sentence = ' '.join(([tks for tks in business_tags.iloc[i]['rake_output']]))\n",
        "  reference_sentence = ' '.join(([ptr for ptr in business_tags.iloc[i]['pytextrank']]))\n",
        "\n",
        "  recall, precision, rouge = calcualte_score_using_rouge(summary_sentence, reference_sentence)\n",
        "\n",
        "  total_recall_rake += recall\n",
        "  total_precision_rake += precision\n",
        "  total_f1_rake += rouge\n",
        "\n",
        "  print('-----------------------PKE-----------------------')\n",
        "  summary_sentence = ' '.join(([tks for tks in business_tags.iloc[i]['pke_output']]))\n",
        "  reference_sentence = ' '.join(([ptr for ptr in business_tags.iloc[i]['pytextrank']]))\n",
        "\n",
        "  recall, precision, rouge = calcualte_score_using_rouge(summary_sentence, reference_sentence)\n",
        "\n",
        "  total_recall_pke += recall\n",
        "  total_precision_pke += precision\n",
        "  total_f1_pke += rouge\n",
        "\n",
        "  print('-----------------------TKS-----------------------')\n",
        "  summary_sentence = ' '.join(([tks for tks in business_tags.iloc[i]['tks_output']]))\n",
        "  reference_sentence = ' '.join(([ptr for ptr in business_tags.iloc[i]['pytextrank']]))\n",
        "\n",
        "  recall, precision, rouge = calcualte_score_using_rouge(summary_sentence, reference_sentence)\n",
        "\n",
        "  total_recall_tks += recall\n",
        "  total_precision_tks += precision\n",
        "  total_f1_tks += rouge"
      ],
      "execution_count": 95,
      "outputs": [
        {
          "output_type": "stream",
          "text": [
            "-#-#-#-#-#-#-#-#-#-#-#-#-#-#-#-#-# 0 #-#-#-#-#-#-#-#-#-#-#-#-#-#-#-#-#-\n",
            "-----------------------RAKE-----------------------\n",
            "ROUGE-2-R 0.16604805626098848\n",
            "ROUGE-2-P 0.8559919436052367\n",
            "ROUGE-2-F 0.27814136125654454\n",
            "-----------------------PKE-----------------------\n",
            "ROUGE-2-R 0.07560070326235593\n",
            "ROUGE-2-P 0.9555555555555556\n",
            "ROUGE-2-F 0.14011585807385954\n",
            "-----------------------TKS-----------------------\n",
            "ROUGE-2-R 0.259034967767142\n",
            "ROUGE-2-P 0.9038854805725971\n",
            "ROUGE-2-F 0.40267233525660495\n",
            "-#-#-#-#-#-#-#-#-#-#-#-#-#-#-#-#-# 1 #-#-#-#-#-#-#-#-#-#-#-#-#-#-#-#-#-\n",
            "-----------------------RAKE-----------------------\n",
            "ROUGE-2-R 0.15964560347709797\n",
            "ROUGE-2-P 0.8673932788374206\n",
            "ROUGE-2-F 0.26965974869405623\n",
            "-----------------------PKE-----------------------\n",
            "ROUGE-2-R 0.0710464727515881\n",
            "ROUGE-2-P 0.9837962962962963\n",
            "ROUGE-2-F 0.13252260679763017\n",
            "-----------------------TKS-----------------------\n",
            "ROUGE-2-R 0.22684720829154129\n",
            "ROUGE-2-P 0.9679029957203994\n",
            "ROUGE-2-F 0.36755146262188515\n",
            "-#-#-#-#-#-#-#-#-#-#-#-#-#-#-#-#-# 2 #-#-#-#-#-#-#-#-#-#-#-#-#-#-#-#-#-\n",
            "-----------------------RAKE-----------------------\n",
            "ROUGE-2-R 0.15592396741460626\n",
            "ROUGE-2-P 0.9114452798663325\n",
            "ROUGE-2-F 0.26629240907981444\n",
            "-----------------------PKE-----------------------\n",
            "ROUGE-2-R 0.049592682578247824\n",
            "ROUGE-2-P 0.9719887955182073\n",
            "ROUGE-2-F 0.09437041066086484\n",
            "-----------------------TKS-----------------------\n",
            "ROUGE-2-R 0.16707160211519223\n",
            "ROUGE-2-P 0.9613486842105263\n",
            "ROUGE-2-F 0.28467064410081583\n",
            "-#-#-#-#-#-#-#-#-#-#-#-#-#-#-#-#-# 3 #-#-#-#-#-#-#-#-#-#-#-#-#-#-#-#-#-\n",
            "-----------------------RAKE-----------------------\n",
            "ROUGE-2-R 0.13751724137931035\n",
            "ROUGE-2-P 0.874561403508772\n",
            "ROUGE-2-F 0.23766388557806914\n",
            "-----------------------PKE-----------------------\n",
            "ROUGE-2-R 0.052551724137931036\n",
            "ROUGE-2-P 0.9896103896103896\n",
            "ROUGE-2-F 0.09980353634577604\n",
            "-----------------------TKS-----------------------\n",
            "ROUGE-2-R 0.21917241379310345\n",
            "ROUGE-2-P 0.9595410628019324\n",
            "ROUGE-2-F 0.356838086683135\n",
            "-#-#-#-#-#-#-#-#-#-#-#-#-#-#-#-#-# 4 #-#-#-#-#-#-#-#-#-#-#-#-#-#-#-#-#-\n",
            "-----------------------RAKE-----------------------\n",
            "ROUGE-2-R 0.2061763655837201\n",
            "ROUGE-2-P 0.8816793893129771\n",
            "ROUGE-2-F 0.3342013888888889\n",
            "-----------------------PKE-----------------------\n",
            "ROUGE-2-R 0.06247768654052124\n",
            "ROUGE-2-P 0.9668508287292817\n",
            "ROUGE-2-F 0.11737089201877933\n",
            "-----------------------TKS-----------------------\n",
            "ROUGE-2-R 0.25276686897536593\n",
            "ROUGE-2-P 0.9230769230769231\n",
            "ROUGE-2-F 0.3968609865470852\n",
            "-#-#-#-#-#-#-#-#-#-#-#-#-#-#-#-#-# 5 #-#-#-#-#-#-#-#-#-#-#-#-#-#-#-#-#-\n",
            "-----------------------RAKE-----------------------\n",
            "ROUGE-2-R 0.1429498269896194\n",
            "ROUGE-2-P 0.8708827404479579\n",
            "ROUGE-2-F 0.2455879621029166\n",
            "-----------------------PKE-----------------------\n",
            "ROUGE-2-R 0.07547577854671281\n",
            "ROUGE-2-P 0.9748603351955307\n",
            "ROUGE-2-F 0.14010437575270976\n",
            "-----------------------TKS-----------------------\n",
            "ROUGE-2-R 0.2324826989619377\n",
            "ROUGE-2-P 0.9693417493237151\n",
            "ROUGE-2-F 0.3750218035932321\n",
            "-#-#-#-#-#-#-#-#-#-#-#-#-#-#-#-#-# 6 #-#-#-#-#-#-#-#-#-#-#-#-#-#-#-#-#-\n",
            "-----------------------RAKE-----------------------\n",
            "ROUGE-2-R 0.12870252061795795\n",
            "ROUGE-2-P 0.9217970049916805\n",
            "ROUGE-2-F 0.2258689226378555\n",
            "-----------------------PKE-----------------------\n",
            "ROUGE-2-R 0.04355906609362295\n",
            "ROUGE-2-P 0.9973404255319149\n",
            "ROUGE-2-F 0.08347245409015025\n",
            "-----------------------TKS-----------------------\n",
            "ROUGE-2-R 0.2802880706237658\n",
            "ROUGE-2-P 0.9575396825396826\n",
            "ROUGE-2-F 0.43364183664300476\n",
            "-#-#-#-#-#-#-#-#-#-#-#-#-#-#-#-#-# 7 #-#-#-#-#-#-#-#-#-#-#-#-#-#-#-#-#-\n",
            "-----------------------RAKE-----------------------\n",
            "ROUGE-2-R 0.07030812324929972\n",
            "ROUGE-2-P 0.944792973651192\n",
            "ROUGE-2-F 0.13087685756496045\n",
            "-----------------------PKE-----------------------\n",
            "ROUGE-2-R 0.03557422969187675\n",
            "ROUGE-2-P 0.9870466321243523\n",
            "ROUGE-2-F 0.06867339581831289\n",
            "-----------------------TKS-----------------------\n",
            "ROUGE-2-R 0.18272642390289448\n",
            "ROUGE-2-P 0.9849018621036739\n",
            "ROUGE-2-F 0.30826179412459637\n",
            "-#-#-#-#-#-#-#-#-#-#-#-#-#-#-#-#-# 8 #-#-#-#-#-#-#-#-#-#-#-#-#-#-#-#-#-\n",
            "-----------------------RAKE-----------------------\n",
            "ROUGE-2-R 0.15432873274780426\n",
            "ROUGE-2-P 0.9389312977099237\n",
            "ROUGE-2-F 0.26508620689655166\n",
            "-----------------------PKE-----------------------\n",
            "ROUGE-2-R 0.051191969887076534\n",
            "ROUGE-2-P 0.9807692307692307\n",
            "ROUGE-2-F 0.09730503219651801\n",
            "-----------------------TKS-----------------------\n",
            "ROUGE-2-R 0.24479297365119196\n",
            "ROUGE-2-P 0.96250616674889\n",
            "ROUGE-2-F 0.39031709512853857\n",
            "-#-#-#-#-#-#-#-#-#-#-#-#-#-#-#-#-# 9 #-#-#-#-#-#-#-#-#-#-#-#-#-#-#-#-#-\n",
            "-----------------------RAKE-----------------------\n",
            "ROUGE-2-R 0.13258399806623156\n",
            "ROUGE-2-P 0.9424398625429553\n",
            "ROUGE-2-F 0.23246450519177791\n",
            "-----------------------PKE-----------------------\n",
            "ROUGE-2-R 0.03831278704375151\n",
            "ROUGE-2-P 0.9937304075235109\n",
            "ROUGE-2-F 0.07378098452228558\n",
            "-----------------------TKS-----------------------\n",
            "ROUGE-2-R 0.19204737732656516\n",
            "ROUGE-2-P 0.961864406779661\n",
            "ROUGE-2-F 0.3201692524682652\n",
            "-#-#-#-#-#-#-#-#-#-#-#-#-#-#-#-#-# 10 #-#-#-#-#-#-#-#-#-#-#-#-#-#-#-#-#-\n",
            "-----------------------RAKE-----------------------\n",
            "ROUGE-2-R 0.11498973305954825\n",
            "ROUGE-2-P 0.9085545722713865\n",
            "ROUGE-2-F 0.204142502071251\n",
            "-----------------------PKE-----------------------\n",
            "ROUGE-2-R 0.060854956132163525\n",
            "ROUGE-2-P 0.9760479041916168\n",
            "ROUGE-2-F 0.11456685995431382\n",
            "-----------------------TKS-----------------------\n",
            "ROUGE-2-R 0.2335262273660631\n",
            "ROUGE-2-P 0.9484457922668689\n",
            "ROUGE-2-F 0.37477531455961655\n",
            "-#-#-#-#-#-#-#-#-#-#-#-#-#-#-#-#-# 11 #-#-#-#-#-#-#-#-#-#-#-#-#-#-#-#-#-\n",
            "-----------------------RAKE-----------------------\n",
            "ROUGE-2-R 0.1514565992865636\n",
            "ROUGE-2-P 0.900972590627763\n",
            "ROUGE-2-F 0.2593205242397252\n",
            "-----------------------PKE-----------------------\n",
            "ROUGE-2-R 0.05648038049940547\n",
            "ROUGE-2-P 0.9768637532133676\n",
            "ROUGE-2-F 0.1067865673738935\n",
            "-----------------------TKS-----------------------\n",
            "ROUGE-2-R 0.241230677764566\n",
            "ROUGE-2-P 0.9609236234458259\n",
            "ROUGE-2-F 0.385648093144826\n",
            "-#-#-#-#-#-#-#-#-#-#-#-#-#-#-#-#-# 12 #-#-#-#-#-#-#-#-#-#-#-#-#-#-#-#-#-\n",
            "-----------------------RAKE-----------------------\n",
            "ROUGE-2-R 0.11088936010976674\n",
            "ROUGE-2-P 0.8952668680765358\n",
            "ROUGE-2-F 0.19733629300776914\n",
            "-----------------------PKE-----------------------\n",
            "ROUGE-2-R 0.05039291505550705\n",
            "ROUGE-2-P 0.9926289926289926\n",
            "ROUGE-2-F 0.09591642924976257\n",
            "-----------------------TKS-----------------------\n",
            "ROUGE-2-R 0.2621928402145441\n",
            "ROUGE-2-P 0.9489841986455982\n",
            "ROUGE-2-F 0.4108678655199374\n",
            "-#-#-#-#-#-#-#-#-#-#-#-#-#-#-#-#-# 13 #-#-#-#-#-#-#-#-#-#-#-#-#-#-#-#-#-\n",
            "-----------------------RAKE-----------------------\n",
            "ROUGE-2-R 0.14013188883655206\n",
            "ROUGE-2-P 0.9083969465648855\n",
            "ROUGE-2-F 0.24280759028769644\n",
            "-----------------------PKE-----------------------\n",
            "ROUGE-2-R 0.04015544041450777\n",
            "ROUGE-2-P 0.9660056657223796\n",
            "ROUGE-2-F 0.07710570944036178\n",
            "-----------------------TKS-----------------------\n",
            "ROUGE-2-R 0.2369288742345737\n",
            "ROUGE-2-P 0.9776482021379981\n",
            "ROUGE-2-F 0.38142180094786726\n",
            "-#-#-#-#-#-#-#-#-#-#-#-#-#-#-#-#-# 14 #-#-#-#-#-#-#-#-#-#-#-#-#-#-#-#-#-\n",
            "-----------------------RAKE-----------------------\n",
            "ROUGE-2-R 0.13029218843172333\n",
            "ROUGE-2-P 0.9397849462365592\n",
            "ROUGE-2-F 0.22885572139303484\n",
            "-----------------------PKE-----------------------\n",
            "ROUGE-2-R 0.06678592725104353\n",
            "ROUGE-2-P 0.9781659388646288\n",
            "ROUGE-2-F 0.1250348869662294\n",
            "-----------------------TKS-----------------------\n",
            "ROUGE-2-R 0.36627906976744184\n",
            "ROUGE-2-P 0.9406584992343032\n",
            "ROUGE-2-F 0.5272532188841202\n"
          ],
          "name": "stdout"
        }
      ]
    },
    {
      "cell_type": "code",
      "metadata": {
        "id": "saJhIfF45HdG",
        "colab_type": "code",
        "colab": {}
      },
      "source": [
        "total_recall_rake /= len(business_tags)\n",
        "total_precision_rake /= len(business_tags)\n",
        "total_f1_rake /= len(business_tags)\n",
        "\n",
        "total_recall_pke /= len(business_tags)\n",
        "total_precision_pke /= len(business_tags)\n",
        "total_f1_pke /= len(business_tags)\n",
        "\n",
        "total_recall_tks /= len(business_tags)\n",
        "total_precision_tks /= len(business_tags)\n",
        "total_f1_tks /= len(business_tags)"
      ],
      "execution_count": 0,
      "outputs": []
    },
    {
      "cell_type": "code",
      "metadata": {
        "id": "pPjLh3PNA1zk",
        "colab_type": "code",
        "colab": {}
      },
      "source": [
        "all_precision = [total_precision_rake, total_precision_pke, total_precision_tks]\n",
        "all_recall = [total_recall_rake, total_recall_pke, total_recall_tks]\n",
        "all_f1 = [total_f1_rake, total_f1_pke, total_f1_tks]"
      ],
      "execution_count": 0,
      "outputs": []
    },
    {
      "cell_type": "code",
      "metadata": {
        "id": "1NoioRcCA-41",
        "colab_type": "code",
        "colab": {}
      },
      "source": [
        "all_values = pd.DataFrame()"
      ],
      "execution_count": 0,
      "outputs": []
    },
    {
      "cell_type": "code",
      "metadata": {
        "id": "9QVNQ5cDBCcy",
        "colab_type": "code",
        "colab": {}
      },
      "source": [
        "all_values['algorithms'] = ['RAKE', 'PKE', 'OUR APPROACH']\n",
        "all_values['precision'] = all_precision\n",
        "all_values['recall'] = all_recall\n",
        "all_values['f1'] = all_f1"
      ],
      "execution_count": 0,
      "outputs": []
    },
    {
      "cell_type": "code",
      "metadata": {
        "id": "1p6DkAVLCFRc",
        "colab_type": "code",
        "outputId": "b9001ed8-a79a-4ae1-8806-703701d3aafe",
        "colab": {
          "base_uri": "https://localhost:8080/",
          "height": 166
        }
      },
      "source": [
        "all_values.set_index('algorithms')"
      ],
      "execution_count": 100,
      "outputs": [
        {
          "output_type": "execute_result",
          "data": {
            "text/html": [
              "<div>\n",
              "<style scoped>\n",
              "    .dataframe tbody tr th:only-of-type {\n",
              "        vertical-align: middle;\n",
              "    }\n",
              "\n",
              "    .dataframe tbody tr th {\n",
              "        vertical-align: top;\n",
              "    }\n",
              "\n",
              "    .dataframe thead th {\n",
              "        text-align: right;\n",
              "    }\n",
              "</style>\n",
              "<table border=\"1\" class=\"dataframe\">\n",
              "  <thead>\n",
              "    <tr style=\"text-align: right;\">\n",
              "      <th></th>\n",
              "      <th>precision</th>\n",
              "      <th>recall</th>\n",
              "      <th>f1</th>\n",
              "    </tr>\n",
              "    <tr>\n",
              "      <th>algorithms</th>\n",
              "      <th></th>\n",
              "      <th></th>\n",
              "      <th></th>\n",
              "    </tr>\n",
              "  </thead>\n",
              "  <tbody>\n",
              "    <tr>\n",
              "      <th>RAKE</th>\n",
              "      <td>0.904193</td>\n",
              "      <td>0.140130</td>\n",
              "      <td>0.241220</td>\n",
              "    </tr>\n",
              "    <tr>\n",
              "      <th>PKE</th>\n",
              "      <td>0.979417</td>\n",
              "      <td>0.055337</td>\n",
              "      <td>0.104462</td>\n",
              "    </tr>\n",
              "    <tr>\n",
              "      <th>OUR APPROACH</th>\n",
              "      <td>0.955238</td>\n",
              "      <td>0.239826</td>\n",
              "      <td>0.381065</td>\n",
              "    </tr>\n",
              "  </tbody>\n",
              "</table>\n",
              "</div>"
            ],
            "text/plain": [
              "              precision    recall        f1\n",
              "algorithms                                 \n",
              "RAKE           0.904193  0.140130  0.241220\n",
              "PKE            0.979417  0.055337  0.104462\n",
              "OUR APPROACH   0.955238  0.239826  0.381065"
            ]
          },
          "metadata": {
            "tags": []
          },
          "execution_count": 100
        }
      ]
    },
    {
      "cell_type": "code",
      "metadata": {
        "id": "2Bqf7z4dHVcH",
        "colab_type": "code",
        "colab": {}
      },
      "source": [
        ""
      ],
      "execution_count": 0,
      "outputs": []
    }
  ]
}