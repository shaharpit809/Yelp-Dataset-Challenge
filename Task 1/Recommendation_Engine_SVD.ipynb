{
  "nbformat": 4,
  "nbformat_minor": 0,
  "metadata": {
    "colab": {
      "name": "Recommendation_Engine_SVD.ipynb",
      "provenance": [],
      "collapsed_sections": []
    },
    "kernelspec": {
      "name": "python3",
      "display_name": "Python 3"
    }
  },
  "cells": [
    {
      "cell_type": "code",
      "metadata": {
        "id": "S624cQYD8hJF",
        "colab_type": "code",
        "outputId": "c03f92cb-a812-49f6-a4e7-f517a996639c",
        "colab": {
          "base_uri": "https://localhost:8080/",
          "height": 125
        }
      },
      "source": [
        "from google.colab import drive\n",
        "drive.mount('/content/drive')"
      ],
      "execution_count": 0,
      "outputs": [
        {
          "output_type": "stream",
          "text": [
            "Go to this URL in a browser: https://accounts.google.com/o/oauth2/auth?client_id=947318989803-6bn6qk8qdgf4n4g3pfee6491hc0brc4i.apps.googleusercontent.com&redirect_uri=urn%3aietf%3awg%3aoauth%3a2.0%3aoob&response_type=code&scope=email%20https%3a%2f%2fwww.googleapis.com%2fauth%2fdocs.test%20https%3a%2f%2fwww.googleapis.com%2fauth%2fdrive%20https%3a%2f%2fwww.googleapis.com%2fauth%2fdrive.photos.readonly%20https%3a%2f%2fwww.googleapis.com%2fauth%2fpeopleapi.readonly\n",
            "\n",
            "Enter your authorization code:\n",
            "··········\n",
            "Mounted at /content/drive\n"
          ],
          "name": "stdout"
        }
      ]
    },
    {
      "cell_type": "code",
      "metadata": {
        "id": "lP6WFKMg8h1l",
        "colab_type": "code",
        "colab": {}
      },
      "source": [
        "import pickle as pk\n",
        "file = open('/content/drive/My Drive/Data/business_review.pkl', 'rb')\n",
        "data = pk.load(file)"
      ],
      "execution_count": 0,
      "outputs": []
    },
    {
      "cell_type": "code",
      "metadata": {
        "id": "_imN_G5C9yny",
        "colab_type": "code",
        "outputId": "b072effb-a0fe-44bf-d6e8-3fc5d6061932",
        "colab": {
          "base_uri": "https://localhost:8080/",
          "height": 756
        }
      },
      "source": [
        "data.head()"
      ],
      "execution_count": 0,
      "outputs": [
        {
          "output_type": "execute_result",
          "data": {
            "text/html": [
              "<div>\n",
              "<style scoped>\n",
              "    .dataframe tbody tr th:only-of-type {\n",
              "        vertical-align: middle;\n",
              "    }\n",
              "\n",
              "    .dataframe tbody tr th {\n",
              "        vertical-align: top;\n",
              "    }\n",
              "\n",
              "    .dataframe thead th {\n",
              "        text-align: right;\n",
              "    }\n",
              "</style>\n",
              "<table border=\"1\" class=\"dataframe\">\n",
              "  <thead>\n",
              "    <tr style=\"text-align: right;\">\n",
              "      <th></th>\n",
              "      <th>business_id</th>\n",
              "      <th>name</th>\n",
              "      <th>address</th>\n",
              "      <th>city</th>\n",
              "      <th>state</th>\n",
              "      <th>postal_code</th>\n",
              "      <th>latitude</th>\n",
              "      <th>longitude</th>\n",
              "      <th>stars_x</th>\n",
              "      <th>review_count</th>\n",
              "      <th>is_open</th>\n",
              "      <th>attributes</th>\n",
              "      <th>categories</th>\n",
              "      <th>hours</th>\n",
              "      <th>review_id</th>\n",
              "      <th>user_id</th>\n",
              "      <th>stars_y</th>\n",
              "      <th>useful</th>\n",
              "      <th>funny</th>\n",
              "      <th>cool</th>\n",
              "      <th>text</th>\n",
              "      <th>date</th>\n",
              "    </tr>\n",
              "  </thead>\n",
              "  <tbody>\n",
              "    <tr>\n",
              "      <th>0</th>\n",
              "      <td>tstimHoMcYbkSC4eBA1wEg</td>\n",
              "      <td>Maria's Mexican Restaurant &amp; Bakery</td>\n",
              "      <td>6055 E Lake Mead Blvd</td>\n",
              "      <td>Las Vegas</td>\n",
              "      <td>NV</td>\n",
              "      <td>89156</td>\n",
              "      <td>36.195615</td>\n",
              "      <td>-115.040529</td>\n",
              "      <td>4.5</td>\n",
              "      <td>184</td>\n",
              "      <td>1</td>\n",
              "      <td>{'BikeParking': 'True', 'BusinessParking': '{'...</td>\n",
              "      <td>Mexican, Restaurants, Patisserie/Cake Shop, Fo...</td>\n",
              "      <td>{'Monday': '11:0-21:0', 'Tuesday': '10:0-21:0'...</td>\n",
              "      <td>iWFBGYotfzwiLsOka0e1Rw</td>\n",
              "      <td>Gvv5hQR8BYj5f-APtKwImQ</td>\n",
              "      <td>4.0</td>\n",
              "      <td>0</td>\n",
              "      <td>0</td>\n",
              "      <td>0</td>\n",
              "      <td>We found out about this gem from The Man's co-...</td>\n",
              "      <td>2014-01-17 00:59:36</td>\n",
              "    </tr>\n",
              "    <tr>\n",
              "      <th>1</th>\n",
              "      <td>tstimHoMcYbkSC4eBA1wEg</td>\n",
              "      <td>Maria's Mexican Restaurant &amp; Bakery</td>\n",
              "      <td>6055 E Lake Mead Blvd</td>\n",
              "      <td>Las Vegas</td>\n",
              "      <td>NV</td>\n",
              "      <td>89156</td>\n",
              "      <td>36.195615</td>\n",
              "      <td>-115.040529</td>\n",
              "      <td>4.5</td>\n",
              "      <td>184</td>\n",
              "      <td>1</td>\n",
              "      <td>{'BikeParking': 'True', 'BusinessParking': '{'...</td>\n",
              "      <td>Mexican, Restaurants, Patisserie/Cake Shop, Fo...</td>\n",
              "      <td>{'Monday': '11:0-21:0', 'Tuesday': '10:0-21:0'...</td>\n",
              "      <td>QhiVo4F8MFSoz1T7YggcXA</td>\n",
              "      <td>b-y736LEcRWXoNFj82AcOw</td>\n",
              "      <td>3.0</td>\n",
              "      <td>0</td>\n",
              "      <td>0</td>\n",
              "      <td>0</td>\n",
              "      <td>The \"chips\" are a fried corn tortilla which we...</td>\n",
              "      <td>2014-08-24 21:52:27</td>\n",
              "    </tr>\n",
              "    <tr>\n",
              "      <th>2</th>\n",
              "      <td>tstimHoMcYbkSC4eBA1wEg</td>\n",
              "      <td>Maria's Mexican Restaurant &amp; Bakery</td>\n",
              "      <td>6055 E Lake Mead Blvd</td>\n",
              "      <td>Las Vegas</td>\n",
              "      <td>NV</td>\n",
              "      <td>89156</td>\n",
              "      <td>36.195615</td>\n",
              "      <td>-115.040529</td>\n",
              "      <td>4.5</td>\n",
              "      <td>184</td>\n",
              "      <td>1</td>\n",
              "      <td>{'BikeParking': 'True', 'BusinessParking': '{'...</td>\n",
              "      <td>Mexican, Restaurants, Patisserie/Cake Shop, Fo...</td>\n",
              "      <td>{'Monday': '11:0-21:0', 'Tuesday': '10:0-21:0'...</td>\n",
              "      <td>FUv-c5CkLy71yFTGLrp2ag</td>\n",
              "      <td>_7_Bh8VaUTUgFhmQ59ml0g</td>\n",
              "      <td>4.0</td>\n",
              "      <td>1</td>\n",
              "      <td>0</td>\n",
              "      <td>1</td>\n",
              "      <td>The pollo mole is well worth the trip out here...</td>\n",
              "      <td>2011-09-26 01:53:09</td>\n",
              "    </tr>\n",
              "    <tr>\n",
              "      <th>3</th>\n",
              "      <td>tstimHoMcYbkSC4eBA1wEg</td>\n",
              "      <td>Maria's Mexican Restaurant &amp; Bakery</td>\n",
              "      <td>6055 E Lake Mead Blvd</td>\n",
              "      <td>Las Vegas</td>\n",
              "      <td>NV</td>\n",
              "      <td>89156</td>\n",
              "      <td>36.195615</td>\n",
              "      <td>-115.040529</td>\n",
              "      <td>4.5</td>\n",
              "      <td>184</td>\n",
              "      <td>1</td>\n",
              "      <td>{'BikeParking': 'True', 'BusinessParking': '{'...</td>\n",
              "      <td>Mexican, Restaurants, Patisserie/Cake Shop, Fo...</td>\n",
              "      <td>{'Monday': '11:0-21:0', 'Tuesday': '10:0-21:0'...</td>\n",
              "      <td>lJfGtkCc4in6Xcq-_Wtfwg</td>\n",
              "      <td>PFdPopcevMX7_2cx27rJKA</td>\n",
              "      <td>3.0</td>\n",
              "      <td>0</td>\n",
              "      <td>0</td>\n",
              "      <td>0</td>\n",
              "      <td>I've ordered Caldo de Rez from here twice and ...</td>\n",
              "      <td>2017-03-27 21:03:02</td>\n",
              "    </tr>\n",
              "    <tr>\n",
              "      <th>4</th>\n",
              "      <td>tstimHoMcYbkSC4eBA1wEg</td>\n",
              "      <td>Maria's Mexican Restaurant &amp; Bakery</td>\n",
              "      <td>6055 E Lake Mead Blvd</td>\n",
              "      <td>Las Vegas</td>\n",
              "      <td>NV</td>\n",
              "      <td>89156</td>\n",
              "      <td>36.195615</td>\n",
              "      <td>-115.040529</td>\n",
              "      <td>4.5</td>\n",
              "      <td>184</td>\n",
              "      <td>1</td>\n",
              "      <td>{'BikeParking': 'True', 'BusinessParking': '{'...</td>\n",
              "      <td>Mexican, Restaurants, Patisserie/Cake Shop, Fo...</td>\n",
              "      <td>{'Monday': '11:0-21:0', 'Tuesday': '10:0-21:0'...</td>\n",
              "      <td>BKoH9aG1ZjUjy2brzkxzJw</td>\n",
              "      <td>IxBVL9K2K9aur-_zKvIJiw</td>\n",
              "      <td>5.0</td>\n",
              "      <td>0</td>\n",
              "      <td>0</td>\n",
              "      <td>0</td>\n",
              "      <td>My boyfriend doesn't like Mexican food yet he ...</td>\n",
              "      <td>2014-02-06 03:59:50</td>\n",
              "    </tr>\n",
              "  </tbody>\n",
              "</table>\n",
              "</div>"
            ],
            "text/plain": [
              "              business_id  ...                 date\n",
              "0  tstimHoMcYbkSC4eBA1wEg  ...  2014-01-17 00:59:36\n",
              "1  tstimHoMcYbkSC4eBA1wEg  ...  2014-08-24 21:52:27\n",
              "2  tstimHoMcYbkSC4eBA1wEg  ...  2011-09-26 01:53:09\n",
              "3  tstimHoMcYbkSC4eBA1wEg  ...  2017-03-27 21:03:02\n",
              "4  tstimHoMcYbkSC4eBA1wEg  ...  2014-02-06 03:59:50\n",
              "\n",
              "[5 rows x 22 columns]"
            ]
          },
          "metadata": {
            "tags": []
          },
          "execution_count": 3
        }
      ]
    },
    {
      "cell_type": "code",
      "metadata": {
        "id": "_Tt4kL6U9043",
        "colab_type": "code",
        "colab": {}
      },
      "source": [
        "df = data[['user_id','business_id','stars_x']]"
      ],
      "execution_count": 0,
      "outputs": []
    },
    {
      "cell_type": "code",
      "metadata": {
        "id": "2JjWfvNr_GZh",
        "colab_type": "code",
        "outputId": "3d7af176-8843-4822-d09b-ccb2b53485ce",
        "colab": {
          "base_uri": "https://localhost:8080/",
          "height": 52
        }
      },
      "source": [
        "n_users = df.user_id.nunique()\n",
        "n_items = df.business_id.nunique()\n",
        "\n",
        "print('Num. of Users: '+ str(n_users))\n",
        "print('Num of Businesses: '+str(n_items))"
      ],
      "execution_count": 0,
      "outputs": [
        {
          "output_type": "stream",
          "text": [
            "Num. of Users: 427523\n",
            "Num of Businesses: 3520\n"
          ],
          "name": "stdout"
        }
      ]
    },
    {
      "cell_type": "code",
      "metadata": {
        "id": "3vikt_4k_F66",
        "colab_type": "code",
        "outputId": "6abffbcf-1ea1-4abe-fd31-64d8bedce835",
        "colab": {
          "base_uri": "https://localhost:8080/",
          "height": 417
        }
      },
      "source": [
        "df"
      ],
      "execution_count": 0,
      "outputs": [
        {
          "output_type": "execute_result",
          "data": {
            "text/html": [
              "<div>\n",
              "<style scoped>\n",
              "    .dataframe tbody tr th:only-of-type {\n",
              "        vertical-align: middle;\n",
              "    }\n",
              "\n",
              "    .dataframe tbody tr th {\n",
              "        vertical-align: top;\n",
              "    }\n",
              "\n",
              "    .dataframe thead th {\n",
              "        text-align: right;\n",
              "    }\n",
              "</style>\n",
              "<table border=\"1\" class=\"dataframe\">\n",
              "  <thead>\n",
              "    <tr style=\"text-align: right;\">\n",
              "      <th></th>\n",
              "      <th>user_id</th>\n",
              "      <th>business_id</th>\n",
              "      <th>stars_x</th>\n",
              "    </tr>\n",
              "  </thead>\n",
              "  <tbody>\n",
              "    <tr>\n",
              "      <th>0</th>\n",
              "      <td>Gvv5hQR8BYj5f-APtKwImQ</td>\n",
              "      <td>tstimHoMcYbkSC4eBA1wEg</td>\n",
              "      <td>4.5</td>\n",
              "    </tr>\n",
              "    <tr>\n",
              "      <th>1</th>\n",
              "      <td>b-y736LEcRWXoNFj82AcOw</td>\n",
              "      <td>tstimHoMcYbkSC4eBA1wEg</td>\n",
              "      <td>4.5</td>\n",
              "    </tr>\n",
              "    <tr>\n",
              "      <th>2</th>\n",
              "      <td>_7_Bh8VaUTUgFhmQ59ml0g</td>\n",
              "      <td>tstimHoMcYbkSC4eBA1wEg</td>\n",
              "      <td>4.5</td>\n",
              "    </tr>\n",
              "    <tr>\n",
              "      <th>3</th>\n",
              "      <td>PFdPopcevMX7_2cx27rJKA</td>\n",
              "      <td>tstimHoMcYbkSC4eBA1wEg</td>\n",
              "      <td>4.5</td>\n",
              "    </tr>\n",
              "    <tr>\n",
              "      <th>4</th>\n",
              "      <td>IxBVL9K2K9aur-_zKvIJiw</td>\n",
              "      <td>tstimHoMcYbkSC4eBA1wEg</td>\n",
              "      <td>4.5</td>\n",
              "    </tr>\n",
              "    <tr>\n",
              "      <th>...</th>\n",
              "      <td>...</td>\n",
              "      <td>...</td>\n",
              "      <td>...</td>\n",
              "    </tr>\n",
              "    <tr>\n",
              "      <th>1201455</th>\n",
              "      <td>8QKrhvVqhEkD8xo4E4s0GQ</td>\n",
              "      <td>vIAEWbTJc657yN8I4z7whQ</td>\n",
              "      <td>3.0</td>\n",
              "    </tr>\n",
              "    <tr>\n",
              "      <th>1201456</th>\n",
              "      <td>9ks-80ZxeCZWNObzEbW4-Q</td>\n",
              "      <td>vIAEWbTJc657yN8I4z7whQ</td>\n",
              "      <td>3.0</td>\n",
              "    </tr>\n",
              "    <tr>\n",
              "      <th>1201457</th>\n",
              "      <td>EA-UgJmd-hQ8RBn1odmDJg</td>\n",
              "      <td>vIAEWbTJc657yN8I4z7whQ</td>\n",
              "      <td>3.0</td>\n",
              "    </tr>\n",
              "    <tr>\n",
              "      <th>1201458</th>\n",
              "      <td>bcxc4OF5SDiJ4xnNMBZUQQ</td>\n",
              "      <td>vIAEWbTJc657yN8I4z7whQ</td>\n",
              "      <td>3.0</td>\n",
              "    </tr>\n",
              "    <tr>\n",
              "      <th>1201459</th>\n",
              "      <td>TglAI9psHTtSRoI7TbttcQ</td>\n",
              "      <td>vIAEWbTJc657yN8I4z7whQ</td>\n",
              "      <td>3.0</td>\n",
              "    </tr>\n",
              "  </tbody>\n",
              "</table>\n",
              "<p>1201460 rows × 3 columns</p>\n",
              "</div>"
            ],
            "text/plain": [
              "                        user_id             business_id  stars_x\n",
              "0        Gvv5hQR8BYj5f-APtKwImQ  tstimHoMcYbkSC4eBA1wEg      4.5\n",
              "1        b-y736LEcRWXoNFj82AcOw  tstimHoMcYbkSC4eBA1wEg      4.5\n",
              "2        _7_Bh8VaUTUgFhmQ59ml0g  tstimHoMcYbkSC4eBA1wEg      4.5\n",
              "3        PFdPopcevMX7_2cx27rJKA  tstimHoMcYbkSC4eBA1wEg      4.5\n",
              "4        IxBVL9K2K9aur-_zKvIJiw  tstimHoMcYbkSC4eBA1wEg      4.5\n",
              "...                         ...                     ...      ...\n",
              "1201455  8QKrhvVqhEkD8xo4E4s0GQ  vIAEWbTJc657yN8I4z7whQ      3.0\n",
              "1201456  9ks-80ZxeCZWNObzEbW4-Q  vIAEWbTJc657yN8I4z7whQ      3.0\n",
              "1201457  EA-UgJmd-hQ8RBn1odmDJg  vIAEWbTJc657yN8I4z7whQ      3.0\n",
              "1201458  bcxc4OF5SDiJ4xnNMBZUQQ  vIAEWbTJc657yN8I4z7whQ      3.0\n",
              "1201459  TglAI9psHTtSRoI7TbttcQ  vIAEWbTJc657yN8I4z7whQ      3.0\n",
              "\n",
              "[1201460 rows x 3 columns]"
            ]
          },
          "metadata": {
            "tags": []
          },
          "execution_count": 6
        }
      ]
    },
    {
      "cell_type": "code",
      "metadata": {
        "id": "S7SBP3olFeXR",
        "colab_type": "code",
        "outputId": "92e2dbe8-e35c-4d6b-ad98-c873369c0e61",
        "colab": {
          "base_uri": "https://localhost:8080/",
          "height": 447
        }
      },
      "source": [
        "df.groupby(['business_id']).count()\n"
      ],
      "execution_count": 0,
      "outputs": [
        {
          "output_type": "execute_result",
          "data": {
            "text/html": [
              "<div>\n",
              "<style scoped>\n",
              "    .dataframe tbody tr th:only-of-type {\n",
              "        vertical-align: middle;\n",
              "    }\n",
              "\n",
              "    .dataframe tbody tr th {\n",
              "        vertical-align: top;\n",
              "    }\n",
              "\n",
              "    .dataframe thead th {\n",
              "        text-align: right;\n",
              "    }\n",
              "</style>\n",
              "<table border=\"1\" class=\"dataframe\">\n",
              "  <thead>\n",
              "    <tr style=\"text-align: right;\">\n",
              "      <th></th>\n",
              "      <th>user_id</th>\n",
              "      <th>stars_x</th>\n",
              "    </tr>\n",
              "    <tr>\n",
              "      <th>business_id</th>\n",
              "      <th></th>\n",
              "      <th></th>\n",
              "    </tr>\n",
              "  </thead>\n",
              "  <tbody>\n",
              "    <tr>\n",
              "      <th>--9e1ONYQuAa-CB_Rrw7Tw</th>\n",
              "      <td>1661</td>\n",
              "      <td>1661</td>\n",
              "    </tr>\n",
              "    <tr>\n",
              "      <th>--FBCX-N37CMYDfs790Bnw</th>\n",
              "      <td>142</td>\n",
              "      <td>142</td>\n",
              "    </tr>\n",
              "    <tr>\n",
              "      <th>-0RkJ_uIduNLWQrphbADRw</th>\n",
              "      <td>63</td>\n",
              "      <td>63</td>\n",
              "    </tr>\n",
              "    <tr>\n",
              "      <th>-1m9o3vGRA8IBPNvNqKLmA</th>\n",
              "      <td>259</td>\n",
              "      <td>259</td>\n",
              "    </tr>\n",
              "    <tr>\n",
              "      <th>-3zffZUHoY8bQjGfPSoBKQ</th>\n",
              "      <td>653</td>\n",
              "      <td>653</td>\n",
              "    </tr>\n",
              "    <tr>\n",
              "      <th>...</th>\n",
              "      <td>...</td>\n",
              "      <td>...</td>\n",
              "    </tr>\n",
              "    <tr>\n",
              "      <th>zu0a9GPCG8i7jbAJ3-H6LQ</th>\n",
              "      <td>62</td>\n",
              "      <td>62</td>\n",
              "    </tr>\n",
              "    <tr>\n",
              "      <th>zuwba6QEBIDZT0tJZmNhdQ</th>\n",
              "      <td>307</td>\n",
              "      <td>307</td>\n",
              "    </tr>\n",
              "    <tr>\n",
              "      <th>zvQIEpJUmLLmMMffNntHXQ</th>\n",
              "      <td>140</td>\n",
              "      <td>140</td>\n",
              "    </tr>\n",
              "    <tr>\n",
              "      <th>zwNC-Ow4eIMan2__bS9-rg</th>\n",
              "      <td>601</td>\n",
              "      <td>601</td>\n",
              "    </tr>\n",
              "    <tr>\n",
              "      <th>zx_j6OuuHHa2afVoAZuLpA</th>\n",
              "      <td>78</td>\n",
              "      <td>78</td>\n",
              "    </tr>\n",
              "  </tbody>\n",
              "</table>\n",
              "<p>3520 rows × 2 columns</p>\n",
              "</div>"
            ],
            "text/plain": [
              "                        user_id  stars_x\n",
              "business_id                             \n",
              "--9e1ONYQuAa-CB_Rrw7Tw     1661     1661\n",
              "--FBCX-N37CMYDfs790Bnw      142      142\n",
              "-0RkJ_uIduNLWQrphbADRw       63       63\n",
              "-1m9o3vGRA8IBPNvNqKLmA      259      259\n",
              "-3zffZUHoY8bQjGfPSoBKQ      653      653\n",
              "...                         ...      ...\n",
              "zu0a9GPCG8i7jbAJ3-H6LQ       62       62\n",
              "zuwba6QEBIDZT0tJZmNhdQ      307      307\n",
              "zvQIEpJUmLLmMMffNntHXQ      140      140\n",
              "zwNC-Ow4eIMan2__bS9-rg      601      601\n",
              "zx_j6OuuHHa2afVoAZuLpA       78       78\n",
              "\n",
              "[3520 rows x 2 columns]"
            ]
          },
          "metadata": {
            "tags": []
          },
          "execution_count": 7
        }
      ]
    },
    {
      "cell_type": "code",
      "metadata": {
        "id": "PdTLMpjWFd9E",
        "colab_type": "code",
        "colab": {}
      },
      "source": [
        "grouped = df.groupby('business_id')"
      ],
      "execution_count": 0,
      "outputs": []
    },
    {
      "cell_type": "code",
      "metadata": {
        "id": "GYb3cweLKlUH",
        "colab_type": "code",
        "outputId": "77b6445d-ea27-4026-9c5e-0fcd55d02471",
        "colab": {
          "base_uri": "https://localhost:8080/",
          "height": 35
        }
      },
      "source": [
        "grouped"
      ],
      "execution_count": 0,
      "outputs": [
        {
          "output_type": "execute_result",
          "data": {
            "text/plain": [
              "<pandas.core.groupby.generic.DataFrameGroupBy object at 0x7f94d3e5d940>"
            ]
          },
          "metadata": {
            "tags": []
          },
          "execution_count": 9
        }
      ]
    },
    {
      "cell_type": "code",
      "metadata": {
        "id": "4UfFpxA-GqAh",
        "colab_type": "code",
        "colab": {}
      },
      "source": [
        "df = grouped.filter(lambda x: x['user_id'].count() > 80)"
      ],
      "execution_count": 0,
      "outputs": []
    },
    {
      "cell_type": "code",
      "metadata": {
        "id": "6zY8ICi6K-fy",
        "colab_type": "code",
        "outputId": "cd3754c5-900b-46c0-e14a-d9014917fb01",
        "colab": {
          "base_uri": "https://localhost:8080/",
          "height": 52
        }
      },
      "source": [
        "print(df.user_id.nunique())\n",
        "print(df.business_id.nunique())\n"
      ],
      "execution_count": 0,
      "outputs": [
        {
          "output_type": "stream",
          "text": [
            "419010\n",
            "2845\n"
          ],
          "name": "stdout"
        }
      ]
    },
    {
      "cell_type": "code",
      "metadata": {
        "id": "0jtow2QRzz5m",
        "colab_type": "code",
        "colab": {}
      },
      "source": [
        ""
      ],
      "execution_count": 0,
      "outputs": []
    },
    {
      "cell_type": "code",
      "metadata": {
        "id": "BcLC3ttkK-dF",
        "colab_type": "code",
        "outputId": "d1364abb-a9be-4f1d-efc6-109172e64b5a",
        "colab": {
          "base_uri": "https://localhost:8080/",
          "height": 447
        }
      },
      "source": [
        "df.groupby(['business_id']).count()"
      ],
      "execution_count": 0,
      "outputs": [
        {
          "output_type": "execute_result",
          "data": {
            "text/html": [
              "<div>\n",
              "<style scoped>\n",
              "    .dataframe tbody tr th:only-of-type {\n",
              "        vertical-align: middle;\n",
              "    }\n",
              "\n",
              "    .dataframe tbody tr th {\n",
              "        vertical-align: top;\n",
              "    }\n",
              "\n",
              "    .dataframe thead th {\n",
              "        text-align: right;\n",
              "    }\n",
              "</style>\n",
              "<table border=\"1\" class=\"dataframe\">\n",
              "  <thead>\n",
              "    <tr style=\"text-align: right;\">\n",
              "      <th></th>\n",
              "      <th>user_id</th>\n",
              "      <th>stars_x</th>\n",
              "    </tr>\n",
              "    <tr>\n",
              "      <th>business_id</th>\n",
              "      <th></th>\n",
              "      <th></th>\n",
              "    </tr>\n",
              "  </thead>\n",
              "  <tbody>\n",
              "    <tr>\n",
              "      <th>--9e1ONYQuAa-CB_Rrw7Tw</th>\n",
              "      <td>1661</td>\n",
              "      <td>1661</td>\n",
              "    </tr>\n",
              "    <tr>\n",
              "      <th>--FBCX-N37CMYDfs790Bnw</th>\n",
              "      <td>142</td>\n",
              "      <td>142</td>\n",
              "    </tr>\n",
              "    <tr>\n",
              "      <th>-1m9o3vGRA8IBPNvNqKLmA</th>\n",
              "      <td>259</td>\n",
              "      <td>259</td>\n",
              "    </tr>\n",
              "    <tr>\n",
              "      <th>-3zffZUHoY8bQjGfPSoBKQ</th>\n",
              "      <td>653</td>\n",
              "      <td>653</td>\n",
              "    </tr>\n",
              "    <tr>\n",
              "      <th>-8R_-EkGpUhBk55K9Dd4mg</th>\n",
              "      <td>122</td>\n",
              "      <td>122</td>\n",
              "    </tr>\n",
              "    <tr>\n",
              "      <th>...</th>\n",
              "      <td>...</td>\n",
              "      <td>...</td>\n",
              "    </tr>\n",
              "    <tr>\n",
              "      <th>zr42_UsWfaIF-rcp37OpwA</th>\n",
              "      <td>231</td>\n",
              "      <td>231</td>\n",
              "    </tr>\n",
              "    <tr>\n",
              "      <th>zsQk990PubOHjr1YcLkQFw</th>\n",
              "      <td>234</td>\n",
              "      <td>234</td>\n",
              "    </tr>\n",
              "    <tr>\n",
              "      <th>zuwba6QEBIDZT0tJZmNhdQ</th>\n",
              "      <td>307</td>\n",
              "      <td>307</td>\n",
              "    </tr>\n",
              "    <tr>\n",
              "      <th>zvQIEpJUmLLmMMffNntHXQ</th>\n",
              "      <td>140</td>\n",
              "      <td>140</td>\n",
              "    </tr>\n",
              "    <tr>\n",
              "      <th>zwNC-Ow4eIMan2__bS9-rg</th>\n",
              "      <td>601</td>\n",
              "      <td>601</td>\n",
              "    </tr>\n",
              "  </tbody>\n",
              "</table>\n",
              "<p>2845 rows × 2 columns</p>\n",
              "</div>"
            ],
            "text/plain": [
              "                        user_id  stars_x\n",
              "business_id                             \n",
              "--9e1ONYQuAa-CB_Rrw7Tw     1661     1661\n",
              "--FBCX-N37CMYDfs790Bnw      142      142\n",
              "-1m9o3vGRA8IBPNvNqKLmA      259      259\n",
              "-3zffZUHoY8bQjGfPSoBKQ      653      653\n",
              "-8R_-EkGpUhBk55K9Dd4mg      122      122\n",
              "...                         ...      ...\n",
              "zr42_UsWfaIF-rcp37OpwA      231      231\n",
              "zsQk990PubOHjr1YcLkQFw      234      234\n",
              "zuwba6QEBIDZT0tJZmNhdQ      307      307\n",
              "zvQIEpJUmLLmMMffNntHXQ      140      140\n",
              "zwNC-Ow4eIMan2__bS9-rg      601      601\n",
              "\n",
              "[2845 rows x 2 columns]"
            ]
          },
          "metadata": {
            "tags": []
          },
          "execution_count": 11
        }
      ]
    },
    {
      "cell_type": "code",
      "metadata": {
        "id": "YGGdUMMrK-aW",
        "colab_type": "code",
        "colab": {}
      },
      "source": [
        "cnt = df['user_id'].value_counts()\n",
        "cnt = cnt.index[cnt >= 25]\n",
        "df = df[df['user_id'].isin(cnt)]"
      ],
      "execution_count": 0,
      "outputs": []
    },
    {
      "cell_type": "code",
      "metadata": {
        "id": "G82OmtPD35ww",
        "colab_type": "code",
        "outputId": "49d6b915-a0bf-4d93-e333-4a4dd0c464c0",
        "colab": {
          "base_uri": "https://localhost:8080/",
          "height": 52
        }
      },
      "source": [
        "print(df.user_id.nunique())\n",
        "print(df.business_id.nunique())"
      ],
      "execution_count": 0,
      "outputs": [
        {
          "output_type": "stream",
          "text": [
            "4249\n",
            "2845\n"
          ],
          "name": "stdout"
        }
      ]
    },
    {
      "cell_type": "code",
      "metadata": {
        "id": "oP8ne9RxBhEc",
        "colab_type": "code",
        "colab": {}
      },
      "source": [
        "df['User_ID_code'] = df.user_id.astype('category').cat.codes\n",
        "df['Business_ID_code'] = df.business_id.astype('category').cat.codes"
      ],
      "execution_count": 0,
      "outputs": []
    },
    {
      "cell_type": "code",
      "metadata": {
        "id": "hTSo1yRrK-YA",
        "colab_type": "code",
        "outputId": "b6ba605a-9433-4e0d-f137-dc74717c4bfa",
        "colab": {
          "base_uri": "https://localhost:8080/",
          "height": 417
        }
      },
      "source": [
        "df"
      ],
      "execution_count": 0,
      "outputs": [
        {
          "output_type": "execute_result",
          "data": {
            "text/html": [
              "<div>\n",
              "<style scoped>\n",
              "    .dataframe tbody tr th:only-of-type {\n",
              "        vertical-align: middle;\n",
              "    }\n",
              "\n",
              "    .dataframe tbody tr th {\n",
              "        vertical-align: top;\n",
              "    }\n",
              "\n",
              "    .dataframe thead th {\n",
              "        text-align: right;\n",
              "    }\n",
              "</style>\n",
              "<table border=\"1\" class=\"dataframe\">\n",
              "  <thead>\n",
              "    <tr style=\"text-align: right;\">\n",
              "      <th></th>\n",
              "      <th>user_id</th>\n",
              "      <th>business_id</th>\n",
              "      <th>stars_x</th>\n",
              "      <th>User_ID_code</th>\n",
              "      <th>Business_ID_code</th>\n",
              "    </tr>\n",
              "  </thead>\n",
              "  <tbody>\n",
              "    <tr>\n",
              "      <th>8</th>\n",
              "      <td>3nDUQBjKyVor5wV0reJChg</td>\n",
              "      <td>tstimHoMcYbkSC4eBA1wEg</td>\n",
              "      <td>4.5</td>\n",
              "      <td>326</td>\n",
              "      <td>2597</td>\n",
              "    </tr>\n",
              "    <tr>\n",
              "      <th>10</th>\n",
              "      <td>3nDUQBjKyVor5wV0reJChg</td>\n",
              "      <td>tstimHoMcYbkSC4eBA1wEg</td>\n",
              "      <td>4.5</td>\n",
              "      <td>326</td>\n",
              "      <td>2597</td>\n",
              "    </tr>\n",
              "    <tr>\n",
              "      <th>15</th>\n",
              "      <td>SkUjCvDBA2VNnJWj8DNcdg</td>\n",
              "      <td>tstimHoMcYbkSC4eBA1wEg</td>\n",
              "      <td>4.5</td>\n",
              "      <td>1977</td>\n",
              "      <td>2597</td>\n",
              "    </tr>\n",
              "    <tr>\n",
              "      <th>20</th>\n",
              "      <td>A1yK1QyPaahfwp38zqn2Bg</td>\n",
              "      <td>tstimHoMcYbkSC4eBA1wEg</td>\n",
              "      <td>4.5</td>\n",
              "      <td>779</td>\n",
              "      <td>2597</td>\n",
              "    </tr>\n",
              "    <tr>\n",
              "      <th>22</th>\n",
              "      <td>p9LcLbklaDdgKG3ErfLGfg</td>\n",
              "      <td>tstimHoMcYbkSC4eBA1wEg</td>\n",
              "      <td>4.5</td>\n",
              "      <td>3543</td>\n",
              "      <td>2597</td>\n",
              "    </tr>\n",
              "    <tr>\n",
              "      <th>...</th>\n",
              "      <td>...</td>\n",
              "      <td>...</td>\n",
              "      <td>...</td>\n",
              "      <td>...</td>\n",
              "      <td>...</td>\n",
              "    </tr>\n",
              "    <tr>\n",
              "      <th>1201444</th>\n",
              "      <td>Q7IoE5m2heQKThuVq3SYFA</td>\n",
              "      <td>vIAEWbTJc657yN8I4z7whQ</td>\n",
              "      <td>3.0</td>\n",
              "      <td>1826</td>\n",
              "      <td>2658</td>\n",
              "    </tr>\n",
              "    <tr>\n",
              "      <th>1201455</th>\n",
              "      <td>8QKrhvVqhEkD8xo4E4s0GQ</td>\n",
              "      <td>vIAEWbTJc657yN8I4z7whQ</td>\n",
              "      <td>3.0</td>\n",
              "      <td>665</td>\n",
              "      <td>2658</td>\n",
              "    </tr>\n",
              "    <tr>\n",
              "      <th>1201456</th>\n",
              "      <td>9ks-80ZxeCZWNObzEbW4-Q</td>\n",
              "      <td>vIAEWbTJc657yN8I4z7whQ</td>\n",
              "      <td>3.0</td>\n",
              "      <td>757</td>\n",
              "      <td>2658</td>\n",
              "    </tr>\n",
              "    <tr>\n",
              "      <th>1201457</th>\n",
              "      <td>EA-UgJmd-hQ8RBn1odmDJg</td>\n",
              "      <td>vIAEWbTJc657yN8I4z7whQ</td>\n",
              "      <td>3.0</td>\n",
              "      <td>1066</td>\n",
              "      <td>2658</td>\n",
              "    </tr>\n",
              "    <tr>\n",
              "      <th>1201458</th>\n",
              "      <td>bcxc4OF5SDiJ4xnNMBZUQQ</td>\n",
              "      <td>vIAEWbTJc657yN8I4z7whQ</td>\n",
              "      <td>3.0</td>\n",
              "      <td>2635</td>\n",
              "      <td>2658</td>\n",
              "    </tr>\n",
              "  </tbody>\n",
              "</table>\n",
              "<p>223211 rows × 5 columns</p>\n",
              "</div>"
            ],
            "text/plain": [
              "                        user_id  ... Business_ID_code\n",
              "8        3nDUQBjKyVor5wV0reJChg  ...             2597\n",
              "10       3nDUQBjKyVor5wV0reJChg  ...             2597\n",
              "15       SkUjCvDBA2VNnJWj8DNcdg  ...             2597\n",
              "20       A1yK1QyPaahfwp38zqn2Bg  ...             2597\n",
              "22       p9LcLbklaDdgKG3ErfLGfg  ...             2597\n",
              "...                         ...  ...              ...\n",
              "1201444  Q7IoE5m2heQKThuVq3SYFA  ...             2658\n",
              "1201455  8QKrhvVqhEkD8xo4E4s0GQ  ...             2658\n",
              "1201456  9ks-80ZxeCZWNObzEbW4-Q  ...             2658\n",
              "1201457  EA-UgJmd-hQ8RBn1odmDJg  ...             2658\n",
              "1201458  bcxc4OF5SDiJ4xnNMBZUQQ  ...             2658\n",
              "\n",
              "[223211 rows x 5 columns]"
            ]
          },
          "metadata": {
            "tags": []
          },
          "execution_count": 15
        }
      ]
    },
    {
      "cell_type": "code",
      "metadata": {
        "id": "CJ9NHwJ8K-UI",
        "colab_type": "code",
        "outputId": "8a4c0a4b-8980-4a5c-a3c8-ef5880abd0a5",
        "colab": {
          "base_uri": "https://localhost:8080/",
          "height": 52
        }
      },
      "source": [
        "n_users = df.user_id.nunique()\n",
        "n_items = df.business_id.nunique()\n",
        "\n",
        "print('Num. of Users: '+ str(n_users))\n",
        "print('Num of Businesses: '+str(n_items))"
      ],
      "execution_count": 0,
      "outputs": [
        {
          "output_type": "stream",
          "text": [
            "Num. of Users: 4249\n",
            "Num of Businesses: 2845\n"
          ],
          "name": "stdout"
        }
      ]
    },
    {
      "cell_type": "code",
      "metadata": {
        "id": "-vdPmN2rGp9R",
        "colab_type": "code",
        "colab": {}
      },
      "source": [
        ""
      ],
      "execution_count": 0,
      "outputs": []
    },
    {
      "cell_type": "code",
      "metadata": {
        "id": "l0zjVtcNCH9U",
        "colab_type": "code",
        "colab": {}
      },
      "source": [
        "df = df[['User_ID_code','Business_ID_code','stars_x','user_id','business_id']]"
      ],
      "execution_count": 0,
      "outputs": []
    },
    {
      "cell_type": "code",
      "metadata": {
        "id": "5TeKuL71_M19",
        "colab_type": "code",
        "colab": {}
      },
      "source": [
        "from sklearn.model_selection import train_test_split\n",
        "train_data, test_data = train_test_split(df, test_size=0.25)"
      ],
      "execution_count": 0,
      "outputs": []
    },
    {
      "cell_type": "code",
      "metadata": {
        "id": "7M7A-nbb_XU7",
        "colab_type": "code",
        "outputId": "2d8a8b81-1f02-41ee-c3bc-7b2f5440e6f0",
        "colab": {
          "base_uri": "https://localhost:8080/",
          "height": 417
        }
      },
      "source": [
        "train_data"
      ],
      "execution_count": 0,
      "outputs": [
        {
          "output_type": "execute_result",
          "data": {
            "text/html": [
              "<div>\n",
              "<style scoped>\n",
              "    .dataframe tbody tr th:only-of-type {\n",
              "        vertical-align: middle;\n",
              "    }\n",
              "\n",
              "    .dataframe tbody tr th {\n",
              "        vertical-align: top;\n",
              "    }\n",
              "\n",
              "    .dataframe thead th {\n",
              "        text-align: right;\n",
              "    }\n",
              "</style>\n",
              "<table border=\"1\" class=\"dataframe\">\n",
              "  <thead>\n",
              "    <tr style=\"text-align: right;\">\n",
              "      <th></th>\n",
              "      <th>User_ID_code</th>\n",
              "      <th>Business_ID_code</th>\n",
              "      <th>stars_x</th>\n",
              "      <th>user_id</th>\n",
              "      <th>business_id</th>\n",
              "    </tr>\n",
              "  </thead>\n",
              "  <tbody>\n",
              "    <tr>\n",
              "      <th>932900</th>\n",
              "      <td>2515</td>\n",
              "      <td>1967</td>\n",
              "      <td>2.5</td>\n",
              "      <td>_YKxAg-iD3dpg6Aq3RI9Eg</td>\n",
              "      <td>f8IMQgRwo-8GP372MElDGQ</td>\n",
              "    </tr>\n",
              "    <tr>\n",
              "      <th>982882</th>\n",
              "      <td>2372</td>\n",
              "      <td>489</td>\n",
              "      <td>4.0</td>\n",
              "      <td>YEUpvvy_aUUZTWMT2hYuYg</td>\n",
              "      <td>A0X1baHPgw9IiBRivu0G9g</td>\n",
              "    </tr>\n",
              "    <tr>\n",
              "      <th>847140</th>\n",
              "      <td>362</td>\n",
              "      <td>2475</td>\n",
              "      <td>3.0</td>\n",
              "      <td>4AjocDGdZNPyhBLQpxpa_Q</td>\n",
              "      <td>qi6uzJEhA9puZM2io46-_A</td>\n",
              "    </tr>\n",
              "    <tr>\n",
              "      <th>224542</th>\n",
              "      <td>3764</td>\n",
              "      <td>789</td>\n",
              "      <td>4.0</td>\n",
              "      <td>scQBrQJbxWZ6telqJTc6Kw</td>\n",
              "      <td>G6BwYw_0_atLPTzI1uokIA</td>\n",
              "    </tr>\n",
              "    <tr>\n",
              "      <th>821032</th>\n",
              "      <td>3682</td>\n",
              "      <td>491</td>\n",
              "      <td>2.5</td>\n",
              "      <td>rNjgVKaBh1PlUA6dYB6EUw</td>\n",
              "      <td>A3BzaW-pEmIH4Fu6dav7HA</td>\n",
              "    </tr>\n",
              "    <tr>\n",
              "      <th>...</th>\n",
              "      <td>...</td>\n",
              "      <td>...</td>\n",
              "      <td>...</td>\n",
              "      <td>...</td>\n",
              "      <td>...</td>\n",
              "    </tr>\n",
              "    <tr>\n",
              "      <th>681590</th>\n",
              "      <td>2104</td>\n",
              "      <td>39</td>\n",
              "      <td>4.0</td>\n",
              "      <td>UQB87Neb-M6xbxT6hi9rcw</td>\n",
              "      <td>-ed0Yc9on37RoIoG2ZgxBA</td>\n",
              "    </tr>\n",
              "    <tr>\n",
              "      <th>597189</th>\n",
              "      <td>3468</td>\n",
              "      <td>1655</td>\n",
              "      <td>4.0</td>\n",
              "      <td>o1fXOzXXj6zkbnCzJfwB6A</td>\n",
              "      <td>Yp9w4nhUowBU_IS_StFXbQ</td>\n",
              "    </tr>\n",
              "    <tr>\n",
              "      <th>856435</th>\n",
              "      <td>2860</td>\n",
              "      <td>1667</td>\n",
              "      <td>4.0</td>\n",
              "      <td>eynu0uJEon1ORH1nIf4pTA</td>\n",
              "      <td>Z0o7EnCj3fgzC7E3QRabhQ</td>\n",
              "    </tr>\n",
              "    <tr>\n",
              "      <th>201990</th>\n",
              "      <td>2393</td>\n",
              "      <td>1577</td>\n",
              "      <td>2.5</td>\n",
              "      <td>YWWDhFvemd93HKof8D-QoA</td>\n",
              "      <td>X8c23dur0ll2D9XTu-I8Qg</td>\n",
              "    </tr>\n",
              "    <tr>\n",
              "      <th>712533</th>\n",
              "      <td>1150</td>\n",
              "      <td>2032</td>\n",
              "      <td>4.0</td>\n",
              "      <td>FQbVI3UyKlL-HfQGcRF8aA</td>\n",
              "      <td>ghVhlFpNhfBwWDFGSlt2JA</td>\n",
              "    </tr>\n",
              "  </tbody>\n",
              "</table>\n",
              "<p>167408 rows × 5 columns</p>\n",
              "</div>"
            ],
            "text/plain": [
              "        User_ID_code  ...             business_id\n",
              "932900          2515  ...  f8IMQgRwo-8GP372MElDGQ\n",
              "982882          2372  ...  A0X1baHPgw9IiBRivu0G9g\n",
              "847140           362  ...  qi6uzJEhA9puZM2io46-_A\n",
              "224542          3764  ...  G6BwYw_0_atLPTzI1uokIA\n",
              "821032          3682  ...  A3BzaW-pEmIH4Fu6dav7HA\n",
              "...              ...  ...                     ...\n",
              "681590          2104  ...  -ed0Yc9on37RoIoG2ZgxBA\n",
              "597189          3468  ...  Yp9w4nhUowBU_IS_StFXbQ\n",
              "856435          2860  ...  Z0o7EnCj3fgzC7E3QRabhQ\n",
              "201990          2393  ...  X8c23dur0ll2D9XTu-I8Qg\n",
              "712533          1150  ...  ghVhlFpNhfBwWDFGSlt2JA\n",
              "\n",
              "[167408 rows x 5 columns]"
            ]
          },
          "metadata": {
            "tags": []
          },
          "execution_count": 24
        }
      ]
    },
    {
      "cell_type": "code",
      "metadata": {
        "id": "fjEoJbkeAG4w",
        "colab_type": "code",
        "outputId": "f6d382c7-2d15-45b6-8428-6d3165643f94",
        "colab": {
          "base_uri": "https://localhost:8080/",
          "height": 417
        }
      },
      "source": [
        "test_data"
      ],
      "execution_count": 0,
      "outputs": [
        {
          "output_type": "execute_result",
          "data": {
            "text/html": [
              "<div>\n",
              "<style scoped>\n",
              "    .dataframe tbody tr th:only-of-type {\n",
              "        vertical-align: middle;\n",
              "    }\n",
              "\n",
              "    .dataframe tbody tr th {\n",
              "        vertical-align: top;\n",
              "    }\n",
              "\n",
              "    .dataframe thead th {\n",
              "        text-align: right;\n",
              "    }\n",
              "</style>\n",
              "<table border=\"1\" class=\"dataframe\">\n",
              "  <thead>\n",
              "    <tr style=\"text-align: right;\">\n",
              "      <th></th>\n",
              "      <th>User_ID_code</th>\n",
              "      <th>Business_ID_code</th>\n",
              "      <th>stars_x</th>\n",
              "      <th>user_id</th>\n",
              "      <th>business_id</th>\n",
              "    </tr>\n",
              "  </thead>\n",
              "  <tbody>\n",
              "    <tr>\n",
              "      <th>701733</th>\n",
              "      <td>3316</td>\n",
              "      <td>486</td>\n",
              "      <td>4.0</td>\n",
              "      <td>lpOv0Whjogq1Ca-X55BpFg</td>\n",
              "      <td>9tLCuUmw3Tlco-tKPGkIWQ</td>\n",
              "    </tr>\n",
              "    <tr>\n",
              "      <th>42039</th>\n",
              "      <td>1276</td>\n",
              "      <td>512</td>\n",
              "      <td>3.0</td>\n",
              "      <td>HbEqM1xhXU4azm_QguRYSQ</td>\n",
              "      <td>AUl6myFhTAbEqt0GMdKHiw</td>\n",
              "    </tr>\n",
              "    <tr>\n",
              "      <th>188060</th>\n",
              "      <td>535</td>\n",
              "      <td>946</td>\n",
              "      <td>3.5</td>\n",
              "      <td>6qTJVWJ9RmVuoHi1CNcb_g</td>\n",
              "      <td>JhRxDdmZSGDG_u7cGxaYrw</td>\n",
              "    </tr>\n",
              "    <tr>\n",
              "      <th>775510</th>\n",
              "      <td>1305</td>\n",
              "      <td>373</td>\n",
              "      <td>3.5</td>\n",
              "      <td>I2G4Co_gvfpkphdGvZirZw</td>\n",
              "      <td>7JWWeXqil03Ua_wV9KN8ZQ</td>\n",
              "    </tr>\n",
              "    <tr>\n",
              "      <th>581356</th>\n",
              "      <td>618</td>\n",
              "      <td>1012</td>\n",
              "      <td>4.0</td>\n",
              "      <td>7rpo8FIDz_qG5knwQ3Z8rw</td>\n",
              "      <td>LFs5jyYdXlzi0SpAYi1eSA</td>\n",
              "    </tr>\n",
              "    <tr>\n",
              "      <th>...</th>\n",
              "      <td>...</td>\n",
              "      <td>...</td>\n",
              "      <td>...</td>\n",
              "      <td>...</td>\n",
              "      <td>...</td>\n",
              "    </tr>\n",
              "    <tr>\n",
              "      <th>49146</th>\n",
              "      <td>1038</td>\n",
              "      <td>1183</td>\n",
              "      <td>4.5</td>\n",
              "      <td>DkCIL93oNibJqtC1vETucA</td>\n",
              "      <td>Os1n1_idfw9vv9kwULGJnQ</td>\n",
              "    </tr>\n",
              "    <tr>\n",
              "      <th>973434</th>\n",
              "      <td>2738</td>\n",
              "      <td>1065</td>\n",
              "      <td>4.5</td>\n",
              "      <td>dAfdS9l7DOMze3orptDxiQ</td>\n",
              "      <td>MQI1rSTE2LGrrsPPgenCrA</td>\n",
              "    </tr>\n",
              "    <tr>\n",
              "      <th>229702</th>\n",
              "      <td>2981</td>\n",
              "      <td>2104</td>\n",
              "      <td>4.5</td>\n",
              "      <td>gvuvcjAVl1ElyXTgU80VRg</td>\n",
              "      <td>iFCz-xI7CV98fcaB4Chh3g</td>\n",
              "    </tr>\n",
              "    <tr>\n",
              "      <th>319715</th>\n",
              "      <td>362</td>\n",
              "      <td>2225</td>\n",
              "      <td>2.5</td>\n",
              "      <td>4AjocDGdZNPyhBLQpxpa_Q</td>\n",
              "      <td>kmdFk8ETfXiuoS364jaJFA</td>\n",
              "    </tr>\n",
              "    <tr>\n",
              "      <th>438453</th>\n",
              "      <td>3818</td>\n",
              "      <td>1701</td>\n",
              "      <td>3.0</td>\n",
              "      <td>tUShFCNl4Mb2-kJ5J__w0Q</td>\n",
              "      <td>ZosrzTfiiPhbURA04AQTUA</td>\n",
              "    </tr>\n",
              "  </tbody>\n",
              "</table>\n",
              "<p>55803 rows × 5 columns</p>\n",
              "</div>"
            ],
            "text/plain": [
              "        User_ID_code  ...             business_id\n",
              "701733          3316  ...  9tLCuUmw3Tlco-tKPGkIWQ\n",
              "42039           1276  ...  AUl6myFhTAbEqt0GMdKHiw\n",
              "188060           535  ...  JhRxDdmZSGDG_u7cGxaYrw\n",
              "775510          1305  ...  7JWWeXqil03Ua_wV9KN8ZQ\n",
              "581356           618  ...  LFs5jyYdXlzi0SpAYi1eSA\n",
              "...              ...  ...                     ...\n",
              "49146           1038  ...  Os1n1_idfw9vv9kwULGJnQ\n",
              "973434          2738  ...  MQI1rSTE2LGrrsPPgenCrA\n",
              "229702          2981  ...  iFCz-xI7CV98fcaB4Chh3g\n",
              "319715           362  ...  kmdFk8ETfXiuoS364jaJFA\n",
              "438453          3818  ...  ZosrzTfiiPhbURA04AQTUA\n",
              "\n",
              "[55803 rows x 5 columns]"
            ]
          },
          "metadata": {
            "tags": []
          },
          "execution_count": 39
        }
      ]
    },
    {
      "cell_type": "code",
      "metadata": {
        "id": "wnE7F_EoAVRE",
        "colab_type": "code",
        "colab": {}
      },
      "source": [
        "import numpy as np"
      ],
      "execution_count": 0,
      "outputs": []
    },
    {
      "cell_type": "code",
      "metadata": {
        "id": "dnvS5r-ZAIFb",
        "colab_type": "code",
        "colab": {}
      },
      "source": [
        "train_data_matrix = np.zeros((n_users, n_items))\n",
        "for line in train_data.itertuples():\n",
        "    train_data_matrix[line[1], line[2]] = line[3]  \n",
        "\n",
        "test_data_matrix = np.zeros((n_users, n_items))\n",
        "for line in test_data.itertuples():\n",
        "    test_data_matrix[line[1]-1, line[2]-1] = line[3]"
      ],
      "execution_count": 0,
      "outputs": []
    },
    {
      "cell_type": "code",
      "metadata": {
        "id": "xgyTq4bYAS4P",
        "colab_type": "code",
        "outputId": "431de6c3-2131-4e0a-d398-0d11ec3a12f4",
        "colab": {
          "base_uri": "https://localhost:8080/",
          "height": 35
        }
      },
      "source": [
        "train_data_matrix.shape"
      ],
      "execution_count": 0,
      "outputs": [
        {
          "output_type": "execute_result",
          "data": {
            "text/plain": [
              "(4249, 2845)"
            ]
          },
          "metadata": {
            "tags": []
          },
          "execution_count": 27
        }
      ]
    },
    {
      "cell_type": "code",
      "metadata": {
        "id": "EmglOh-dEB5M",
        "colab_type": "code",
        "colab": {}
      },
      "source": [
        "from sklearn.metrics import mean_squared_error\n",
        "from math import sqrt\n",
        "def rmse(prediction, ground_truth):\n",
        "    prediction = prediction[ground_truth.nonzero()].flatten() \n",
        "    ground_truth = ground_truth[ground_truth.nonzero()].flatten()\n",
        "    return sqrt(mean_squared_error(prediction, ground_truth))"
      ],
      "execution_count": 0,
      "outputs": []
    },
    {
      "cell_type": "code",
      "metadata": {
        "id": "YF6G7wGhCjwU",
        "colab_type": "code",
        "outputId": "e4dc1beb-6662-4a35-a304-f0b77d48d1da",
        "colab": {
          "base_uri": "https://localhost:8080/",
          "height": 35
        }
      },
      "source": [
        "sparsity=round(1.0-len(df)/float(n_users*n_items),3)\n",
        "print('The sparsity level of Business_Data is ' +  str(sparsity*100) + '%')"
      ],
      "execution_count": 0,
      "outputs": [
        {
          "output_type": "stream",
          "text": [
            "The sparsity level of Business_Data is 98.2%\n"
          ],
          "name": "stdout"
        }
      ]
    },
    {
      "cell_type": "code",
      "metadata": {
        "id": "49I69WkEDEvd",
        "colab_type": "code",
        "outputId": "196b8923-7484-4a3c-c20e-4053a1860070",
        "colab": {
          "base_uri": "https://localhost:8080/",
          "height": 35
        }
      },
      "source": [
        "import scipy.sparse as sp\n",
        "from scipy.sparse.linalg import svds\n",
        "\n",
        "#get SVD components from train matrix. Choose k.\n",
        "u, s, vt = svds(train_data_matrix, k = 40)\n",
        "s_diag_matrix=np.diag(s)\n",
        "X_pred = np.dot(np.dot(u, s_diag_matrix), vt)\n",
        "print('SVD CF MSE: ' + str(rmse(X_pred, test_data_matrix)))"
      ],
      "execution_count": 0,
      "outputs": [
        {
          "output_type": "stream",
          "text": [
            "SVD CF MSE: 3.8555283412059635\n"
          ],
          "name": "stdout"
        }
      ]
    }
  ]
}