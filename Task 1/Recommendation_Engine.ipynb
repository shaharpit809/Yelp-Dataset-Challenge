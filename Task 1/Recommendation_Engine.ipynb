{
  "nbformat": 4,
  "nbformat_minor": 0,
  "metadata": {
    "colab": {
      "name": "Recommendation_Engine.ipynb",
      "provenance": [],
      "collapsed_sections": []
    },
    "kernelspec": {
      "name": "python3",
      "display_name": "Python 3"
    }
  },
  "cells": [
    {
      "cell_type": "code",
      "metadata": {
        "id": "S624cQYD8hJF",
        "colab_type": "code",
        "outputId": "543e85d0-4c79-4e29-c502-2bd20f8eba25",
        "colab": {
          "base_uri": "https://localhost:8080/",
          "height": 125
        }
      },
      "source": [
        "from google.colab import drive\n",
        "drive.mount('/content/drive')"
      ],
      "execution_count": 1,
      "outputs": [
        {
          "output_type": "stream",
          "text": [
            "Go to this URL in a browser: https://accounts.google.com/o/oauth2/auth?client_id=947318989803-6bn6qk8qdgf4n4g3pfee6491hc0brc4i.apps.googleusercontent.com&redirect_uri=urn%3aietf%3awg%3aoauth%3a2.0%3aoob&response_type=code&scope=email%20https%3a%2f%2fwww.googleapis.com%2fauth%2fdocs.test%20https%3a%2f%2fwww.googleapis.com%2fauth%2fdrive%20https%3a%2f%2fwww.googleapis.com%2fauth%2fdrive.photos.readonly%20https%3a%2f%2fwww.googleapis.com%2fauth%2fpeopleapi.readonly\n",
            "\n",
            "Enter your authorization code:\n",
            "··········\n",
            "Mounted at /content/drive\n"
          ],
          "name": "stdout"
        }
      ]
    },
    {
      "cell_type": "code",
      "metadata": {
        "id": "lP6WFKMg8h1l",
        "colab_type": "code",
        "colab": {}
      },
      "source": [
        "import pickle as pk\n",
        "file = open('/content/drive/My Drive/Data/business_review.pkl', 'rb')\n",
        "data = pk.load(file)"
      ],
      "execution_count": 0,
      "outputs": []
    },
    {
      "cell_type": "code",
      "metadata": {
        "id": "_imN_G5C9yny",
        "colab_type": "code",
        "outputId": "1c7ad17b-c130-4c88-de1f-737b3eaa35fc",
        "colab": {
          "base_uri": "https://localhost:8080/",
          "height": 756
        }
      },
      "source": [
        "data.head()"
      ],
      "execution_count": 3,
      "outputs": [
        {
          "output_type": "execute_result",
          "data": {
            "text/html": [
              "<div>\n",
              "<style scoped>\n",
              "    .dataframe tbody tr th:only-of-type {\n",
              "        vertical-align: middle;\n",
              "    }\n",
              "\n",
              "    .dataframe tbody tr th {\n",
              "        vertical-align: top;\n",
              "    }\n",
              "\n",
              "    .dataframe thead th {\n",
              "        text-align: right;\n",
              "    }\n",
              "</style>\n",
              "<table border=\"1\" class=\"dataframe\">\n",
              "  <thead>\n",
              "    <tr style=\"text-align: right;\">\n",
              "      <th></th>\n",
              "      <th>business_id</th>\n",
              "      <th>name</th>\n",
              "      <th>address</th>\n",
              "      <th>city</th>\n",
              "      <th>state</th>\n",
              "      <th>postal_code</th>\n",
              "      <th>latitude</th>\n",
              "      <th>longitude</th>\n",
              "      <th>stars_x</th>\n",
              "      <th>review_count</th>\n",
              "      <th>is_open</th>\n",
              "      <th>attributes</th>\n",
              "      <th>categories</th>\n",
              "      <th>hours</th>\n",
              "      <th>review_id</th>\n",
              "      <th>user_id</th>\n",
              "      <th>stars_y</th>\n",
              "      <th>useful</th>\n",
              "      <th>funny</th>\n",
              "      <th>cool</th>\n",
              "      <th>text</th>\n",
              "      <th>date</th>\n",
              "    </tr>\n",
              "  </thead>\n",
              "  <tbody>\n",
              "    <tr>\n",
              "      <th>0</th>\n",
              "      <td>tstimHoMcYbkSC4eBA1wEg</td>\n",
              "      <td>Maria's Mexican Restaurant &amp; Bakery</td>\n",
              "      <td>6055 E Lake Mead Blvd</td>\n",
              "      <td>Las Vegas</td>\n",
              "      <td>NV</td>\n",
              "      <td>89156</td>\n",
              "      <td>36.195615</td>\n",
              "      <td>-115.040529</td>\n",
              "      <td>4.5</td>\n",
              "      <td>184</td>\n",
              "      <td>1</td>\n",
              "      <td>{'BikeParking': 'True', 'BusinessParking': '{'...</td>\n",
              "      <td>Mexican, Restaurants, Patisserie/Cake Shop, Fo...</td>\n",
              "      <td>{'Monday': '11:0-21:0', 'Tuesday': '10:0-21:0'...</td>\n",
              "      <td>iWFBGYotfzwiLsOka0e1Rw</td>\n",
              "      <td>Gvv5hQR8BYj5f-APtKwImQ</td>\n",
              "      <td>4.0</td>\n",
              "      <td>0</td>\n",
              "      <td>0</td>\n",
              "      <td>0</td>\n",
              "      <td>We found out about this gem from The Man's co-...</td>\n",
              "      <td>2014-01-17 00:59:36</td>\n",
              "    </tr>\n",
              "    <tr>\n",
              "      <th>1</th>\n",
              "      <td>tstimHoMcYbkSC4eBA1wEg</td>\n",
              "      <td>Maria's Mexican Restaurant &amp; Bakery</td>\n",
              "      <td>6055 E Lake Mead Blvd</td>\n",
              "      <td>Las Vegas</td>\n",
              "      <td>NV</td>\n",
              "      <td>89156</td>\n",
              "      <td>36.195615</td>\n",
              "      <td>-115.040529</td>\n",
              "      <td>4.5</td>\n",
              "      <td>184</td>\n",
              "      <td>1</td>\n",
              "      <td>{'BikeParking': 'True', 'BusinessParking': '{'...</td>\n",
              "      <td>Mexican, Restaurants, Patisserie/Cake Shop, Fo...</td>\n",
              "      <td>{'Monday': '11:0-21:0', 'Tuesday': '10:0-21:0'...</td>\n",
              "      <td>QhiVo4F8MFSoz1T7YggcXA</td>\n",
              "      <td>b-y736LEcRWXoNFj82AcOw</td>\n",
              "      <td>3.0</td>\n",
              "      <td>0</td>\n",
              "      <td>0</td>\n",
              "      <td>0</td>\n",
              "      <td>The \"chips\" are a fried corn tortilla which we...</td>\n",
              "      <td>2014-08-24 21:52:27</td>\n",
              "    </tr>\n",
              "    <tr>\n",
              "      <th>2</th>\n",
              "      <td>tstimHoMcYbkSC4eBA1wEg</td>\n",
              "      <td>Maria's Mexican Restaurant &amp; Bakery</td>\n",
              "      <td>6055 E Lake Mead Blvd</td>\n",
              "      <td>Las Vegas</td>\n",
              "      <td>NV</td>\n",
              "      <td>89156</td>\n",
              "      <td>36.195615</td>\n",
              "      <td>-115.040529</td>\n",
              "      <td>4.5</td>\n",
              "      <td>184</td>\n",
              "      <td>1</td>\n",
              "      <td>{'BikeParking': 'True', 'BusinessParking': '{'...</td>\n",
              "      <td>Mexican, Restaurants, Patisserie/Cake Shop, Fo...</td>\n",
              "      <td>{'Monday': '11:0-21:0', 'Tuesday': '10:0-21:0'...</td>\n",
              "      <td>FUv-c5CkLy71yFTGLrp2ag</td>\n",
              "      <td>_7_Bh8VaUTUgFhmQ59ml0g</td>\n",
              "      <td>4.0</td>\n",
              "      <td>1</td>\n",
              "      <td>0</td>\n",
              "      <td>1</td>\n",
              "      <td>The pollo mole is well worth the trip out here...</td>\n",
              "      <td>2011-09-26 01:53:09</td>\n",
              "    </tr>\n",
              "    <tr>\n",
              "      <th>3</th>\n",
              "      <td>tstimHoMcYbkSC4eBA1wEg</td>\n",
              "      <td>Maria's Mexican Restaurant &amp; Bakery</td>\n",
              "      <td>6055 E Lake Mead Blvd</td>\n",
              "      <td>Las Vegas</td>\n",
              "      <td>NV</td>\n",
              "      <td>89156</td>\n",
              "      <td>36.195615</td>\n",
              "      <td>-115.040529</td>\n",
              "      <td>4.5</td>\n",
              "      <td>184</td>\n",
              "      <td>1</td>\n",
              "      <td>{'BikeParking': 'True', 'BusinessParking': '{'...</td>\n",
              "      <td>Mexican, Restaurants, Patisserie/Cake Shop, Fo...</td>\n",
              "      <td>{'Monday': '11:0-21:0', 'Tuesday': '10:0-21:0'...</td>\n",
              "      <td>lJfGtkCc4in6Xcq-_Wtfwg</td>\n",
              "      <td>PFdPopcevMX7_2cx27rJKA</td>\n",
              "      <td>3.0</td>\n",
              "      <td>0</td>\n",
              "      <td>0</td>\n",
              "      <td>0</td>\n",
              "      <td>I've ordered Caldo de Rez from here twice and ...</td>\n",
              "      <td>2017-03-27 21:03:02</td>\n",
              "    </tr>\n",
              "    <tr>\n",
              "      <th>4</th>\n",
              "      <td>tstimHoMcYbkSC4eBA1wEg</td>\n",
              "      <td>Maria's Mexican Restaurant &amp; Bakery</td>\n",
              "      <td>6055 E Lake Mead Blvd</td>\n",
              "      <td>Las Vegas</td>\n",
              "      <td>NV</td>\n",
              "      <td>89156</td>\n",
              "      <td>36.195615</td>\n",
              "      <td>-115.040529</td>\n",
              "      <td>4.5</td>\n",
              "      <td>184</td>\n",
              "      <td>1</td>\n",
              "      <td>{'BikeParking': 'True', 'BusinessParking': '{'...</td>\n",
              "      <td>Mexican, Restaurants, Patisserie/Cake Shop, Fo...</td>\n",
              "      <td>{'Monday': '11:0-21:0', 'Tuesday': '10:0-21:0'...</td>\n",
              "      <td>BKoH9aG1ZjUjy2brzkxzJw</td>\n",
              "      <td>IxBVL9K2K9aur-_zKvIJiw</td>\n",
              "      <td>5.0</td>\n",
              "      <td>0</td>\n",
              "      <td>0</td>\n",
              "      <td>0</td>\n",
              "      <td>My boyfriend doesn't like Mexican food yet he ...</td>\n",
              "      <td>2014-02-06 03:59:50</td>\n",
              "    </tr>\n",
              "  </tbody>\n",
              "</table>\n",
              "</div>"
            ],
            "text/plain": [
              "              business_id  ...                 date\n",
              "0  tstimHoMcYbkSC4eBA1wEg  ...  2014-01-17 00:59:36\n",
              "1  tstimHoMcYbkSC4eBA1wEg  ...  2014-08-24 21:52:27\n",
              "2  tstimHoMcYbkSC4eBA1wEg  ...  2011-09-26 01:53:09\n",
              "3  tstimHoMcYbkSC4eBA1wEg  ...  2017-03-27 21:03:02\n",
              "4  tstimHoMcYbkSC4eBA1wEg  ...  2014-02-06 03:59:50\n",
              "\n",
              "[5 rows x 22 columns]"
            ]
          },
          "metadata": {
            "tags": []
          },
          "execution_count": 3
        }
      ]
    },
    {
      "cell_type": "code",
      "metadata": {
        "id": "_Tt4kL6U9043",
        "colab_type": "code",
        "colab": {}
      },
      "source": [
        "df = data[['user_id','business_id','stars_x']]"
      ],
      "execution_count": 0,
      "outputs": []
    },
    {
      "cell_type": "code",
      "metadata": {
        "id": "2JjWfvNr_GZh",
        "colab_type": "code",
        "outputId": "04283fa0-76a1-438c-ca5d-fd09f477573c",
        "colab": {
          "base_uri": "https://localhost:8080/",
          "height": 52
        }
      },
      "source": [
        "n_users = df.user_id.nunique()\n",
        "n_items = df.business_id.nunique()\n",
        "\n",
        "print('Num. of Users: '+ str(n_users))\n",
        "print('Num of Businesses: '+str(n_items))"
      ],
      "execution_count": 0,
      "outputs": [
        {
          "output_type": "stream",
          "text": [
            "Num. of Users: 427523\n",
            "Num of Businesses: 3520\n"
          ],
          "name": "stdout"
        }
      ]
    },
    {
      "cell_type": "code",
      "metadata": {
        "id": "3vikt_4k_F66",
        "colab_type": "code",
        "outputId": "11d88253-0eff-4e80-90fa-dcb8019a797c",
        "colab": {
          "base_uri": "https://localhost:8080/",
          "height": 417
        }
      },
      "source": [
        "df"
      ],
      "execution_count": 0,
      "outputs": [
        {
          "output_type": "execute_result",
          "data": {
            "text/html": [
              "<div>\n",
              "<style scoped>\n",
              "    .dataframe tbody tr th:only-of-type {\n",
              "        vertical-align: middle;\n",
              "    }\n",
              "\n",
              "    .dataframe tbody tr th {\n",
              "        vertical-align: top;\n",
              "    }\n",
              "\n",
              "    .dataframe thead th {\n",
              "        text-align: right;\n",
              "    }\n",
              "</style>\n",
              "<table border=\"1\" class=\"dataframe\">\n",
              "  <thead>\n",
              "    <tr style=\"text-align: right;\">\n",
              "      <th></th>\n",
              "      <th>user_id</th>\n",
              "      <th>business_id</th>\n",
              "      <th>stars_x</th>\n",
              "    </tr>\n",
              "  </thead>\n",
              "  <tbody>\n",
              "    <tr>\n",
              "      <th>0</th>\n",
              "      <td>Gvv5hQR8BYj5f-APtKwImQ</td>\n",
              "      <td>tstimHoMcYbkSC4eBA1wEg</td>\n",
              "      <td>4.5</td>\n",
              "    </tr>\n",
              "    <tr>\n",
              "      <th>1</th>\n",
              "      <td>b-y736LEcRWXoNFj82AcOw</td>\n",
              "      <td>tstimHoMcYbkSC4eBA1wEg</td>\n",
              "      <td>4.5</td>\n",
              "    </tr>\n",
              "    <tr>\n",
              "      <th>2</th>\n",
              "      <td>_7_Bh8VaUTUgFhmQ59ml0g</td>\n",
              "      <td>tstimHoMcYbkSC4eBA1wEg</td>\n",
              "      <td>4.5</td>\n",
              "    </tr>\n",
              "    <tr>\n",
              "      <th>3</th>\n",
              "      <td>PFdPopcevMX7_2cx27rJKA</td>\n",
              "      <td>tstimHoMcYbkSC4eBA1wEg</td>\n",
              "      <td>4.5</td>\n",
              "    </tr>\n",
              "    <tr>\n",
              "      <th>4</th>\n",
              "      <td>IxBVL9K2K9aur-_zKvIJiw</td>\n",
              "      <td>tstimHoMcYbkSC4eBA1wEg</td>\n",
              "      <td>4.5</td>\n",
              "    </tr>\n",
              "    <tr>\n",
              "      <th>...</th>\n",
              "      <td>...</td>\n",
              "      <td>...</td>\n",
              "      <td>...</td>\n",
              "    </tr>\n",
              "    <tr>\n",
              "      <th>1201455</th>\n",
              "      <td>8QKrhvVqhEkD8xo4E4s0GQ</td>\n",
              "      <td>vIAEWbTJc657yN8I4z7whQ</td>\n",
              "      <td>3.0</td>\n",
              "    </tr>\n",
              "    <tr>\n",
              "      <th>1201456</th>\n",
              "      <td>9ks-80ZxeCZWNObzEbW4-Q</td>\n",
              "      <td>vIAEWbTJc657yN8I4z7whQ</td>\n",
              "      <td>3.0</td>\n",
              "    </tr>\n",
              "    <tr>\n",
              "      <th>1201457</th>\n",
              "      <td>EA-UgJmd-hQ8RBn1odmDJg</td>\n",
              "      <td>vIAEWbTJc657yN8I4z7whQ</td>\n",
              "      <td>3.0</td>\n",
              "    </tr>\n",
              "    <tr>\n",
              "      <th>1201458</th>\n",
              "      <td>bcxc4OF5SDiJ4xnNMBZUQQ</td>\n",
              "      <td>vIAEWbTJc657yN8I4z7whQ</td>\n",
              "      <td>3.0</td>\n",
              "    </tr>\n",
              "    <tr>\n",
              "      <th>1201459</th>\n",
              "      <td>TglAI9psHTtSRoI7TbttcQ</td>\n",
              "      <td>vIAEWbTJc657yN8I4z7whQ</td>\n",
              "      <td>3.0</td>\n",
              "    </tr>\n",
              "  </tbody>\n",
              "</table>\n",
              "<p>1201460 rows × 3 columns</p>\n",
              "</div>"
            ],
            "text/plain": [
              "                        user_id             business_id  stars_x\n",
              "0        Gvv5hQR8BYj5f-APtKwImQ  tstimHoMcYbkSC4eBA1wEg      4.5\n",
              "1        b-y736LEcRWXoNFj82AcOw  tstimHoMcYbkSC4eBA1wEg      4.5\n",
              "2        _7_Bh8VaUTUgFhmQ59ml0g  tstimHoMcYbkSC4eBA1wEg      4.5\n",
              "3        PFdPopcevMX7_2cx27rJKA  tstimHoMcYbkSC4eBA1wEg      4.5\n",
              "4        IxBVL9K2K9aur-_zKvIJiw  tstimHoMcYbkSC4eBA1wEg      4.5\n",
              "...                         ...                     ...      ...\n",
              "1201455  8QKrhvVqhEkD8xo4E4s0GQ  vIAEWbTJc657yN8I4z7whQ      3.0\n",
              "1201456  9ks-80ZxeCZWNObzEbW4-Q  vIAEWbTJc657yN8I4z7whQ      3.0\n",
              "1201457  EA-UgJmd-hQ8RBn1odmDJg  vIAEWbTJc657yN8I4z7whQ      3.0\n",
              "1201458  bcxc4OF5SDiJ4xnNMBZUQQ  vIAEWbTJc657yN8I4z7whQ      3.0\n",
              "1201459  TglAI9psHTtSRoI7TbttcQ  vIAEWbTJc657yN8I4z7whQ      3.0\n",
              "\n",
              "[1201460 rows x 3 columns]"
            ]
          },
          "metadata": {
            "tags": []
          },
          "execution_count": 6
        }
      ]
    },
    {
      "cell_type": "code",
      "metadata": {
        "id": "S7SBP3olFeXR",
        "colab_type": "code",
        "outputId": "24b70b6a-2cc4-49a7-df07-69995e0bcd11",
        "colab": {
          "base_uri": "https://localhost:8080/",
          "height": 447
        }
      },
      "source": [
        "df.groupby(['business_id']).count()\n"
      ],
      "execution_count": 0,
      "outputs": [
        {
          "output_type": "execute_result",
          "data": {
            "text/html": [
              "<div>\n",
              "<style scoped>\n",
              "    .dataframe tbody tr th:only-of-type {\n",
              "        vertical-align: middle;\n",
              "    }\n",
              "\n",
              "    .dataframe tbody tr th {\n",
              "        vertical-align: top;\n",
              "    }\n",
              "\n",
              "    .dataframe thead th {\n",
              "        text-align: right;\n",
              "    }\n",
              "</style>\n",
              "<table border=\"1\" class=\"dataframe\">\n",
              "  <thead>\n",
              "    <tr style=\"text-align: right;\">\n",
              "      <th></th>\n",
              "      <th>user_id</th>\n",
              "      <th>stars_x</th>\n",
              "    </tr>\n",
              "    <tr>\n",
              "      <th>business_id</th>\n",
              "      <th></th>\n",
              "      <th></th>\n",
              "    </tr>\n",
              "  </thead>\n",
              "  <tbody>\n",
              "    <tr>\n",
              "      <th>--9e1ONYQuAa-CB_Rrw7Tw</th>\n",
              "      <td>1661</td>\n",
              "      <td>1661</td>\n",
              "    </tr>\n",
              "    <tr>\n",
              "      <th>--FBCX-N37CMYDfs790Bnw</th>\n",
              "      <td>142</td>\n",
              "      <td>142</td>\n",
              "    </tr>\n",
              "    <tr>\n",
              "      <th>-0RkJ_uIduNLWQrphbADRw</th>\n",
              "      <td>63</td>\n",
              "      <td>63</td>\n",
              "    </tr>\n",
              "    <tr>\n",
              "      <th>-1m9o3vGRA8IBPNvNqKLmA</th>\n",
              "      <td>259</td>\n",
              "      <td>259</td>\n",
              "    </tr>\n",
              "    <tr>\n",
              "      <th>-3zffZUHoY8bQjGfPSoBKQ</th>\n",
              "      <td>653</td>\n",
              "      <td>653</td>\n",
              "    </tr>\n",
              "    <tr>\n",
              "      <th>...</th>\n",
              "      <td>...</td>\n",
              "      <td>...</td>\n",
              "    </tr>\n",
              "    <tr>\n",
              "      <th>zu0a9GPCG8i7jbAJ3-H6LQ</th>\n",
              "      <td>62</td>\n",
              "      <td>62</td>\n",
              "    </tr>\n",
              "    <tr>\n",
              "      <th>zuwba6QEBIDZT0tJZmNhdQ</th>\n",
              "      <td>307</td>\n",
              "      <td>307</td>\n",
              "    </tr>\n",
              "    <tr>\n",
              "      <th>zvQIEpJUmLLmMMffNntHXQ</th>\n",
              "      <td>140</td>\n",
              "      <td>140</td>\n",
              "    </tr>\n",
              "    <tr>\n",
              "      <th>zwNC-Ow4eIMan2__bS9-rg</th>\n",
              "      <td>601</td>\n",
              "      <td>601</td>\n",
              "    </tr>\n",
              "    <tr>\n",
              "      <th>zx_j6OuuHHa2afVoAZuLpA</th>\n",
              "      <td>78</td>\n",
              "      <td>78</td>\n",
              "    </tr>\n",
              "  </tbody>\n",
              "</table>\n",
              "<p>3520 rows × 2 columns</p>\n",
              "</div>"
            ],
            "text/plain": [
              "                        user_id  stars_x\n",
              "business_id                             \n",
              "--9e1ONYQuAa-CB_Rrw7Tw     1661     1661\n",
              "--FBCX-N37CMYDfs790Bnw      142      142\n",
              "-0RkJ_uIduNLWQrphbADRw       63       63\n",
              "-1m9o3vGRA8IBPNvNqKLmA      259      259\n",
              "-3zffZUHoY8bQjGfPSoBKQ      653      653\n",
              "...                         ...      ...\n",
              "zu0a9GPCG8i7jbAJ3-H6LQ       62       62\n",
              "zuwba6QEBIDZT0tJZmNhdQ      307      307\n",
              "zvQIEpJUmLLmMMffNntHXQ      140      140\n",
              "zwNC-Ow4eIMan2__bS9-rg      601      601\n",
              "zx_j6OuuHHa2afVoAZuLpA       78       78\n",
              "\n",
              "[3520 rows x 2 columns]"
            ]
          },
          "metadata": {
            "tags": []
          },
          "execution_count": 7
        }
      ]
    },
    {
      "cell_type": "code",
      "metadata": {
        "id": "PdTLMpjWFd9E",
        "colab_type": "code",
        "colab": {}
      },
      "source": [
        "grouped = df.groupby('business_id')"
      ],
      "execution_count": 0,
      "outputs": []
    },
    {
      "cell_type": "code",
      "metadata": {
        "id": "4UfFpxA-GqAh",
        "colab_type": "code",
        "colab": {}
      },
      "source": [
        "df = grouped.filter(lambda x: x['user_id'].count() > 80)"
      ],
      "execution_count": 0,
      "outputs": []
    },
    {
      "cell_type": "code",
      "metadata": {
        "id": "6zY8ICi6K-fy",
        "colab_type": "code",
        "outputId": "57047066-33ba-476b-b4fc-943aba901b52",
        "colab": {
          "base_uri": "https://localhost:8080/",
          "height": 52
        }
      },
      "source": [
        "print(df.user_id.nunique())\n",
        "print(df.business_id.nunique())\n"
      ],
      "execution_count": 0,
      "outputs": [
        {
          "output_type": "stream",
          "text": [
            "419010\n",
            "2845\n"
          ],
          "name": "stdout"
        }
      ]
    },
    {
      "cell_type": "code",
      "metadata": {
        "id": "0jtow2QRzz5m",
        "colab_type": "code",
        "colab": {}
      },
      "source": [
        ""
      ],
      "execution_count": 0,
      "outputs": []
    },
    {
      "cell_type": "code",
      "metadata": {
        "id": "BcLC3ttkK-dF",
        "colab_type": "code",
        "outputId": "9a9c222f-b621-4236-9689-830c575a3119",
        "colab": {
          "base_uri": "https://localhost:8080/",
          "height": 447
        }
      },
      "source": [
        "df.groupby(['business_id']).count()"
      ],
      "execution_count": 0,
      "outputs": [
        {
          "output_type": "execute_result",
          "data": {
            "text/html": [
              "<div>\n",
              "<style scoped>\n",
              "    .dataframe tbody tr th:only-of-type {\n",
              "        vertical-align: middle;\n",
              "    }\n",
              "\n",
              "    .dataframe tbody tr th {\n",
              "        vertical-align: top;\n",
              "    }\n",
              "\n",
              "    .dataframe thead th {\n",
              "        text-align: right;\n",
              "    }\n",
              "</style>\n",
              "<table border=\"1\" class=\"dataframe\">\n",
              "  <thead>\n",
              "    <tr style=\"text-align: right;\">\n",
              "      <th></th>\n",
              "      <th>user_id</th>\n",
              "      <th>stars_x</th>\n",
              "    </tr>\n",
              "    <tr>\n",
              "      <th>business_id</th>\n",
              "      <th></th>\n",
              "      <th></th>\n",
              "    </tr>\n",
              "  </thead>\n",
              "  <tbody>\n",
              "    <tr>\n",
              "      <th>--9e1ONYQuAa-CB_Rrw7Tw</th>\n",
              "      <td>1661</td>\n",
              "      <td>1661</td>\n",
              "    </tr>\n",
              "    <tr>\n",
              "      <th>--FBCX-N37CMYDfs790Bnw</th>\n",
              "      <td>142</td>\n",
              "      <td>142</td>\n",
              "    </tr>\n",
              "    <tr>\n",
              "      <th>-1m9o3vGRA8IBPNvNqKLmA</th>\n",
              "      <td>259</td>\n",
              "      <td>259</td>\n",
              "    </tr>\n",
              "    <tr>\n",
              "      <th>-3zffZUHoY8bQjGfPSoBKQ</th>\n",
              "      <td>653</td>\n",
              "      <td>653</td>\n",
              "    </tr>\n",
              "    <tr>\n",
              "      <th>-8R_-EkGpUhBk55K9Dd4mg</th>\n",
              "      <td>122</td>\n",
              "      <td>122</td>\n",
              "    </tr>\n",
              "    <tr>\n",
              "      <th>...</th>\n",
              "      <td>...</td>\n",
              "      <td>...</td>\n",
              "    </tr>\n",
              "    <tr>\n",
              "      <th>zr42_UsWfaIF-rcp37OpwA</th>\n",
              "      <td>231</td>\n",
              "      <td>231</td>\n",
              "    </tr>\n",
              "    <tr>\n",
              "      <th>zsQk990PubOHjr1YcLkQFw</th>\n",
              "      <td>234</td>\n",
              "      <td>234</td>\n",
              "    </tr>\n",
              "    <tr>\n",
              "      <th>zuwba6QEBIDZT0tJZmNhdQ</th>\n",
              "      <td>307</td>\n",
              "      <td>307</td>\n",
              "    </tr>\n",
              "    <tr>\n",
              "      <th>zvQIEpJUmLLmMMffNntHXQ</th>\n",
              "      <td>140</td>\n",
              "      <td>140</td>\n",
              "    </tr>\n",
              "    <tr>\n",
              "      <th>zwNC-Ow4eIMan2__bS9-rg</th>\n",
              "      <td>601</td>\n",
              "      <td>601</td>\n",
              "    </tr>\n",
              "  </tbody>\n",
              "</table>\n",
              "<p>2845 rows × 2 columns</p>\n",
              "</div>"
            ],
            "text/plain": [
              "                        user_id  stars_x\n",
              "business_id                             \n",
              "--9e1ONYQuAa-CB_Rrw7Tw     1661     1661\n",
              "--FBCX-N37CMYDfs790Bnw      142      142\n",
              "-1m9o3vGRA8IBPNvNqKLmA      259      259\n",
              "-3zffZUHoY8bQjGfPSoBKQ      653      653\n",
              "-8R_-EkGpUhBk55K9Dd4mg      122      122\n",
              "...                         ...      ...\n",
              "zr42_UsWfaIF-rcp37OpwA      231      231\n",
              "zsQk990PubOHjr1YcLkQFw      234      234\n",
              "zuwba6QEBIDZT0tJZmNhdQ      307      307\n",
              "zvQIEpJUmLLmMMffNntHXQ      140      140\n",
              "zwNC-Ow4eIMan2__bS9-rg      601      601\n",
              "\n",
              "[2845 rows x 2 columns]"
            ]
          },
          "metadata": {
            "tags": []
          },
          "execution_count": 11
        }
      ]
    },
    {
      "cell_type": "code",
      "metadata": {
        "id": "YGGdUMMrK-aW",
        "colab_type": "code",
        "colab": {}
      },
      "source": [
        "cnt = df['user_id'].value_counts()\n",
        "cnt = cnt.index[cnt >= 25]\n",
        "df = df[df['user_id'].isin(cnt)]"
      ],
      "execution_count": 0,
      "outputs": []
    },
    {
      "cell_type": "code",
      "metadata": {
        "id": "G82OmtPD35ww",
        "colab_type": "code",
        "outputId": "f4e92e62-5b70-4a03-de2e-7f3d8bae9551",
        "colab": {
          "base_uri": "https://localhost:8080/",
          "height": 52
        }
      },
      "source": [
        "print(df.user_id.nunique())\n",
        "print(df.business_id.nunique())"
      ],
      "execution_count": 0,
      "outputs": [
        {
          "output_type": "stream",
          "text": [
            "4249\n",
            "2845\n"
          ],
          "name": "stdout"
        }
      ]
    },
    {
      "cell_type": "code",
      "metadata": {
        "id": "oP8ne9RxBhEc",
        "colab_type": "code",
        "colab": {}
      },
      "source": [
        "df['User_ID_code'] = df.user_id.astype('category').cat.codes\n",
        "df['Business_ID_code'] = df.business_id.astype('category').cat.codes"
      ],
      "execution_count": 0,
      "outputs": []
    },
    {
      "cell_type": "code",
      "metadata": {
        "id": "hTSo1yRrK-YA",
        "colab_type": "code",
        "outputId": "e63959a0-fe73-4ac8-b393-f7082db471bc",
        "colab": {
          "base_uri": "https://localhost:8080/",
          "height": 417
        }
      },
      "source": [
        "df"
      ],
      "execution_count": 0,
      "outputs": [
        {
          "output_type": "execute_result",
          "data": {
            "text/html": [
              "<div>\n",
              "<style scoped>\n",
              "    .dataframe tbody tr th:only-of-type {\n",
              "        vertical-align: middle;\n",
              "    }\n",
              "\n",
              "    .dataframe tbody tr th {\n",
              "        vertical-align: top;\n",
              "    }\n",
              "\n",
              "    .dataframe thead th {\n",
              "        text-align: right;\n",
              "    }\n",
              "</style>\n",
              "<table border=\"1\" class=\"dataframe\">\n",
              "  <thead>\n",
              "    <tr style=\"text-align: right;\">\n",
              "      <th></th>\n",
              "      <th>user_id</th>\n",
              "      <th>business_id</th>\n",
              "      <th>stars_x</th>\n",
              "      <th>User_ID_code</th>\n",
              "      <th>Business_ID_code</th>\n",
              "    </tr>\n",
              "  </thead>\n",
              "  <tbody>\n",
              "    <tr>\n",
              "      <th>8</th>\n",
              "      <td>3nDUQBjKyVor5wV0reJChg</td>\n",
              "      <td>tstimHoMcYbkSC4eBA1wEg</td>\n",
              "      <td>4.5</td>\n",
              "      <td>326</td>\n",
              "      <td>2597</td>\n",
              "    </tr>\n",
              "    <tr>\n",
              "      <th>10</th>\n",
              "      <td>3nDUQBjKyVor5wV0reJChg</td>\n",
              "      <td>tstimHoMcYbkSC4eBA1wEg</td>\n",
              "      <td>4.5</td>\n",
              "      <td>326</td>\n",
              "      <td>2597</td>\n",
              "    </tr>\n",
              "    <tr>\n",
              "      <th>15</th>\n",
              "      <td>SkUjCvDBA2VNnJWj8DNcdg</td>\n",
              "      <td>tstimHoMcYbkSC4eBA1wEg</td>\n",
              "      <td>4.5</td>\n",
              "      <td>1977</td>\n",
              "      <td>2597</td>\n",
              "    </tr>\n",
              "    <tr>\n",
              "      <th>20</th>\n",
              "      <td>A1yK1QyPaahfwp38zqn2Bg</td>\n",
              "      <td>tstimHoMcYbkSC4eBA1wEg</td>\n",
              "      <td>4.5</td>\n",
              "      <td>779</td>\n",
              "      <td>2597</td>\n",
              "    </tr>\n",
              "    <tr>\n",
              "      <th>22</th>\n",
              "      <td>p9LcLbklaDdgKG3ErfLGfg</td>\n",
              "      <td>tstimHoMcYbkSC4eBA1wEg</td>\n",
              "      <td>4.5</td>\n",
              "      <td>3543</td>\n",
              "      <td>2597</td>\n",
              "    </tr>\n",
              "    <tr>\n",
              "      <th>...</th>\n",
              "      <td>...</td>\n",
              "      <td>...</td>\n",
              "      <td>...</td>\n",
              "      <td>...</td>\n",
              "      <td>...</td>\n",
              "    </tr>\n",
              "    <tr>\n",
              "      <th>1201444</th>\n",
              "      <td>Q7IoE5m2heQKThuVq3SYFA</td>\n",
              "      <td>vIAEWbTJc657yN8I4z7whQ</td>\n",
              "      <td>3.0</td>\n",
              "      <td>1826</td>\n",
              "      <td>2658</td>\n",
              "    </tr>\n",
              "    <tr>\n",
              "      <th>1201455</th>\n",
              "      <td>8QKrhvVqhEkD8xo4E4s0GQ</td>\n",
              "      <td>vIAEWbTJc657yN8I4z7whQ</td>\n",
              "      <td>3.0</td>\n",
              "      <td>665</td>\n",
              "      <td>2658</td>\n",
              "    </tr>\n",
              "    <tr>\n",
              "      <th>1201456</th>\n",
              "      <td>9ks-80ZxeCZWNObzEbW4-Q</td>\n",
              "      <td>vIAEWbTJc657yN8I4z7whQ</td>\n",
              "      <td>3.0</td>\n",
              "      <td>757</td>\n",
              "      <td>2658</td>\n",
              "    </tr>\n",
              "    <tr>\n",
              "      <th>1201457</th>\n",
              "      <td>EA-UgJmd-hQ8RBn1odmDJg</td>\n",
              "      <td>vIAEWbTJc657yN8I4z7whQ</td>\n",
              "      <td>3.0</td>\n",
              "      <td>1066</td>\n",
              "      <td>2658</td>\n",
              "    </tr>\n",
              "    <tr>\n",
              "      <th>1201458</th>\n",
              "      <td>bcxc4OF5SDiJ4xnNMBZUQQ</td>\n",
              "      <td>vIAEWbTJc657yN8I4z7whQ</td>\n",
              "      <td>3.0</td>\n",
              "      <td>2635</td>\n",
              "      <td>2658</td>\n",
              "    </tr>\n",
              "  </tbody>\n",
              "</table>\n",
              "<p>223211 rows × 5 columns</p>\n",
              "</div>"
            ],
            "text/plain": [
              "                        user_id  ... Business_ID_code\n",
              "8        3nDUQBjKyVor5wV0reJChg  ...             2597\n",
              "10       3nDUQBjKyVor5wV0reJChg  ...             2597\n",
              "15       SkUjCvDBA2VNnJWj8DNcdg  ...             2597\n",
              "20       A1yK1QyPaahfwp38zqn2Bg  ...             2597\n",
              "22       p9LcLbklaDdgKG3ErfLGfg  ...             2597\n",
              "...                         ...  ...              ...\n",
              "1201444  Q7IoE5m2heQKThuVq3SYFA  ...             2658\n",
              "1201455  8QKrhvVqhEkD8xo4E4s0GQ  ...             2658\n",
              "1201456  9ks-80ZxeCZWNObzEbW4-Q  ...             2658\n",
              "1201457  EA-UgJmd-hQ8RBn1odmDJg  ...             2658\n",
              "1201458  bcxc4OF5SDiJ4xnNMBZUQQ  ...             2658\n",
              "\n",
              "[223211 rows x 5 columns]"
            ]
          },
          "metadata": {
            "tags": []
          },
          "execution_count": 16
        }
      ]
    },
    {
      "cell_type": "code",
      "metadata": {
        "id": "CJ9NHwJ8K-UI",
        "colab_type": "code",
        "outputId": "1583982d-077c-44bd-82cd-b94152053adf",
        "colab": {
          "base_uri": "https://localhost:8080/",
          "height": 52
        }
      },
      "source": [
        "n_users = df.user_id.nunique()\n",
        "n_items = df.business_id.nunique()\n",
        "\n",
        "print('Num. of Users: '+ str(n_users))\n",
        "print('Num of Businesses: '+str(n_items))"
      ],
      "execution_count": 0,
      "outputs": [
        {
          "output_type": "stream",
          "text": [
            "Num. of Users: 4249\n",
            "Num of Businesses: 2845\n"
          ],
          "name": "stdout"
        }
      ]
    },
    {
      "cell_type": "code",
      "metadata": {
        "id": "l0zjVtcNCH9U",
        "colab_type": "code",
        "colab": {}
      },
      "source": [
        "df = df[['User_ID_code','Business_ID_code','stars_x','user_id','business_id']]"
      ],
      "execution_count": 0,
      "outputs": []
    },
    {
      "cell_type": "code",
      "metadata": {
        "id": "5TeKuL71_M19",
        "colab_type": "code",
        "colab": {}
      },
      "source": [
        "from sklearn.model_selection import train_test_split\n",
        "train_data, test_data = train_test_split(df, test_size=0.25)"
      ],
      "execution_count": 0,
      "outputs": []
    },
    {
      "cell_type": "code",
      "metadata": {
        "id": "7M7A-nbb_XU7",
        "colab_type": "code",
        "outputId": "946be308-3bf2-4f54-8104-14f3cfde8306",
        "colab": {
          "base_uri": "https://localhost:8080/",
          "height": 417
        }
      },
      "source": [
        "train_data"
      ],
      "execution_count": 0,
      "outputs": [
        {
          "output_type": "execute_result",
          "data": {
            "text/html": [
              "<div>\n",
              "<style scoped>\n",
              "    .dataframe tbody tr th:only-of-type {\n",
              "        vertical-align: middle;\n",
              "    }\n",
              "\n",
              "    .dataframe tbody tr th {\n",
              "        vertical-align: top;\n",
              "    }\n",
              "\n",
              "    .dataframe thead th {\n",
              "        text-align: right;\n",
              "    }\n",
              "</style>\n",
              "<table border=\"1\" class=\"dataframe\">\n",
              "  <thead>\n",
              "    <tr style=\"text-align: right;\">\n",
              "      <th></th>\n",
              "      <th>User_ID_code</th>\n",
              "      <th>Business_ID_code</th>\n",
              "      <th>stars_x</th>\n",
              "      <th>user_id</th>\n",
              "      <th>business_id</th>\n",
              "    </tr>\n",
              "  </thead>\n",
              "  <tbody>\n",
              "    <tr>\n",
              "      <th>518440</th>\n",
              "      <td>326</td>\n",
              "      <td>400</td>\n",
              "      <td>4.0</td>\n",
              "      <td>3nDUQBjKyVor5wV0reJChg</td>\n",
              "      <td>7vHvQCjPq5pWj7Rio1A--w</td>\n",
              "    </tr>\n",
              "    <tr>\n",
              "      <th>303085</th>\n",
              "      <td>1870</td>\n",
              "      <td>2098</td>\n",
              "      <td>4.0</td>\n",
              "      <td>QqRSNjWhfUFv1ZU0OnYKZQ</td>\n",
              "      <td>iAu8s96GKQ73Xe7j_2GyCQ</td>\n",
              "    </tr>\n",
              "    <tr>\n",
              "      <th>1048374</th>\n",
              "      <td>86</td>\n",
              "      <td>1241</td>\n",
              "      <td>2.5</td>\n",
              "      <td>-yQ5tp-artaRI42NVcsUag</td>\n",
              "      <td>QJcJaqhxFGaj0V6rRWupvA</td>\n",
              "    </tr>\n",
              "    <tr>\n",
              "      <th>1035871</th>\n",
              "      <td>3846</td>\n",
              "      <td>437</td>\n",
              "      <td>4.0</td>\n",
              "      <td>u0bAtrQrgEoHjFybAl9FeQ</td>\n",
              "      <td>8eSmXnZG0N1GRsqiFeU9uA</td>\n",
              "    </tr>\n",
              "    <tr>\n",
              "      <th>948435</th>\n",
              "      <td>244</td>\n",
              "      <td>2455</td>\n",
              "      <td>3.5</td>\n",
              "      <td>2KXR93JrBu2FOjFIhy0QzA</td>\n",
              "      <td>qJ18IGaDsQtzJ6v2UzkdcQ</td>\n",
              "    </tr>\n",
              "    <tr>\n",
              "      <th>...</th>\n",
              "      <td>...</td>\n",
              "      <td>...</td>\n",
              "      <td>...</td>\n",
              "      <td>...</td>\n",
              "      <td>...</td>\n",
              "    </tr>\n",
              "    <tr>\n",
              "      <th>370346</th>\n",
              "      <td>2992</td>\n",
              "      <td>2570</td>\n",
              "      <td>4.5</td>\n",
              "      <td>h5bp8gnhYGF23GIlvMyQ1A</td>\n",
              "      <td>t33qVzQ6AdSiq4lnI0KOyg</td>\n",
              "    </tr>\n",
              "    <tr>\n",
              "      <th>361514</th>\n",
              "      <td>457</td>\n",
              "      <td>1641</td>\n",
              "      <td>4.0</td>\n",
              "      <td>5Wg5OanfZ4-2dCxEo-qjsw</td>\n",
              "      <td>YXohNvMTCmGhFMSQsDZq1g</td>\n",
              "    </tr>\n",
              "    <tr>\n",
              "      <th>801991</th>\n",
              "      <td>2620</td>\n",
              "      <td>130</td>\n",
              "      <td>4.0</td>\n",
              "      <td>bTTZzC8RvTxTOeGMvJ5icQ</td>\n",
              "      <td>1Vn_lex3LGGwuTo-xeJnww</td>\n",
              "    </tr>\n",
              "    <tr>\n",
              "      <th>677306</th>\n",
              "      <td>3092</td>\n",
              "      <td>1996</td>\n",
              "      <td>3.0</td>\n",
              "      <td>iSC96O2NjQc3JExGUHQG0Q</td>\n",
              "      <td>fpM-O9Ul62xizBq9YNO_tQ</td>\n",
              "    </tr>\n",
              "    <tr>\n",
              "      <th>415297</th>\n",
              "      <td>3174</td>\n",
              "      <td>2601</td>\n",
              "      <td>3.5</td>\n",
              "      <td>jo8vV5iUZLHp617cTKZ7mA</td>\n",
              "      <td>u-67zd1ImTv3EEr5kIdWrA</td>\n",
              "    </tr>\n",
              "  </tbody>\n",
              "</table>\n",
              "<p>167408 rows × 5 columns</p>\n",
              "</div>"
            ],
            "text/plain": [
              "         User_ID_code  ...             business_id\n",
              "518440            326  ...  7vHvQCjPq5pWj7Rio1A--w\n",
              "303085           1870  ...  iAu8s96GKQ73Xe7j_2GyCQ\n",
              "1048374            86  ...  QJcJaqhxFGaj0V6rRWupvA\n",
              "1035871          3846  ...  8eSmXnZG0N1GRsqiFeU9uA\n",
              "948435            244  ...  qJ18IGaDsQtzJ6v2UzkdcQ\n",
              "...               ...  ...                     ...\n",
              "370346           2992  ...  t33qVzQ6AdSiq4lnI0KOyg\n",
              "361514            457  ...  YXohNvMTCmGhFMSQsDZq1g\n",
              "801991           2620  ...  1Vn_lex3LGGwuTo-xeJnww\n",
              "677306           3092  ...  fpM-O9Ul62xizBq9YNO_tQ\n",
              "415297           3174  ...  u-67zd1ImTv3EEr5kIdWrA\n",
              "\n",
              "[167408 rows x 5 columns]"
            ]
          },
          "metadata": {
            "tags": []
          },
          "execution_count": 18
        }
      ]
    },
    {
      "cell_type": "code",
      "metadata": {
        "id": "fjEoJbkeAG4w",
        "colab_type": "code",
        "outputId": "9b84484e-ec08-4125-95ee-23373e34ad85",
        "colab": {
          "base_uri": "https://localhost:8080/",
          "height": 417
        }
      },
      "source": [
        "test_data"
      ],
      "execution_count": 0,
      "outputs": [
        {
          "output_type": "execute_result",
          "data": {
            "text/html": [
              "<div>\n",
              "<style scoped>\n",
              "    .dataframe tbody tr th:only-of-type {\n",
              "        vertical-align: middle;\n",
              "    }\n",
              "\n",
              "    .dataframe tbody tr th {\n",
              "        vertical-align: top;\n",
              "    }\n",
              "\n",
              "    .dataframe thead th {\n",
              "        text-align: right;\n",
              "    }\n",
              "</style>\n",
              "<table border=\"1\" class=\"dataframe\">\n",
              "  <thead>\n",
              "    <tr style=\"text-align: right;\">\n",
              "      <th></th>\n",
              "      <th>User_ID_code</th>\n",
              "      <th>Business_ID_code</th>\n",
              "      <th>stars_x</th>\n",
              "      <th>user_id</th>\n",
              "      <th>business_id</th>\n",
              "    </tr>\n",
              "  </thead>\n",
              "  <tbody>\n",
              "    <tr>\n",
              "      <th>281377</th>\n",
              "      <td>1530</td>\n",
              "      <td>2437</td>\n",
              "      <td>4.0</td>\n",
              "      <td>LNEXz0drBNtLHwrb1G-VPA</td>\n",
              "      <td>pyqnGlIfP9Zw8LLxBjyAiA</td>\n",
              "    </tr>\n",
              "    <tr>\n",
              "      <th>1058137</th>\n",
              "      <td>3306</td>\n",
              "      <td>2469</td>\n",
              "      <td>4.0</td>\n",
              "      <td>lgoMChnRVAP_s_OgHQa56Q</td>\n",
              "      <td>qTTBJ83d-nWSnQpXyd44gA</td>\n",
              "    </tr>\n",
              "    <tr>\n",
              "      <th>1071213</th>\n",
              "      <td>3419</td>\n",
              "      <td>1840</td>\n",
              "      <td>3.5</td>\n",
              "      <td>nE7Epekn7pdzEoZNlKW0qw</td>\n",
              "      <td>cUpdeZJawIwOl6G21z7CzA</td>\n",
              "    </tr>\n",
              "    <tr>\n",
              "      <th>1096643</th>\n",
              "      <td>3913</td>\n",
              "      <td>9</td>\n",
              "      <td>4.0</td>\n",
              "      <td>utS9ZAswZZx3QkegS_25SA</td>\n",
              "      <td>-ADtl9bLp8wNqYX1k3KuxA</td>\n",
              "    </tr>\n",
              "    <tr>\n",
              "      <th>143106</th>\n",
              "      <td>3340</td>\n",
              "      <td>1356</td>\n",
              "      <td>3.0</td>\n",
              "      <td>m2vjSXdfs19kNnqUUpAmOQ</td>\n",
              "      <td>SktLID5_ywSlgVE-h3NB3Q</td>\n",
              "    </tr>\n",
              "    <tr>\n",
              "      <th>...</th>\n",
              "      <td>...</td>\n",
              "      <td>...</td>\n",
              "      <td>...</td>\n",
              "      <td>...</td>\n",
              "      <td>...</td>\n",
              "    </tr>\n",
              "    <tr>\n",
              "      <th>778928</th>\n",
              "      <td>1762</td>\n",
              "      <td>931</td>\n",
              "      <td>4.5</td>\n",
              "      <td>P7Qt34VblZupUifRJ_5hbA</td>\n",
              "      <td>JJAwT9R6Fp2yyWHtWFA8uQ</td>\n",
              "    </tr>\n",
              "    <tr>\n",
              "      <th>956335</th>\n",
              "      <td>2262</td>\n",
              "      <td>202</td>\n",
              "      <td>3.5</td>\n",
              "      <td>WgRKynZBQSdrSYOCAf3JXg</td>\n",
              "      <td>3QcTqsdxQBlSndBdMJBRhQ</td>\n",
              "    </tr>\n",
              "    <tr>\n",
              "      <th>114116</th>\n",
              "      <td>2488</td>\n",
              "      <td>1383</td>\n",
              "      <td>4.0</td>\n",
              "      <td>_8y-kAoK4BQ_MmzawRpQFw</td>\n",
              "      <td>TCoBE_BkDRrK0bWrh5VueQ</td>\n",
              "    </tr>\n",
              "    <tr>\n",
              "      <th>546125</th>\n",
              "      <td>4004</td>\n",
              "      <td>2494</td>\n",
              "      <td>4.0</td>\n",
              "      <td>wQCiczL6MRfBNeW1lCGCiw</td>\n",
              "      <td>r6WO_jkx4rkMMauvPvMDeQ</td>\n",
              "    </tr>\n",
              "    <tr>\n",
              "      <th>269002</th>\n",
              "      <td>3187</td>\n",
              "      <td>1483</td>\n",
              "      <td>3.5</td>\n",
              "      <td>k4M43lXJuQMpQW65DTqzIQ</td>\n",
              "      <td>VGWEpMEkzQopS5lUNd06Sw</td>\n",
              "    </tr>\n",
              "  </tbody>\n",
              "</table>\n",
              "<p>55803 rows × 5 columns</p>\n",
              "</div>"
            ],
            "text/plain": [
              "         User_ID_code  ...             business_id\n",
              "281377           1530  ...  pyqnGlIfP9Zw8LLxBjyAiA\n",
              "1058137          3306  ...  qTTBJ83d-nWSnQpXyd44gA\n",
              "1071213          3419  ...  cUpdeZJawIwOl6G21z7CzA\n",
              "1096643          3913  ...  -ADtl9bLp8wNqYX1k3KuxA\n",
              "143106           3340  ...  SktLID5_ywSlgVE-h3NB3Q\n",
              "...               ...  ...                     ...\n",
              "778928           1762  ...  JJAwT9R6Fp2yyWHtWFA8uQ\n",
              "956335           2262  ...  3QcTqsdxQBlSndBdMJBRhQ\n",
              "114116           2488  ...  TCoBE_BkDRrK0bWrh5VueQ\n",
              "546125           4004  ...  r6WO_jkx4rkMMauvPvMDeQ\n",
              "269002           3187  ...  VGWEpMEkzQopS5lUNd06Sw\n",
              "\n",
              "[55803 rows x 5 columns]"
            ]
          },
          "metadata": {
            "tags": []
          },
          "execution_count": 19
        }
      ]
    },
    {
      "cell_type": "code",
      "metadata": {
        "id": "wnE7F_EoAVRE",
        "colab_type": "code",
        "colab": {}
      },
      "source": [
        "import numpy as np"
      ],
      "execution_count": 0,
      "outputs": []
    },
    {
      "cell_type": "code",
      "metadata": {
        "id": "y6WUodR7VBuR",
        "colab_type": "code",
        "colab": {}
      },
      "source": [
        "train_data"
      ],
      "execution_count": 0,
      "outputs": []
    },
    {
      "cell_type": "code",
      "metadata": {
        "id": "dnvS5r-ZAIFb",
        "colab_type": "code",
        "colab": {}
      },
      "source": [
        "train_data_matrix = np.zeros((n_users, n_items))\n",
        "for line in train_data.itertuples():\n",
        "    train_data_matrix[line[1], line[2]] = line[3]  \n",
        "\n",
        "test_data_matrix = np.zeros((n_users, n_items))\n",
        "for line in test_data.itertuples():\n",
        "    test_data_matrix[line[1]-1, line[2]-1] = line[3]"
      ],
      "execution_count": 0,
      "outputs": []
    },
    {
      "cell_type": "code",
      "metadata": {
        "id": "xgyTq4bYAS4P",
        "colab_type": "code",
        "outputId": "e29fe960-3466-436d-9876-add0d8ed3fef",
        "colab": {
          "base_uri": "https://localhost:8080/",
          "height": 35
        }
      },
      "source": [
        "train_data_matrix.shape"
      ],
      "execution_count": 0,
      "outputs": [
        {
          "output_type": "execute_result",
          "data": {
            "text/plain": [
              "(4249, 2845)"
            ]
          },
          "metadata": {
            "tags": []
          },
          "execution_count": 22
        }
      ]
    },
    {
      "cell_type": "code",
      "metadata": {
        "id": "1PFGOE0gCeZ2",
        "colab_type": "code",
        "colab": {}
      },
      "source": [
        "from sklearn.metrics.pairwise import pairwise_distances\n",
        "user_similarity = pairwise_distances(train_data_matrix, metric='cosine')\n",
        "item_similarity = pairwise_distances(train_data_matrix.T, metric='cosine')"
      ],
      "execution_count": 0,
      "outputs": []
    },
    {
      "cell_type": "code",
      "metadata": {
        "id": "wUO3Vq71D6An",
        "colab_type": "code",
        "colab": {}
      },
      "source": [
        "def predict(ratings, similarity, type='user'):\n",
        "    if type == 'user':\n",
        "        mean_user_rating = ratings.mean(axis=1)\n",
        "        #You use np.newaxis so that mean_user_rating has same format as ratings\n",
        "        ratings_diff = (ratings - mean_user_rating[:, np.newaxis]) \n",
        "        pred = mean_user_rating[:, np.newaxis] + similarity.dot(ratings_diff) / np.array([np.abs(similarity).sum(axis=1)]).T\n",
        "    elif type == 'item':\n",
        "        pred = ratings.dot(similarity) / np.array([np.abs(similarity).sum(axis=1)])     \n",
        "    return pred"
      ],
      "execution_count": 0,
      "outputs": []
    },
    {
      "cell_type": "code",
      "metadata": {
        "id": "iQyrC4MMuUcS",
        "colab_type": "code",
        "outputId": "12f61396-720e-4e5f-d229-ba92f8f6b8c4",
        "colab": {
          "base_uri": "https://localhost:8080/",
          "height": 140
        }
      },
      "source": [
        "train_data_matrix"
      ],
      "execution_count": 0,
      "outputs": [
        {
          "output_type": "execute_result",
          "data": {
            "text/plain": [
              "array([[4., 0., 0., ..., 0., 0., 0.],\n",
              "       [0., 0., 0., ..., 0., 0., 0.],\n",
              "       [0., 0., 0., ..., 0., 0., 0.],\n",
              "       ...,\n",
              "       [0., 0., 0., ..., 0., 0., 0.],\n",
              "       [0., 0., 0., ..., 0., 0., 0.],\n",
              "       [0., 0., 0., ..., 0., 0., 0.]])"
            ]
          },
          "metadata": {
            "tags": []
          },
          "execution_count": 25
        }
      ]
    },
    {
      "cell_type": "code",
      "metadata": {
        "id": "_98cMuqiD56i",
        "colab_type": "code",
        "colab": {}
      },
      "source": [
        "item_prediction = predict(train_data_matrix, item_similarity, type='item')\n",
        "user_prediction = predict(train_data_matrix, user_similarity, type='user')"
      ],
      "execution_count": 0,
      "outputs": []
    },
    {
      "cell_type": "code",
      "metadata": {
        "id": "ENeA63G3uBBM",
        "colab_type": "code",
        "outputId": "7996c68a-bdb8-4112-e17d-87b274f89b3d",
        "colab": {
          "base_uri": "https://localhost:8080/",
          "height": 140
        }
      },
      "source": [
        "test_data_matrix"
      ],
      "execution_count": 0,
      "outputs": [
        {
          "output_type": "execute_result",
          "data": {
            "text/plain": [
              "array([[0., 0., 0., ..., 0., 0., 0.],\n",
              "       [0., 0., 0., ..., 0., 0., 0.],\n",
              "       [0., 0., 0., ..., 0., 0., 0.],\n",
              "       ...,\n",
              "       [0., 0., 0., ..., 0., 0., 0.],\n",
              "       [0., 0., 0., ..., 0., 0., 0.],\n",
              "       [0., 0., 0., ..., 0., 0., 0.]])"
            ]
          },
          "metadata": {
            "tags": []
          },
          "execution_count": 29
        }
      ]
    },
    {
      "cell_type": "code",
      "metadata": {
        "id": "EmglOh-dEB5M",
        "colab_type": "code",
        "colab": {}
      },
      "source": [
        "from sklearn.metrics import mean_squared_error\n",
        "from math import sqrt\n",
        "def rmse(prediction, ground_truth):\n",
        "    prediction = prediction[ground_truth.nonzero()].flatten() \n",
        "    ground_truth = ground_truth[ground_truth.nonzero()].flatten()\n",
        "    return sqrt(mean_squared_error(prediction, ground_truth))"
      ],
      "execution_count": 0,
      "outputs": []
    },
    {
      "cell_type": "code",
      "metadata": {
        "id": "hd5lavpLBdN0",
        "colab_type": "code",
        "colab": {}
      },
      "source": [
        "from sklearn.metrics import mean_absolute_error\n",
        "def mae(prediction, ground_truth):\n",
        "    prediction = prediction[ground_truth.nonzero()].flatten()\n",
        "    ground_truth = ground_truth[ground_truth.nonzero()].flatten()\n",
        "    return mean_absolute_error(prediction, ground_truth)"
      ],
      "execution_count": 0,
      "outputs": []
    },
    {
      "cell_type": "code",
      "metadata": {
        "id": "IAuVu7eGEGHi",
        "colab_type": "code",
        "outputId": "c8cbc91a-76f9-4f66-93d3-5d521c7b9bfb",
        "colab": {
          "base_uri": "https://localhost:8080/",
          "height": 52
        }
      },
      "source": [
        "print('User-based CF RMSE: ' + str(rmse(user_prediction, test_data_matrix)))\n",
        "print('Item-based CF RMSE: ' + str(rmse(item_prediction, test_data_matrix)))"
      ],
      "execution_count": 0,
      "outputs": [
        {
          "output_type": "stream",
          "text": [
            "User-based CF RMSE: 3.844145228004285\n",
            "Item-based CF RMSE: 3.8460303092556627\n"
          ],
          "name": "stdout"
        }
      ]
    },
    {
      "cell_type": "code",
      "metadata": {
        "id": "YmZVIOrRBlZo",
        "colab_type": "code",
        "outputId": "c985aefd-b4b8-47d7-a7f4-d859ef6a6b55",
        "colab": {
          "base_uri": "https://localhost:8080/",
          "height": 52
        }
      },
      "source": [
        "print('User-based CF MAE: ' + str(mae(user_prediction, test_data_matrix)))\n",
        "print('Item-based CF MAE: ' + str(mae(item_prediction, test_data_matrix)))"
      ],
      "execution_count": 0,
      "outputs": [
        {
          "output_type": "stream",
          "text": [
            "User-based CF MAE: 3.804799925822895\n",
            "Item-based CF MAE: 3.806890628699076\n"
          ],
          "name": "stdout"
        }
      ]
    },
    {
      "cell_type": "code",
      "metadata": {
        "id": "YF6G7wGhCjwU",
        "colab_type": "code",
        "outputId": "3c737651-6eb8-4495-af1a-dbfc749fc386",
        "colab": {
          "base_uri": "https://localhost:8080/",
          "height": 35
        }
      },
      "source": [
        "sparsity=round(1.0-len(df)/float(n_users*n_items),3)\n",
        "print('The sparsity level of Business_Data is ' +  str(sparsity*100) + '%')"
      ],
      "execution_count": 0,
      "outputs": [
        {
          "output_type": "stream",
          "text": [
            "The sparsity level of Business_Data is 98.2%\n"
          ],
          "name": "stdout"
        }
      ]
    },
    {
      "cell_type": "code",
      "metadata": {
        "id": "GlNjy6kECKzh",
        "colab_type": "code",
        "outputId": "fd619603-1661-4695-f1e6-8b211cfb0fca",
        "colab": {
          "base_uri": "https://localhost:8080/",
          "height": 35
        }
      },
      "source": [
        "print('SVD Model CF MAE: ' + str(mae(X_pred, test_data_matrix)))"
      ],
      "execution_count": 0,
      "outputs": [
        {
          "output_type": "stream",
          "text": [
            "SVD Model CF MAE: 3.8102974522939403\n"
          ],
          "name": "stdout"
        }
      ]
    },
    {
      "cell_type": "code",
      "metadata": {
        "id": "goDk0o6KW0w2",
        "colab_type": "code",
        "colab": {}
      },
      "source": [
        "#import turicreate\n",
        "from turicreate import SFrame\n",
        "import pandas as pd"
      ],
      "execution_count": 0,
      "outputs": []
    },
    {
      "cell_type": "code",
      "metadata": {
        "id": "WeLXLU8nZ7rL",
        "colab_type": "code",
        "colab": {}
      },
      "source": [
        "df = pd.DataFrame()\n",
        "sf = SFrame(data=df)"
      ],
      "execution_count": 0,
      "outputs": []
    },
    {
      "cell_type": "code",
      "metadata": {
        "id": "APG3le7LaTNy",
        "colab_type": "code",
        "colab": {}
      },
      "source": [
        "sf_train = SFrame(train_data)\n",
        "sf_test = SFrame(test_data)"
      ],
      "execution_count": 0,
      "outputs": []
    },
    {
      "cell_type": "code",
      "metadata": {
        "id": "dVFi_Hkfa9Qz",
        "colab_type": "code",
        "outputId": "0073c0ab-4f5e-4661-cc80-f6a85fb8f8f1",
        "colab": {
          "base_uri": "https://localhost:8080/",
          "height": 276
        }
      },
      "source": [
        "train_data"
      ],
      "execution_count": 0,
      "outputs": [
        {
          "output_type": "execute_result",
          "data": {
            "text/html": [
              "<div style=\"max-height:1000px;max-width:1500px;overflow:auto;\"><table frame=\"box\" rules=\"cols\">\n",
              "    <tr>\n",
              "        <th style=\"padding-left: 1em; padding-right: 1em; text-align: center\">User_ID_code</th>\n",
              "        <th style=\"padding-left: 1em; padding-right: 1em; text-align: center\">Business_ID_code</th>\n",
              "        <th style=\"padding-left: 1em; padding-right: 1em; text-align: center\">stars_x</th>\n",
              "        <th style=\"padding-left: 1em; padding-right: 1em; text-align: center\">user_id</th>\n",
              "        <th style=\"padding-left: 1em; padding-right: 1em; text-align: center\">business_id</th>\n",
              "    </tr>\n",
              "    <tr>\n",
              "        <td style=\"padding-left: 1em; padding-right: 1em; text-align: center; vertical-align: top\">326</td>\n",
              "        <td style=\"padding-left: 1em; padding-right: 1em; text-align: center; vertical-align: top\">400</td>\n",
              "        <td style=\"padding-left: 1em; padding-right: 1em; text-align: center; vertical-align: top\">4.0</td>\n",
              "        <td style=\"padding-left: 1em; padding-right: 1em; text-align: center; vertical-align: top\">3nDUQBjKyVor5wV0reJChg</td>\n",
              "        <td style=\"padding-left: 1em; padding-right: 1em; text-align: center; vertical-align: top\">7vHvQCjPq5pWj7Rio1A--w</td>\n",
              "    </tr>\n",
              "    <tr>\n",
              "        <td style=\"padding-left: 1em; padding-right: 1em; text-align: center; vertical-align: top\">1870</td>\n",
              "        <td style=\"padding-left: 1em; padding-right: 1em; text-align: center; vertical-align: top\">2098</td>\n",
              "        <td style=\"padding-left: 1em; padding-right: 1em; text-align: center; vertical-align: top\">4.0</td>\n",
              "        <td style=\"padding-left: 1em; padding-right: 1em; text-align: center; vertical-align: top\">QqRSNjWhfUFv1ZU0OnYKZQ</td>\n",
              "        <td style=\"padding-left: 1em; padding-right: 1em; text-align: center; vertical-align: top\">iAu8s96GKQ73Xe7j_2GyCQ</td>\n",
              "    </tr>\n",
              "    <tr>\n",
              "        <td style=\"padding-left: 1em; padding-right: 1em; text-align: center; vertical-align: top\">86</td>\n",
              "        <td style=\"padding-left: 1em; padding-right: 1em; text-align: center; vertical-align: top\">1241</td>\n",
              "        <td style=\"padding-left: 1em; padding-right: 1em; text-align: center; vertical-align: top\">2.5</td>\n",
              "        <td style=\"padding-left: 1em; padding-right: 1em; text-align: center; vertical-align: top\">-yQ5tp-artaRI42NVcsUag</td>\n",
              "        <td style=\"padding-left: 1em; padding-right: 1em; text-align: center; vertical-align: top\">QJcJaqhxFGaj0V6rRWupvA</td>\n",
              "    </tr>\n",
              "    <tr>\n",
              "        <td style=\"padding-left: 1em; padding-right: 1em; text-align: center; vertical-align: top\">3846</td>\n",
              "        <td style=\"padding-left: 1em; padding-right: 1em; text-align: center; vertical-align: top\">437</td>\n",
              "        <td style=\"padding-left: 1em; padding-right: 1em; text-align: center; vertical-align: top\">4.0</td>\n",
              "        <td style=\"padding-left: 1em; padding-right: 1em; text-align: center; vertical-align: top\">u0bAtrQrgEoHjFybAl9FeQ</td>\n",
              "        <td style=\"padding-left: 1em; padding-right: 1em; text-align: center; vertical-align: top\">8eSmXnZG0N1GRsqiFeU9uA</td>\n",
              "    </tr>\n",
              "    <tr>\n",
              "        <td style=\"padding-left: 1em; padding-right: 1em; text-align: center; vertical-align: top\">244</td>\n",
              "        <td style=\"padding-left: 1em; padding-right: 1em; text-align: center; vertical-align: top\">2455</td>\n",
              "        <td style=\"padding-left: 1em; padding-right: 1em; text-align: center; vertical-align: top\">3.5</td>\n",
              "        <td style=\"padding-left: 1em; padding-right: 1em; text-align: center; vertical-align: top\">2KXR93JrBu2FOjFIhy0QzA</td>\n",
              "        <td style=\"padding-left: 1em; padding-right: 1em; text-align: center; vertical-align: top\">qJ18IGaDsQtzJ6v2UzkdcQ</td>\n",
              "    </tr>\n",
              "    <tr>\n",
              "        <td style=\"padding-left: 1em; padding-right: 1em; text-align: center; vertical-align: top\">1107</td>\n",
              "        <td style=\"padding-left: 1em; padding-right: 1em; text-align: center; vertical-align: top\">2787</td>\n",
              "        <td style=\"padding-left: 1em; padding-right: 1em; text-align: center; vertical-align: top\">4.5</td>\n",
              "        <td style=\"padding-left: 1em; padding-right: 1em; text-align: center; vertical-align: top\">EgbeJrycEtSkps8UbJRpaQ</td>\n",
              "        <td style=\"padding-left: 1em; padding-right: 1em; text-align: center; vertical-align: top\">ybHlmdUHLPKfv85bRK4Wtw</td>\n",
              "    </tr>\n",
              "    <tr>\n",
              "        <td style=\"padding-left: 1em; padding-right: 1em; text-align: center; vertical-align: top\">1516</td>\n",
              "        <td style=\"padding-left: 1em; padding-right: 1em; text-align: center; vertical-align: top\">1486</td>\n",
              "        <td style=\"padding-left: 1em; padding-right: 1em; text-align: center; vertical-align: top\">4.5</td>\n",
              "        <td style=\"padding-left: 1em; padding-right: 1em; text-align: center; vertical-align: top\">L8P5OWO1Jh4B2HLa1Fnbng</td>\n",
              "        <td style=\"padding-left: 1em; padding-right: 1em; text-align: center; vertical-align: top\">VIW-4GDAKGaXUdLtTVSFqQ</td>\n",
              "    </tr>\n",
              "    <tr>\n",
              "        <td style=\"padding-left: 1em; padding-right: 1em; text-align: center; vertical-align: top\">4184</td>\n",
              "        <td style=\"padding-left: 1em; padding-right: 1em; text-align: center; vertical-align: top\">2067</td>\n",
              "        <td style=\"padding-left: 1em; padding-right: 1em; text-align: center; vertical-align: top\">4.5</td>\n",
              "        <td style=\"padding-left: 1em; padding-right: 1em; text-align: center; vertical-align: top\">yyDp7MZ2st7p0fOQuFYpcA</td>\n",
              "        <td style=\"padding-left: 1em; padding-right: 1em; text-align: center; vertical-align: top\">hV4j36jlyeBwTW_9uQiTjQ</td>\n",
              "    </tr>\n",
              "    <tr>\n",
              "        <td style=\"padding-left: 1em; padding-right: 1em; text-align: center; vertical-align: top\">3227</td>\n",
              "        <td style=\"padding-left: 1em; padding-right: 1em; text-align: center; vertical-align: top\">2596</td>\n",
              "        <td style=\"padding-left: 1em; padding-right: 1em; text-align: center; vertical-align: top\">4.5</td>\n",
              "        <td style=\"padding-left: 1em; padding-right: 1em; text-align: center; vertical-align: top\">keBv05MsMFBd0Hu98vXThQ</td>\n",
              "        <td style=\"padding-left: 1em; padding-right: 1em; text-align: center; vertical-align: top\">tsf1JNdeeQf_654YUSrzRw</td>\n",
              "    </tr>\n",
              "    <tr>\n",
              "        <td style=\"padding-left: 1em; padding-right: 1em; text-align: center; vertical-align: top\">3570</td>\n",
              "        <td style=\"padding-left: 1em; padding-right: 1em; text-align: center; vertical-align: top\">193</td>\n",
              "        <td style=\"padding-left: 1em; padding-right: 1em; text-align: center; vertical-align: top\">4.0</td>\n",
              "        <td style=\"padding-left: 1em; padding-right: 1em; text-align: center; vertical-align: top\">pWlelwBYGwvzISHzauw6-A</td>\n",
              "        <td style=\"padding-left: 1em; padding-right: 1em; text-align: center; vertical-align: top\">35lDiS--Zx-8HLwv2EZBGQ</td>\n",
              "    </tr>\n",
              "</table>\n",
              "[167408 rows x 5 columns]<br/>Note: Only the head of the SFrame is printed.<br/>You can use print_rows(num_rows=m, num_columns=n) to print more rows and columns.\n",
              "</div>"
            ],
            "text/plain": [
              "Columns:\n",
              "\tUser_ID_code\tint\n",
              "\tBusiness_ID_code\tint\n",
              "\tstars_x\tfloat\n",
              "\tuser_id\tstr\n",
              "\tbusiness_id\tstr\n",
              "\n",
              "Rows: 167408\n",
              "\n",
              "Data:\n",
              "+--------------+------------------+---------+------------------------+\n",
              "| User_ID_code | Business_ID_code | stars_x |        user_id         |\n",
              "+--------------+------------------+---------+------------------------+\n",
              "|     326      |       400        |   4.0   | 3nDUQBjKyVor5wV0reJChg |\n",
              "|     1870     |       2098       |   4.0   | QqRSNjWhfUFv1ZU0OnYKZQ |\n",
              "|      86      |       1241       |   2.5   | -yQ5tp-artaRI42NVcsUag |\n",
              "|     3846     |       437        |   4.0   | u0bAtrQrgEoHjFybAl9FeQ |\n",
              "|     244      |       2455       |   3.5   | 2KXR93JrBu2FOjFIhy0QzA |\n",
              "|     1107     |       2787       |   4.5   | EgbeJrycEtSkps8UbJRpaQ |\n",
              "|     1516     |       1486       |   4.5   | L8P5OWO1Jh4B2HLa1Fnbng |\n",
              "|     4184     |       2067       |   4.5   | yyDp7MZ2st7p0fOQuFYpcA |\n",
              "|     3227     |       2596       |   4.5   | keBv05MsMFBd0Hu98vXThQ |\n",
              "|     3570     |       193        |   4.0   | pWlelwBYGwvzISHzauw6-A |\n",
              "+--------------+------------------+---------+------------------------+\n",
              "+------------------------+\n",
              "|      business_id       |\n",
              "+------------------------+\n",
              "| 7vHvQCjPq5pWj7Rio1A--w |\n",
              "| iAu8s96GKQ73Xe7j_2GyCQ |\n",
              "| QJcJaqhxFGaj0V6rRWupvA |\n",
              "| 8eSmXnZG0N1GRsqiFeU9uA |\n",
              "| qJ18IGaDsQtzJ6v2UzkdcQ |\n",
              "| ybHlmdUHLPKfv85bRK4Wtw |\n",
              "| VIW-4GDAKGaXUdLtTVSFqQ |\n",
              "| hV4j36jlyeBwTW_9uQiTjQ |\n",
              "| tsf1JNdeeQf_654YUSrzRw |\n",
              "| 35lDiS--Zx-8HLwv2EZBGQ |\n",
              "+------------------------+\n",
              "[167408 rows x 5 columns]\n",
              "Note: Only the head of the SFrame is printed.\n",
              "You can use print_rows(num_rows=m, num_columns=n) to print more rows and columns."
            ]
          },
          "metadata": {
            "tags": []
          },
          "execution_count": 51
        }
      ]
    },
    {
      "cell_type": "code",
      "metadata": {
        "id": "jc9ajkPjaqIw",
        "colab_type": "code",
        "outputId": "8571616d-6e84-4d31-d705-0dd63cc347d9",
        "colab": {
          "base_uri": "https://localhost:8080/",
          "height": 120
        }
      },
      "source": [
        "popularity_model = turicreate.popularity_recommender.create(sf_train, user_id='user_id', item_id='business_id', target='stars_x')"
      ],
      "execution_count": 0,
      "outputs": [
        {
          "output_type": "display_data",
          "data": {
            "text/html": [
              "<pre>Warning: Ignoring columns User_ID_code, Business_ID_code;</pre>"
            ],
            "text/plain": [
              "Warning: Ignoring columns User_ID_code, Business_ID_code;"
            ]
          },
          "metadata": {
            "tags": []
          }
        },
        {
          "output_type": "display_data",
          "data": {
            "text/html": [
              "<pre>    To use these columns in scoring predictions, use a model that allows the use of additional features.</pre>"
            ],
            "text/plain": [
              "    To use these columns in scoring predictions, use a model that allows the use of additional features."
            ]
          },
          "metadata": {
            "tags": []
          }
        },
        {
          "output_type": "display_data",
          "data": {
            "text/html": [
              "<pre>Preparing data set.</pre>"
            ],
            "text/plain": [
              "Preparing data set."
            ]
          },
          "metadata": {
            "tags": []
          }
        },
        {
          "output_type": "display_data",
          "data": {
            "text/html": [
              "<pre>    Data has 167408 observations with 4249 users and 2844 items.</pre>"
            ],
            "text/plain": [
              "    Data has 167408 observations with 4249 users and 2844 items."
            ]
          },
          "metadata": {
            "tags": []
          }
        },
        {
          "output_type": "display_data",
          "data": {
            "text/html": [
              "<pre>    Data prepared in: 0.209513s</pre>"
            ],
            "text/plain": [
              "    Data prepared in: 0.209513s"
            ]
          },
          "metadata": {
            "tags": []
          }
        },
        {
          "output_type": "display_data",
          "data": {
            "text/html": [
              "<pre>167408 observations to process; with 2844 unique items.</pre>"
            ],
            "text/plain": [
              "167408 observations to process; with 2844 unique items."
            ]
          },
          "metadata": {
            "tags": []
          }
        }
      ]
    },
    {
      "cell_type": "code",
      "metadata": {
        "id": "42Uzq_oDbXfo",
        "colab_type": "code",
        "outputId": "a8c159ac-a5af-4760-8ba4-705ea9663a19",
        "colab": {
          "base_uri": "https://localhost:8080/",
          "height": 211
        }
      },
      "source": [
        "popularity_recomm = popularity_model.recommend(users=['3nDUQBjKyVor5wV0reJChg'],k=5)\n",
        "popularity_recomm.print_rows(num_rows=25)"
      ],
      "execution_count": 0,
      "outputs": [
        {
          "output_type": "stream",
          "text": [
            "+------------------------+------------------------+-------+------+\n",
            "|        user_id         |      business_id       | score | rank |\n",
            "+------------------------+------------------------+-------+------+\n",
            "| 3nDUQBjKyVor5wV0reJChg | k9b96JXlNewj36ddrce9Jw |  5.0  |  1   |\n",
            "| 3nDUQBjKyVor5wV0reJChg | kafUXRNfQm3e_U14S2WbmA |  5.0  |  2   |\n",
            "| 3nDUQBjKyVor5wV0reJChg | inXu0sfSxf7PF4GvWTfbEg |  5.0  |  3   |\n",
            "| 3nDUQBjKyVor5wV0reJChg | IhNASEZ3XnBHmuuVnWdIwA |  5.0  |  4   |\n",
            "| 3nDUQBjKyVor5wV0reJChg | 7RR1rbyEKKo2G-RACqAfoA |  5.0  |  5   |\n",
            "+------------------------+------------------------+-------+------+\n",
            "[5 rows x 4 columns]\n",
            "\n"
          ],
          "name": "stdout"
        }
      ]
    },
    {
      "cell_type": "code",
      "metadata": {
        "id": "An7tY8N6blpP",
        "colab_type": "code",
        "outputId": "78728075-2ea1-4bb0-9326-02277f18f6e7",
        "colab": {
          "base_uri": "https://localhost:8080/",
          "height": 623
        }
      },
      "source": [
        "#Training the model\n",
        "item_sim_model = turicreate.item_similarity_recommender.create(train_data, user_id='user_id', item_id='business_id', target='stars_x', similarity_type='cosine')\n",
        "\n",
        "#Making recommendations\n",
        "item_sim_recomm = item_sim_model.recommend(users=['3nDUQBjKyVor5wV0reJChg'],k=5)\n",
        "item_sim_recomm.print_rows(num_rows=25)"
      ],
      "execution_count": 0,
      "outputs": [
        {
          "output_type": "display_data",
          "data": {
            "text/html": [
              "<pre>Warning: Ignoring columns User_ID_code, Business_ID_code;</pre>"
            ],
            "text/plain": [
              "Warning: Ignoring columns User_ID_code, Business_ID_code;"
            ]
          },
          "metadata": {
            "tags": []
          }
        },
        {
          "output_type": "display_data",
          "data": {
            "text/html": [
              "<pre>    To use these columns in scoring predictions, use a model that allows the use of additional features.</pre>"
            ],
            "text/plain": [
              "    To use these columns in scoring predictions, use a model that allows the use of additional features."
            ]
          },
          "metadata": {
            "tags": []
          }
        },
        {
          "output_type": "display_data",
          "data": {
            "text/html": [
              "<pre>Preparing data set.</pre>"
            ],
            "text/plain": [
              "Preparing data set."
            ]
          },
          "metadata": {
            "tags": []
          }
        },
        {
          "output_type": "display_data",
          "data": {
            "text/html": [
              "<pre>    Data has 167408 observations with 4249 users and 2844 items.</pre>"
            ],
            "text/plain": [
              "    Data has 167408 observations with 4249 users and 2844 items."
            ]
          },
          "metadata": {
            "tags": []
          }
        },
        {
          "output_type": "display_data",
          "data": {
            "text/html": [
              "<pre>    Data prepared in: 0.233145s</pre>"
            ],
            "text/plain": [
              "    Data prepared in: 0.233145s"
            ]
          },
          "metadata": {
            "tags": []
          }
        },
        {
          "output_type": "display_data",
          "data": {
            "text/html": [
              "<pre>Training model from provided data.</pre>"
            ],
            "text/plain": [
              "Training model from provided data."
            ]
          },
          "metadata": {
            "tags": []
          }
        },
        {
          "output_type": "display_data",
          "data": {
            "text/html": [
              "<pre>Gathering per-item and per-user statistics.</pre>"
            ],
            "text/plain": [
              "Gathering per-item and per-user statistics."
            ]
          },
          "metadata": {
            "tags": []
          }
        },
        {
          "output_type": "display_data",
          "data": {
            "text/html": [
              "<pre>+--------------------------------+------------+</pre>"
            ],
            "text/plain": [
              "+--------------------------------+------------+"
            ]
          },
          "metadata": {
            "tags": []
          }
        },
        {
          "output_type": "display_data",
          "data": {
            "text/html": [
              "<pre>| Elapsed Time (Item Statistics) | % Complete |</pre>"
            ],
            "text/plain": [
              "| Elapsed Time (Item Statistics) | % Complete |"
            ]
          },
          "metadata": {
            "tags": []
          }
        },
        {
          "output_type": "display_data",
          "data": {
            "text/html": [
              "<pre>+--------------------------------+------------+</pre>"
            ],
            "text/plain": [
              "+--------------------------------+------------+"
            ]
          },
          "metadata": {
            "tags": []
          }
        },
        {
          "output_type": "display_data",
          "data": {
            "text/html": [
              "<pre>| 5.1ms                          | 23.5       |</pre>"
            ],
            "text/plain": [
              "| 5.1ms                          | 23.5       |"
            ]
          },
          "metadata": {
            "tags": []
          }
        },
        {
          "output_type": "display_data",
          "data": {
            "text/html": [
              "<pre>| 13.82ms                        | 100        |</pre>"
            ],
            "text/plain": [
              "| 13.82ms                        | 100        |"
            ]
          },
          "metadata": {
            "tags": []
          }
        },
        {
          "output_type": "display_data",
          "data": {
            "text/html": [
              "<pre>+--------------------------------+------------+</pre>"
            ],
            "text/plain": [
              "+--------------------------------+------------+"
            ]
          },
          "metadata": {
            "tags": []
          }
        },
        {
          "output_type": "display_data",
          "data": {
            "text/html": [
              "<pre>Setting up lookup tables.</pre>"
            ],
            "text/plain": [
              "Setting up lookup tables."
            ]
          },
          "metadata": {
            "tags": []
          }
        },
        {
          "output_type": "display_data",
          "data": {
            "text/html": [
              "<pre>Processing data in one pass using dense lookup tables.</pre>"
            ],
            "text/plain": [
              "Processing data in one pass using dense lookup tables."
            ]
          },
          "metadata": {
            "tags": []
          }
        },
        {
          "output_type": "display_data",
          "data": {
            "text/html": [
              "<pre>+-------------------------------------+------------------+-----------------+</pre>"
            ],
            "text/plain": [
              "+-------------------------------------+------------------+-----------------+"
            ]
          },
          "metadata": {
            "tags": []
          }
        },
        {
          "output_type": "display_data",
          "data": {
            "text/html": [
              "<pre>| Elapsed Time (Constructing Lookups) | Total % Complete | Items Processed |</pre>"
            ],
            "text/plain": [
              "| Elapsed Time (Constructing Lookups) | Total % Complete | Items Processed |"
            ]
          },
          "metadata": {
            "tags": []
          }
        },
        {
          "output_type": "display_data",
          "data": {
            "text/html": [
              "<pre>+-------------------------------------+------------------+-----------------+</pre>"
            ],
            "text/plain": [
              "+-------------------------------------+------------------+-----------------+"
            ]
          },
          "metadata": {
            "tags": []
          }
        },
        {
          "output_type": "display_data",
          "data": {
            "text/html": [
              "<pre>| 113.449ms                           | 0.75             | 22              |</pre>"
            ],
            "text/plain": [
              "| 113.449ms                           | 0.75             | 22              |"
            ]
          },
          "metadata": {
            "tags": []
          }
        },
        {
          "output_type": "display_data",
          "data": {
            "text/html": [
              "<pre>| 392.186ms                           | 100              | 2844            |</pre>"
            ],
            "text/plain": [
              "| 392.186ms                           | 100              | 2844            |"
            ]
          },
          "metadata": {
            "tags": []
          }
        },
        {
          "output_type": "display_data",
          "data": {
            "text/html": [
              "<pre>+-------------------------------------+------------------+-----------------+</pre>"
            ],
            "text/plain": [
              "+-------------------------------------+------------------+-----------------+"
            ]
          },
          "metadata": {
            "tags": []
          }
        },
        {
          "output_type": "display_data",
          "data": {
            "text/html": [
              "<pre>Finalizing lookup tables.</pre>"
            ],
            "text/plain": [
              "Finalizing lookup tables."
            ]
          },
          "metadata": {
            "tags": []
          }
        },
        {
          "output_type": "display_data",
          "data": {
            "text/html": [
              "<pre>Generating candidate set for working with new users.</pre>"
            ],
            "text/plain": [
              "Generating candidate set for working with new users."
            ]
          },
          "metadata": {
            "tags": []
          }
        },
        {
          "output_type": "display_data",
          "data": {
            "text/html": [
              "<pre>Finished training in 0.418584s</pre>"
            ],
            "text/plain": [
              "Finished training in 0.418584s"
            ]
          },
          "metadata": {
            "tags": []
          }
        },
        {
          "output_type": "stream",
          "text": [
            "+------------------------+------------------------+---------------------+------+\n",
            "|        user_id         |      business_id       |        score        | rank |\n",
            "+------------------------+------------------------+---------------------+------+\n",
            "| 3nDUQBjKyVor5wV0reJChg | VHZPbCbIPHEkKOotdCTiow |  0.1216369871492986 |  1   |\n",
            "| 3nDUQBjKyVor5wV0reJChg | IMLrj2klosTFvPRLv56cng | 0.10522490343847475 |  2   |\n",
            "| 3nDUQBjKyVor5wV0reJChg | IhNASEZ3XnBHmuuVnWdIwA | 0.10111868631589663 |  3   |\n",
            "| 3nDUQBjKyVor5wV0reJChg | ZibmYdOPKLlqDM9oR6xzOA | 0.09615115289921528 |  4   |\n",
            "| 3nDUQBjKyVor5wV0reJChg | K7lWdNUhCbcnEvI0NhGewg |  0.0918241076536112 |  5   |\n",
            "+------------------------+------------------------+---------------------+------+\n",
            "[5 rows x 4 columns]\n",
            "\n"
          ],
          "name": "stdout"
        }
      ]
    }
  ]
}